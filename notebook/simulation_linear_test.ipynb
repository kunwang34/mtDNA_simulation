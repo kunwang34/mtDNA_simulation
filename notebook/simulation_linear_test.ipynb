{
 "cells": [
  {
   "cell_type": "code",
   "execution_count": 1,
   "id": "5a62ed20-c233-452b-80a6-bd16d3daa93a",
   "metadata": {},
   "outputs": [
    {
     "name": "stderr",
     "output_type": "stream",
     "text": [
      "/home/wangkun/mtDNA_simulation/notebook/../mtDNAsim/sim_utils.py:5: TqdmExperimentalWarning: Using `tqdm.autonotebook.tqdm` in notebook mode. Use `tqdm.tqdm` instead to force console mode (e.g. in jupyter console)\n",
      "  from tqdm.autonotebook import tqdm\n"
     ]
    }
   ],
   "source": [
    "import sys\n",
    "sys.path.append('..')\n",
    "from mtDNAsim import *\n",
    "import pandas as pd\n",
    "import numpy as np\n",
    "from copy import deepcopy\n",
    "from collections import Counter\n",
    "import argparse\n",
    "import phylovelo as pv"
   ]
  },
  {
   "cell_type": "code",
   "execution_count": 29,
   "id": "b9bf7efa-48b4-4986-a5ef-e17de1c0c26f",
   "metadata": {},
   "outputs": [],
   "source": [
    "import re"
   ]
  },
  {
   "cell_type": "code",
   "execution_count": null,
   "id": "0d7b3442-8b92-48b3-b317-060b739b43ae",
   "metadata": {},
   "outputs": [],
   "source": [
    "parser = argparse.ArgumentParser(description='save file name')\n",
    "parser.add_argument('-p', type=str)\n",
    "parser.add_argument('-f', type=str)\n",
    "filename = parser.parse_args().f\n",
    "data_path = parser.parse_args().p\n",
    "if data_path is None:\n",
    "    data_path = \"../results\""
   ]
  },
  {
   "cell_type": "code",
   "execution_count": 2,
   "id": "208e9657-ef2c-4dd1-af06-52df8a6abb92",
   "metadata": {},
   "outputs": [],
   "source": [
    "filename = 'linear_test'\n",
    "data_path = '../results'"
   ]
  },
  {
   "cell_type": "code",
   "execution_count": 5,
   "id": "30bf8291-d830-4cea-86ba-2569ab94b3c3",
   "metadata": {},
   "outputs": [
    {
     "data": {
      "application/vnd.jupyter.widget-view+json": {
       "model_id": "013e305dd9ff41a3b4a61bc236d1adf0",
       "version_major": 2,
       "version_minor": 0
      },
      "text/plain": [
       "  0%|          | 0/20000 [00:00<?, ?it/s]"
      ]
     },
     "metadata": {},
     "output_type": "display_data"
    }
   ],
   "source": [
    "num_elements = 5\n",
    "system = Gillespie(\n",
    "    num_elements,\n",
    "    inits=[1, 0, 0, 0, 0],\n",
    "    max_cell_num=20000\n",
    ")\n",
    "\n",
    "p0 = lambda t: (1 - 1 / (1 + np.exp(-0.6 * (t - 18))))\n",
    "p1 = lambda t: (1 - 1 / (1 + np.exp(-0.6 * (t - 18))))\n",
    "p2 = lambda t: (1 - 1 / (1 + np.exp(-0.6 * (t - 18))))\n",
    "p3 = lambda t: (1 - 1 / (1 + np.exp(-0.6 * (t - 19))))\n",
    "p4 = lambda t: (1 - 1 / (1 + np.exp(-0.6 * (t - 20))))\n",
    "d0 = lambda t: 1 - p0(t)\n",
    "d1 = lambda t: 1 - p1(t)\n",
    "d2 = lambda t: 1 - p2(t)\n",
    "d3 = lambda t: 1 - p3(t)\n",
    "\n",
    "system.add_reaction(p0, [1, 0, 0, 0, 0], [2, 0, 0, 0, 0], index=0) # 0 self renew\n",
    "system.add_reaction(p1, [0, 1, 0, 0, 0], [0, 2, 0, 0, 0], index=1) # 1 self renew\n",
    "system.add_reaction(p2, [0, 0, 1, 0, 0], [0, 0, 2, 0, 0], index=2) # 2 self renew\n",
    "system.add_reaction(p3, [0, 0, 0, 1, 0], [0, 0, 0, 2, 0], index=3) # 3 self renew\n",
    "system.add_reaction(p4, [0, 0, 0, 0, 1], [0, 0, 0, 0, 2], index=4) # 4 self renew\n",
    "system.add_reaction(d0, [1, 0, 0, 0, 0], [0, 1, 0, 0, 0], index=5) # 0 -> 1 differentiation\n",
    "system.add_reaction(d1, [0, 1, 0, 0, 0], [0, 0, 1, 0, 0], index=6) # 1 -> 2 differentiation\n",
    "system.add_reaction(d2, [0, 0, 1, 0, 0], [0, 0, 0, 1, 0], index=7) # 2 -> 3 differentiation\n",
    "system.add_reaction(d3, [0, 0, 0, 1, 0], [0, 0, 0, 0, 1], index=8) # 3 -> 4 differentiation\n",
    "\n",
    "system.evolute(20000000)"
   ]
  },
  {
   "cell_type": "code",
   "execution_count": 6,
   "id": "710e5f17-74f4-4454-b4f1-0aa060db8c9e",
   "metadata": {},
   "outputs": [],
   "source": [
    "tree_file_name = f\"tree_origin_linear_{filename}.csv\"\n",
    "cell_num_file_name = f\"cell_num_linear_{filename}.csv\"\n",
    "\n",
    "curr_cells = []\n",
    "t = np.array(system.generation_time)\n",
    "cell_num_traj = np.array(system.n)\n",
    "\n",
    "for i in system.curr_cells.values():\n",
    "    curr_cells += i\n",
    "# while tree_file_name in os.listdir(data_path):\n",
    "#     tree_file_name = tree_file_name[:-1] + str(int(tree_file_name[-1]) + 1)\n",
    "\n",
    "\n",
    "#     cell_num_file_name = cell_num_file_name[:-1] + str(int(cell_num_file_name[-1]) + 1)\n",
    "\n",
    "np.savetxt(\n",
    "    f'{data_path}/{cell_num_file_name}',\n",
    "    np.hstack((t.reshape(-1, 1), cell_num_traj)),\n",
    "    fmt=\"%.5f\",\n",
    ")\n",
    "\n",
    "sim_utils.wirte_lineage_info(\n",
    "    f'{data_path}/{tree_file_name}', system.anc_cells, curr_cells, system.t[-1]\n",
    ")\n",
    "try:\n",
    "    reconstruct(f'{data_path}/tree_origin_linear_{filename}.csv', output=f'{data_path}/linear_tree_gt_{filename}.nwk', num=5000, is_balance=True)\n",
    "except:\n",
    "    os.system(f'rm {data_path}/{tree_file_name}')\n",
    "    os.system(f'rm {data_path}/{cell_num_file_name}')\n",
    "\n",
    "tree_file = f'{data_path}/linear_tree_gt_{filename}.nwk'\n",
    "phylo_tree, branch_colors = loadtree(tree_file)\n",
    "sampled_cells = [i.name for i in phylo_tree.get_terminals()]\n",
    "cell_names, cell_states, cell_generation = get_annotation(f'{data_path}/tree_origin_linear_{filename}.csv')\n",
    "cell_states = pd.DataFrame(data=cell_states, index=cell_names).loc[sampled_cells]\n",
    "cell_generation = pd.DataFrame(data=cell_generation, index=cell_names).loc[sampled_cells].to_numpy()\n",
    "\n",
    "sd = scData(\n",
    "    phylo_tree=phylo_tree,\n",
    "    cell_states=cell_states.to_numpy().T[0].astype('int'),\n",
    "    cell_generation=cell_generation.T[0].astype('int'),\n",
    "    cell_names=sampled_cells\n",
    ")"
   ]
  },
  {
   "cell_type": "code",
   "execution_count": 7,
   "id": "fab3fc6d-2f03-4cb0-8d4a-88d4970ec59c",
   "metadata": {
    "tags": []
   },
   "outputs": [
    {
     "name": "stderr",
     "output_type": "stream",
     "text": [
      "/home/wangkun/miniconda3/lib/python3.9/site-packages/sklearn/manifold/_t_sne.py:780: FutureWarning: The default initialization in TSNE will change from 'random' to 'pca' in 1.2.\n",
      "  warnings.warn(\n",
      "/home/wangkun/miniconda3/lib/python3.9/site-packages/sklearn/manifold/_t_sne.py:790: FutureWarning: The default learning rate in TSNE will change from 200.0 to 'auto' in 1.2.\n",
      "  warnings.warn(\n"
     ]
    }
   ],
   "source": [
    "ge, base_expr = sim_base_expr(sd.phylo_tree,\n",
    "                                 cell_states,\n",
    "                                 Ngene=4000,\n",
    "                                 r_variant_gene=0.4,\n",
    "                                 diff_map={0:[0],1:[0],2:[1],3:[2],4:[3]},\n",
    "                                 forward_map={},\n",
    "                                 mu0_loc=0,\n",
    "                                 mu0_scale=1,\n",
    "                                 drift_loc=0,\n",
    "                                 drift_scale=0.1,\n",
    "                                )\n",
    "\n",
    "sd.count = get_count_from_base_expr(add_lineage_noise(sd.phylo_tree, base_expr), alpha=0.5)\n",
    "sd.count.to_csv(f'{data_path}/count_{filename}.csv')\n",
    "sd.dimensionality_reduction(method='tsne', perplexity=30)\n",
    "sd.Xdr.to_csv(f'{data_path}/tsne_{filename}.csv')\n",
    "\n",
    "seqs = DNAmutation(phylo_tree, mut_rate=1.5)\n",
    "seqs = seqs.astype(int)"
   ]
  },
  {
   "cell_type": "code",
   "execution_count": 13,
   "id": "9bef8a11-4cfc-4f56-8994-88cef0d044e7",
   "metadata": {},
   "outputs": [],
   "source": [
    "def mtmutation(tree, mut_rate=1.6e-3, **params):\n",
    "    '''\n",
    "    Args:\n",
    "        nmts (default:1000): \n",
    "            number of mts\n",
    "        init_mut_rate (default:0.2): \n",
    "            initial mutation rate\n",
    "        len_mtDNA (default:16569): \n",
    "            length of mtDNA seq (unable)\n",
    "        birth_rate (default:1): \n",
    "            birth_rate of initial mts\n",
    "        death_rate (default:0.1): \n",
    "            death_rate of initial mts\n",
    "        mt_copynumber (default:2):\n",
    "            copy number of mtDNA\n",
    "        \n",
    "    '''\n",
    "    nmts = params.pop('nmts', 1000)\n",
    "    init_mut_rate = params.pop('init_mut_rate', 0.2)\n",
    "    len_mtDNA = params.pop('len_mtDNA', 16569)\n",
    "    birth_rate = params.pop('birth_rate', 1)\n",
    "    death_rate = params.pop('death_rate', 0.1)\n",
    "    mt_copynumber = params.pop('mt_copynumber', 2)\n",
    "    if not callable(mt_copynumber):\n",
    "        mt_copynumber = lambda x: mt_copynumber\n",
    "    \n",
    "    # for i in range(10):\n",
    "    #     try:\n",
    "    init_cell_muts = initialize_mtmut(nmts, init_mut_rate, len_mtDNA, birth_rate, death_rate)\n",
    "        #     break\n",
    "        # except:\n",
    "        #     continue\n",
    "        \n",
    "\n",
    "    global_mutid = max([max(i.union({0})) for i in init_cell_muts])\n",
    "    mt_mutations = {tree.root.name:init_cell_muts}\n",
    "    \n",
    "    for i in tqdm(Phylo.BaseTree._preorder_traverse(tree.root, lambda elem: elem.clades), total=len(tree.get_terminals())+len(tree.get_nonterminals())):\n",
    "        if not i.is_terminal():\n",
    "            new_mts = cell_division_with_mt(mt_mutations[i.name], global_mutid, mut_rate, mt_copynumber(int(re.findall('(?<=<)[0-9]+', i.name)[0])))\n",
    "            global_mutid = new_mts[2]\n",
    "            for ind, j in enumerate(i.clades):\n",
    "                mt_mutations[j.name] = new_mts[ind]\n",
    "    # muts = []\n",
    "    # cell_names = []\n",
    "    # for i in tree.get_terminals():\n",
    "    #     muts.append(mt_mutations[i.name])\n",
    "    #     cell_names.append(i.name)\n",
    "    return mt_mutations, global_mutid\n",
    "\n",
    "def mut_freq(mt_muts, max_mut_id = None, sel_cells=None):\n",
    "    if not max_mut_id:\n",
    "        max_mut_id = np.max([np.max(list(j)) for j in mt_muts[i.name] if j for i in mt_muts])\n",
    "    max_mut_id += 1\n",
    "    mut_freqs = []\n",
    "    cell_names = []\n",
    "    for cell in tqdm(sel_cells):\n",
    "        mut_pos = np.zeros((len(mt_muts[cell]), max_mut_id))\n",
    "        for ind, mt in enumerate(mt_muts[cell]):\n",
    "            mut_pos[ind][list(mt)] = 1\n",
    "        mut_freqs.append(mut_pos.sum(0)/len(mt_muts[cell]))\n",
    "        cell_names.append(cell)\n",
    "    mf = pd.DataFrame(mut_freqs, index=cell_names)\n",
    "    mf = mf[mf.columns[mf.sum()>0]]\n",
    "    return mf"
   ]
  },
  {
   "cell_type": "code",
   "execution_count": 69,
   "id": "e83f5f03-9922-44a2-b619-e4916069810a",
   "metadata": {},
   "outputs": [
    {
     "data": {
      "application/vnd.jupyter.widget-view+json": {
       "model_id": "5eaaaf2f8913408d85f8a64384709d75",
       "version_major": 2,
       "version_minor": 0
      },
      "text/plain": [
       "  0%|          | 0/499 [00:00<?, ?it/s]"
      ]
     },
     "metadata": {},
     "output_type": "display_data"
    },
    {
     "data": {
      "application/vnd.jupyter.widget-view+json": {
       "model_id": "9ca4264baa4147fdacacf93ed8f1efc8",
       "version_major": 2,
       "version_minor": 0
      },
      "text/plain": [
       "  0%|          | 0/25344 [00:00<?, ?it/s]"
      ]
     },
     "metadata": {},
     "output_type": "display_data"
    }
   ],
   "source": [
    "# early\n",
    "# mt_muts, mutid = mtmutation(phylo_tree, mut_rate=0.0016, init_mut_rate=5, mt_copynumber=lambda x: 1.3 if x <= 5 else 2.2, nmts=500)\n",
    "# mid\n",
    "# mt_muts, mutid = mtmutation(phylo_tree, mut_rate=0.0016, init_mut_rate=5, mt_copynumber=lambda x: 1.6 if x <= 10 else 2.2, nmts=500)\n",
    "# late\n",
    "mt_muts, mutid = mtmutation(phylo_tree, mut_rate=0.0016, init_mut_rate=5, mt_copynumber=lambda x: 1.8 if x <= 20 else 2.4, nmts=500)"
   ]
  },
  {
   "cell_type": "code",
   "execution_count": 70,
   "id": "b81b8d3e-3ffc-41ad-89ab-3ee9cc2b92c0",
   "metadata": {},
   "outputs": [],
   "source": [
    "mt_num = []\n",
    "cell_gen = []\n",
    "for c in phylo_tree.get_nonterminals():\n",
    "    cell_gen.append(int(re.findall('(?<=<)[0-9]+', c.name)[0]))\n",
    "    mt_num.append(len(mt_muts[c.name]))"
   ]
  },
  {
   "cell_type": "code",
   "execution_count": 71,
   "id": "a5ad0b68-d6a7-4259-9b5a-ca74d53ae8e5",
   "metadata": {},
   "outputs": [
    {
     "data": {
      "text/plain": [
       "Text(0.5, 0, 'generation')"
      ]
     },
     "execution_count": 71,
     "metadata": {},
     "output_type": "execute_result"
    },
    {
     "data": {
      "image/png": "[encoded data removed]",
      "text/plain": [
       "<Figure size 330x300 with 1 Axes>"
      ]
     },
     "metadata": {},
     "output_type": "display_data"
    }
   ],
   "source": [
    "fig, ax = plt.subplots(figsize=(3.3,3))\n",
    "ax.scatter(cell_gen, mt_num, s=2)\n",
    "ax.set_ylabel('mt/cell')\n",
    "ax.set_xlabel('generation')\n"
   ]
  },
  {
   "cell_type": "code",
   "execution_count": null,
   "id": "eee143a5-6ac4-4edf-b3cf-f0cbb546693c",
   "metadata": {},
   "outputs": [],
   "source": []
  },
  {
   "cell_type": "code",
   "execution_count": null,
   "id": "0c24fb5d-206f-4be1-b238-69ecee3202d8",
   "metadata": {},
   "outputs": [],
   "source": []
  },
  {
   "cell_type": "code",
   "execution_count": 58,
   "id": "cc6a152c-70a1-4d78-81ce-f1379a47f421",
   "metadata": {},
   "outputs": [
    {
     "data": {
      "text/plain": [
       "Text(0.5, 0, 'generation')"
      ]
     },
     "execution_count": 58,
     "metadata": {},
     "output_type": "execute_result"
    },
    {
     "data": {
      "image/png": "[encoded data removed]",
      "text/plain": [
       "<Figure size 330x300 with 1 Axes>"
      ]
     },
     "metadata": {},
     "output_type": "display_data"
    }
   ],
   "source": [
    "fig, ax = plt.subplots(figsize=(3.3,3))\n",
    "ax.scatter(cell_gen, mt_num, s=2)\n",
    "ax.set_ylabel('mt/cell')\n",
    "ax.set_xlabel('generation')\n"
   ]
  },
  {
   "cell_type": "code",
   "execution_count": null,
   "id": "60f7b660-173c-4380-9e7b-c4dc2ed402b2",
   "metadata": {},
   "outputs": [],
   "source": []
  },
  {
   "cell_type": "code",
   "execution_count": 50,
   "id": "4d5d8090-d4fe-4c0e-842f-3bf3bfe83b49",
   "metadata": {},
   "outputs": [
    {
     "data": {
      "text/plain": [
       "Text(0.5, 0, 'generation')"
      ]
     },
     "execution_count": 50,
     "metadata": {},
     "output_type": "execute_result"
    },
    {
     "data": {
      "image/png": "[encoded data removed]",
      "text/plain": [
       "<Figure size 330x300 with 1 Axes>"
      ]
     },
     "metadata": {},
     "output_type": "display_data"
    }
   ],
   "source": [
    "fig, ax = plt.subplots(figsize=(3.3,3))\n",
    "ax.scatter(cell_gen, mt_num, s=2)\n",
    "ax.set_ylabel('mt/cell')\n",
    "ax.set_xlabel('generation')"
   ]
  },
  {
   "cell_type": "code",
   "execution_count": null,
   "id": "38c73e53-f1db-4c0d-a6be-5c5cc0eda88d",
   "metadata": {},
   "outputs": [],
   "source": []
  },
  {
   "cell_type": "code",
   "execution_count": null,
   "id": "ef99abec-e08c-449d-bed5-0717c83f22c2",
   "metadata": {},
   "outputs": [],
   "source": []
  },
  {
   "cell_type": "code",
   "execution_count": 15,
   "id": "91e42a0d-f851-4262-a4d2-de8d8f8f3d21",
   "metadata": {
    "tags": []
   },
   "outputs": [
    {
     "data": {
      "application/vnd.jupyter.widget-view+json": {
       "model_id": "56f989a705214dc0b844a97a6d15e36a",
       "version_major": 2,
       "version_minor": 0
      },
      "text/plain": [
       "  0%|          | 0/5000 [00:00<?, ?it/s]"
      ]
     },
     "metadata": {},
     "output_type": "display_data"
    }
   ],
   "source": [
    "# success = 0\n",
    "# while not success:\n",
    "#     try:\n",
    "#         mt_muts, mutid = mtmutation(phylo_tree, mut_rate=0.0016, init_mut_rate=5, mt_copynumber=lambda x: 1.3 if x <= 5 else 2.5, nmts=500)\n",
    "#         success = 1\n",
    "#     except:\n",
    "#         None\n",
    "\n",
    "pre_existing_mut = set()\n",
    "for i in mt_muts['<0_0>']:\n",
    "    pre_existing_mut = pre_existing_mut.union(i)\n",
    "\n",
    "mf = mut_freq(mt_muts, mutid, sel_cells=[i.name for i in phylo_tree.get_terminals()])\n",
    "mt_seqs = mf.astype(bool).astype(int)\n",
    "mt_pre = mt_seqs[mt_seqs.columns[np.isin(mt_seqs.columns, list(pre_existing_mut))]]\n",
    "mt_dn =  mt_seqs[mt_seqs.columns[~np.isin(mt_seqs.columns, list(pre_existing_mut))]]\n",
    "mf.to_csv(f'{data_path}/mt_mut_freq_{filename}.csv')\n",
    "mf1 = deepcopy(mf)\n",
    "mf1[mf1<0.01] = 0\n",
    "mt1_seqs = mf1.astype(bool).astype(int)\n",
    "mt1_pre = mt1_seqs[mt1_seqs.columns[np.isin(mt1_seqs.columns, list(pre_existing_mut))]]\n",
    "mt1_dn =  mt1_seqs[mt1_seqs.columns[~np.isin(mt1_seqs.columns, list(pre_existing_mut))]]\n",
    "\n",
    "mf5 = deepcopy(mf)\n",
    "mf5[mf5<0.05] = 0\n",
    "mt5_seqs = mf5.astype(bool).astype(int)\n",
    "mt5_pre = mt5_seqs[mt5_seqs.columns[np.isin(mt5_seqs.columns, list(pre_existing_mut))]]\n",
    "mt5_dn =  mt5_seqs[mt5_seqs.columns[~np.isin(mt5_seqs.columns, list(pre_existing_mut))]]\n",
    "\n",
    "# with open(f'{data_path}/mt_mut_{filename}.phy', 'w') as f:\n",
    "#     f.write('{} {}\\n'.format(*mt_seqs.shape))\n",
    "#     for cell in mt_seqs.index:\n",
    "#         f.write('{} {}\\n'.format(cell[1:-1], ''.join(mt_seqs.loc[cell].astype(str)).replace('0', 'A').replace('1', 'G')))\n",
    "\n",
    "# with open(f'{data_path}/mt_mut_pre_{filename}.phy', 'w') as f:\n",
    "#     f.write('{} {}\\n'.format(*mt_pre.shape))\n",
    "#     for cell in mt_pre.index:\n",
    "#         f.write('{} {}\\n'.format(cell[1:-1], ''.join(mt_pre.loc[cell].astype(str)).replace('0', 'A').replace('1', 'G')))\n",
    "        \n",
    "# with open(f'{data_path}/mt_mut_dn_{filename}.phy', 'w') as f:\n",
    "#     f.write('{} {}\\n'.format(*mt_dn.shape))\n",
    "#     for cell in mt_dn.index:\n",
    "#         f.write('{} {}\\n'.format(cell[1:-1], ''.join(mt_dn.loc[cell].astype(str)).replace('0', 'A').replace('1', 'G')))  \n",
    "        \n",
    "# with open(f'{data_path}/mt1_mut_{filename}.phy', 'w') as f:\n",
    "#     f.write('{} {}\\n'.format(*mt1_seqs.shape))\n",
    "#     for cell in mt1_seqs.index:\n",
    "#         f.write('{} {}\\n'.format(cell[1:-1], ''.join(mt1_seqs.loc[cell].astype(str)).replace('0', 'A').replace('1', 'G')))\n",
    "        \n",
    "# with open(f'{data_path}/mt1_mut_pre_{filename}.phy', 'w') as f:\n",
    "#     f.write('{} {}\\n'.format(*mt1_pre.shape))\n",
    "#     for cell in mt1_pre.index:\n",
    "#         f.write('{} {}\\n'.format(cell[1:-1], ''.join(mt1_pre.loc[cell].astype(str)).replace('0', 'A').replace('1', 'G')))\n",
    "        \n",
    "# with open(f'{data_path}/mt1_mut_dn_{filename}.phy', 'w') as f:\n",
    "#     f.write('{} {}\\n'.format(*mt1_dn.shape))\n",
    "#     for cell in mt1_dn.index:\n",
    "#         f.write('{} {}\\n'.format(cell[1:-1], ''.join(mt1_dn.loc[cell].astype(str)).replace('0', 'A').replace('1', 'G')))    \n",
    "\n",
    "# with open(f'{data_path}/mt5_mut_{filename}.phy', 'w') as f:\n",
    "#     f.write('{} {}\\n'.format(*mt5_seqs.shape))\n",
    "#     for cell in mt5_seqs.index:\n",
    "#         f.write('{} {}\\n'.format(cell[1:-1], ''.join(mt5_seqs.loc[cell].astype(str)).replace('0', 'A').replace('1', 'G')))\n",
    "        \n",
    "# with open(f'{data_path}/mt5_mut_pre_{filename}.phy', 'w') as f:\n",
    "#     f.write('{} {}\\n'.format(*mt_pre.shape))\n",
    "#     for cell in mt5_pre.index:\n",
    "#         f.write('{} {}\\n'.format(cell[1:-1], ''.join(mt5_pre.loc[cell].astype(str)).replace('0', 'A').replace('1', 'G')))\n",
    "        \n",
    "# with open(f'{data_path}/mt5_mut_dn_{filename}.phy', 'w') as f:\n",
    "#     f.write('{} {}\\n'.format(*mt_dn.shape))\n",
    "#     for cell in mt5_dn.index:\n",
    "#         f.write('{} {}\\n'.format(cell[1:-1], ''.join(mt5_dn.loc[cell].astype(str)).replace('0', 'A').replace('1', 'G')))     \n",
    "\n",
    "# with open(f'{data_path}/dna_mut_{filename}.phy', 'w') as f:\n",
    "#     f.write('{} {}\\n'.format(*seqs.shape))\n",
    "#     for cell in seqs.index:\n",
    "#         f.write('{} {}\\n'.format(cell[1:-1], ''.join(seqs.loc[cell].astype(str)).replace('0', 'A').replace('1', 'G')))\n",
    "        "
   ]
  },
  {
   "cell_type": "code",
   "execution_count": null,
   "id": "db620c7b-ec63-4ccb-818f-c5a362f0730b",
   "metadata": {},
   "outputs": [],
   "source": []
  }
 ],
 "metadata": {
  "kernelspec": {
   "display_name": "Python 3 (ipykernel)",
   "language": "python",
   "name": "python3"
  },
  "language_info": {
   "codemirror_mode": {
    "name": "ipython",
    "version": 3
   },
   "file_extension": ".py",
   "mimetype": "text/x-python",
   "name": "python",
   "nbconvert_exporter": "python",
   "pygments_lexer": "ipython3",
   "version": "3.9.12"
  }
 },
 "nbformat": 4,
 "nbformat_minor": 5
}
