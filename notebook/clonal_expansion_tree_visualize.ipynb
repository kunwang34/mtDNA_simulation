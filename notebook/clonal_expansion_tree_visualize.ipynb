{
 "cells": [
  {
   "cell_type": "code",
   "execution_count": 2,
   "id": "005f1203-ee05-4b61-9166-e82dd35bc494",
   "metadata": {},
   "outputs": [],
   "source": [
    "from Bio import Phylo\n",
    "import pickle\n",
    "import numpy as np\n",
    "import pandas as pd\n",
    "import os\n",
    "from io import StringIO\n",
    "from collections import Counter\n",
    "import ete3\n",
    "import re\n",
    "os.chdir('../')"
   ]
  },
  {
   "cell_type": "code",
   "execution_count": 3,
   "id": "179be516-2e50-48d5-8b0e-207039684b6a",
   "metadata": {},
   "outputs": [
    {
     "name": "stderr",
     "output_type": "stream",
     "text": [
      "/home/wangkun/mtDNA_simulation/mtDNAsim/sim_utils.py:8: TqdmExperimentalWarning: Using `tqdm.autonotebook.tqdm` in notebook mode. Use `tqdm.tqdm` instead to force console mode (e.g. in jupyter console)\n",
      "  from tqdm.autonotebook import tqdm\n"
     ]
    }
   ],
   "source": [
    "from mtDNAsim.sim_utils import *"
   ]
  },
  {
   "cell_type": "code",
   "execution_count": 4,
   "id": "51bda477-94f6-466e-90cb-5446ff97142a",
   "metadata": {},
   "outputs": [],
   "source": [
    "# tree = Phylo.read('/data3/wangkun/mtsim_res/res_1113/linear_/449346/linear_tree_gt_449346.nwk', format='newick')"
   ]
  },
  {
   "cell_type": "code",
   "execution_count": 5,
   "id": "6ff62659-ee46-4458-ac77-d99228ed0b48",
   "metadata": {},
   "outputs": [],
   "source": [
    "path = '/data3/wangkun/mtsim_res/res_0415/'"
   ]
  },
  {
   "cell_type": "code",
   "execution_count": 6,
   "id": "e3693e83-275f-4f4d-a6f7-4d7bbdd2e77e",
   "metadata": {},
   "outputs": [
    {
     "data": {
      "application/vnd.jupyter.widget-view+json": {
       "model_id": "84cf7e27769142be81fbcb2b8cd8e00e",
       "version_major": 2,
       "version_minor": 0
      },
      "text/plain": [
       "  0%|          | 0/10 [00:00<?, ?it/s]"
      ]
     },
     "metadata": {},
     "output_type": "display_data"
    },
    {
     "data": {
      "application/vnd.jupyter.widget-view+json": {
       "model_id": "3e2b2d6c6d4d4d00ae609bc2b7efe0d9",
       "version_major": 2,
       "version_minor": 0
      },
      "text/plain": [
       "  0%|          | 0/10 [00:00<?, ?it/s]"
      ]
     },
     "metadata": {},
     "output_type": "display_data"
    },
    {
     "data": {
      "application/vnd.jupyter.widget-view+json": {
       "model_id": "999ad845dd25419abfbdbbf1bea89c6c",
       "version_major": 2,
       "version_minor": 0
      },
      "text/plain": [
       "  0%|          | 0/10 [00:00<?, ?it/s]"
      ]
     },
     "metadata": {},
     "output_type": "display_data"
    },
    {
     "data": {
      "application/vnd.jupyter.widget-view+json": {
       "model_id": "61d7e1434fd94188b2adb2781bb5dccd",
       "version_major": 2,
       "version_minor": 0
      },
      "text/plain": [
       "  0%|          | 0/10 [00:00<?, ?it/s]"
      ]
     },
     "metadata": {},
     "output_type": "display_data"
    }
   ],
   "source": [
    "for model in ['linear_', 'linear_const', 'bifurcated_', 'bifurcated_const']:\n",
    "    for simid in tqdm(os.listdir(path+model)):\n",
    "        # for s in ['0.9', '0.95', '0.25']:\n",
    "        with open(f\"{path}{model}/{simid}/{model.split('_')[0].replace('bifurcated', 'bif')}_tree_gt_{simid}.nwk\", 'r') as f:\n",
    "            tree_nwk = f.readline()\n",
    "            cell_type = f.readline()\n",
    "        with open(f\"{path}{model}/{simid}/{model.split('_')[0].replace('bifurcated', 'bif')}_tree_gt_{simid}_1.nwk\", 'w') as f:\n",
    "            f.write(tree_nwk)\n",
    "        with open(f\"{path}{model}/{simid}/{model.split('_')[0].replace('bifurcated', 'bif')}_{simid}_cell_type.csv\", 'w') as f:\n",
    "            f.write(cell_type)           "
   ]
  },
  {
   "cell_type": "code",
   "execution_count": null,
   "id": "a6db1e87-c3be-4c0c-bc21-3800472cca48",
   "metadata": {},
   "outputs": [],
   "source": []
  },
  {
   "cell_type": "code",
   "execution_count": 14,
   "id": "4851a1ec-16a1-4a91-9f09-e5499f0c0910",
   "metadata": {},
   "outputs": [
    {
     "data": {
      "application/vnd.jupyter.widget-view+json": {
       "model_id": "038705235a3b4759b9f6955def7cf66f",
       "version_major": 2,
       "version_minor": 0
      },
      "text/plain": [
       "  0%|          | 0/10 [00:00<?, ?it/s]"
      ]
     },
     "metadata": {},
     "output_type": "display_data"
    },
    {
     "data": {
      "application/vnd.jupyter.widget-view+json": {
       "model_id": "a0934c6d09c04c9caefabb3ea37d9a9f",
       "version_major": 2,
       "version_minor": 0
      },
      "text/plain": [
       "  0%|          | 0/10 [00:00<?, ?it/s]"
      ]
     },
     "metadata": {},
     "output_type": "display_data"
    }
   ],
   "source": [
    "for model in ['bifurcated_', 'bifurcated_const']:\n",
    "    for simid in tqdm(os.listdir(path+model)):\n",
    "        # print(simid)\n",
    "        if not simid in ['123456']:\n",
    "            continue\n",
    "        for s in ['0.9', '0.95', '0.25']:\n",
    "            try:\n",
    "                if 'const' in model:\n",
    "                    mt_800rs = pickle.load(open(f'{path}{model}/{simid}/mt_allmuts_const_0.1_{simid}_800_0.4_{s}_rs.pkl', 'rb'))\n",
    "                else:\n",
    "                    mt_800rs = pickle.load(open(f'{path}{model}/{simid}/mt_allmuts_mid_0.1_{simid}_800_0.4_{s}_rs.pkl', 'rb'))\n",
    "                mt_800rs = rs_cvt(mt_800rs)\n",
    "\n",
    "                with open(f\"{path}{model}/{simid}/{model.split('_')[0].replace('bifurcated', 'bif')}_tree_gt_{simid}.nwk\", 'r') as f:\n",
    "                    tree_nwk = f.readline()\n",
    "                tree = ete3.Tree(tree_nwk.replace('\\n', ';'), format=1)\n",
    "                sel_cells = [re.findall('<.+>', i)[0] for i in mt_800rs.keys()]\n",
    "                tree.prune(list(set(sel_cells)))\n",
    "                cnt = Counter(sel_cells)\n",
    "\n",
    "                tree = Phylo.read(StringIO(tree.write()), format='newick')\n",
    "                for i in tree.get_terminals():\n",
    "                    i.branch_length = 1\n",
    "                for i in tree.get_nonterminals():\n",
    "                    i.branch_length = 1\n",
    "\n",
    "                for clade_name in cnt:\n",
    "                    clade = tree.find_any(name=clade_name)\n",
    "                    pseudo_clades = Phylo.BaseTree.Clade(branch_length=1)\n",
    "                    for _ in range(int(np.log2(cnt[clade_name]))):\n",
    "                        pseudo_clades.clades = [deepcopy(pseudo_clades), deepcopy(pseudo_clades)]\n",
    "                    n_bif = cnt[clade_name] - len(pseudo_clades.get_terminals())\n",
    "                    for ind, cl in enumerate(pseudo_clades.get_terminals()):\n",
    "                        if ind < cnt[clade_name] - len(pseudo_clades.get_terminals()):\n",
    "                            cl.clades = [Phylo.BaseTree.Clade(branch_length=1), Phylo.BaseTree.Clade(branch_length=1)]\n",
    "                    for ind, cl in enumerate(pseudo_clades.get_terminals()):\n",
    "                        cl.name = f'{clade_name}_{ind}'\n",
    "                    clade.clades = pseudo_clades.clades\n",
    "\n",
    "                trim_tree = StringIO()\n",
    "                Phylo.write(tree, trim_tree, format='newick')\n",
    "\n",
    "                leave = tree.get_terminals()\n",
    "                sel_cells = [leave[i].name for i in np.random.choice(range(len(tree.get_terminals())), 1000, replace=False)]\n",
    "                tree = ete3.Tree(trim_tree.getvalue(), format=1)\n",
    "                tree.prune(sel_cells)\n",
    "                tree = Phylo.read(StringIO(tree.write()), format='newick')\n",
    "                Phylo.write(tree, f'{path}{model}/{simid}/clonal_expansion_tree_{s}_800.nwk', format='newick')\n",
    "            except:\n",
    "                None"
   ]
  },
  {
   "cell_type": "code",
   "execution_count": 21,
   "id": "2ffd3a91-3ad7-4e3a-8d2f-dddabc98ac26",
   "metadata": {},
   "outputs": [
    {
     "data": {
      "application/vnd.jupyter.widget-view+json": {
       "model_id": "66bd01c3e18c4706ba0b27646b932b23",
       "version_major": 2,
       "version_minor": 0
      },
      "text/plain": [
       "  0%|          | 0/21 [00:00<?, ?it/s]"
      ]
     },
     "metadata": {},
     "output_type": "display_data"
    },
    {
     "data": {
      "application/vnd.jupyter.widget-view+json": {
       "model_id": "2d84906ce2cf4bd99c30a9e452934c91",
       "version_major": 2,
       "version_minor": 0
      },
      "text/plain": [
       "  0%|          | 0/21 [00:00<?, ?it/s]"
      ]
     },
     "metadata": {},
     "output_type": "display_data"
    }
   ],
   "source": [
    "for gen in [100, 300]:\n",
    "    for mu in [0.4]:\n",
    "        for simid in tqdm(os.listdir(path)):\n",
    "            if simid[0] in 'r,n,o'.split(','):\n",
    "                continue\n",
    "            if 'const' in path.split('_')[-1]:\n",
    "                mt_800rs = pickle.load(open(f'{path}{simid}/mt_allmuts_const_0.1_{simid}_{gen}_{mu}_rs.pkl', 'rb'))\n",
    "            else:\n",
    "                mt_800rs = pickle.load(open(f'{path}{simid}/mt_allmuts_mid_0.1_{simid}_{gen}_{mu}_rs.pkl', 'rb'))\n",
    "            mt_800rs = rs_cvt(mt_800rs)\n",
    "            # mtfreq = mut_freq(mt_800rs)\n",
    "\n",
    "            with open(f'{path}{simid}/linear_tree_gt_{simid}.nwk', 'r') as f:\n",
    "                tree_nwk = f.readline()\n",
    "            tree = ete3.Tree(tree_nwk.replace('\\n', ';'), format=1)\n",
    "            sel_cells = [re.findall('<.+>', i)[0] for i in mt_800rs.keys()]\n",
    "            tree.prune(list(set(sel_cells)))\n",
    "            cnt = Counter(sel_cells)\n",
    "\n",
    "            tree = Phylo.read(StringIO(tree.write()), format='newick')\n",
    "            for i in tree.get_terminals():\n",
    "                i.branch_length = 1\n",
    "            for i in tree.get_nonterminals():\n",
    "                i.branch_length = 1\n",
    "\n",
    "            for clade_name in cnt:\n",
    "                clade = tree.find_any(name=clade_name)\n",
    "                pseudo_clades = Phylo.BaseTree.Clade(branch_length=1)\n",
    "                for _ in range(int(np.log2(cnt[clade_name]))):\n",
    "                    pseudo_clades.clades = [deepcopy(pseudo_clades), deepcopy(pseudo_clades)]\n",
    "                n_bif = cnt[clade_name] - len(pseudo_clades.get_terminals())\n",
    "                for ind, cl in enumerate(pseudo_clades.get_terminals()):\n",
    "                    if ind < cnt[clade_name] - len(pseudo_clades.get_terminals()):\n",
    "                        cl.clades = [Phylo.BaseTree.Clade(branch_length=1), Phylo.BaseTree.Clade(branch_length=1)]\n",
    "                for ind, cl in enumerate(pseudo_clades.get_terminals()):\n",
    "                    cl.name = f'{clade_name}_{ind}'\n",
    "                clade.clades = pseudo_clades.clades\n",
    "\n",
    "            trim_tree = StringIO()\n",
    "            Phylo.write(tree, trim_tree, format='newick')\n",
    "\n",
    "            leave = tree.get_terminals()\n",
    "            sel_cells = [leave[i].name for i in np.random.choice(range(len(tree.get_terminals())), 1000, replace=False)]\n",
    "            tree = ete3.Tree(trim_tree.getvalue(), format=1)\n",
    "            tree.prune(sel_cells)\n",
    "            tree = Phylo.read(StringIO(tree.write()), format='newick')\n",
    "            Phylo.write(tree, f'{path}{simid}/clonal_expansion_tree_{mu}_{gen}.nwk', format='newick')"
   ]
  },
  {
   "cell_type": "code",
   "execution_count": null,
   "id": "4632fec1-ecd1-4b84-b714-955d24b5d5aa",
   "metadata": {},
   "outputs": [],
   "source": []
  },
  {
   "cell_type": "code",
   "execution_count": null,
   "id": "09a50c14-cc57-498f-b7cd-0e050adb4fe7",
   "metadata": {},
   "outputs": [],
   "source": []
  },
  {
   "cell_type": "code",
   "execution_count": 15,
   "id": "fa0c1419-5742-4f13-a762-3542f40bc4d1",
   "metadata": {},
   "outputs": [
    {
     "data": {
      "text/plain": [
       "56.2"
      ]
     },
     "execution_count": 15,
     "metadata": {},
     "output_type": "execute_result"
    }
   ],
   "source": [
    "62-5.8"
   ]
  },
  {
   "cell_type": "code",
   "execution_count": null,
   "id": "8f7261ff-e94b-42bf-863f-3b0a8298275c",
   "metadata": {},
   "outputs": [],
   "source": []
  },
  {
   "cell_type": "code",
   "execution_count": null,
   "id": "f60580c8-a8bc-4af9-8116-f2d8274f7cd7",
   "metadata": {},
   "outputs": [],
   "source": []
  },
  {
   "cell_type": "code",
   "execution_count": 115,
   "id": "c2706080-3f64-485e-883e-f6c07a4186cc",
   "metadata": {},
   "outputs": [],
   "source": [
    "with open('/data3/wangkun/mtsim_res/res_1113/linear_/449346/linear_tree_gt_449346.nwk', 'r') as f:\n",
    "    tree_nwk = f.readline()\n",
    "tree = ete3.Tree(tree_nwk.replace('\\n', ';'), format=1)\n",
    "sel_cells = [re.findall('<.+>', i)[0] for i in mtfreq.index]\n",
    "tree.prune(list(set(sel_cells)))\n",
    "cnt = Counter(sel_cells)"
   ]
  },
  {
   "cell_type": "code",
   "execution_count": 116,
   "id": "a7fa8cd0-6ca0-4ab2-86ad-3c9d5f3531c1",
   "metadata": {},
   "outputs": [],
   "source": [
    "tree = Phylo.read(StringIO(tree.write()), format='newick')\n",
    "for i in tree.get_terminals():\n",
    "    i.branch_length = 1\n",
    "for i in tree.get_nonterminals():\n",
    "    i.branch_length = 1"
   ]
  },
  {
   "cell_type": "code",
   "execution_count": 117,
   "id": "830b8576-7817-4069-b2c3-dcfcf159c67e",
   "metadata": {},
   "outputs": [],
   "source": [
    "for clade_name in cnt:\n",
    "    clade = tree.find_any(name=clade_name)\n",
    "    pseudo_clades = Phylo.BaseTree.Clade(branch_length=1)\n",
    "    for _ in range(int(np.log2(cnt[clade_name]))):\n",
    "        pseudo_clades.clades = [deepcopy(pseudo_clades), deepcopy(pseudo_clades)]\n",
    "    n_bif = cnt[clade_name] - len(pseudo_clades.get_terminals())\n",
    "    for ind, cl in enumerate(pseudo_clades.get_terminals()):\n",
    "        if ind < cnt[clade_name] - len(pseudo_clades.get_terminals()):\n",
    "            cl.clades = [Phylo.BaseTree.Clade(branch_length=1), Phylo.BaseTree.Clade(branch_length=1)]\n",
    "    for ind, cl in enumerate(pseudo_clades.get_terminals()):\n",
    "        cl.name = f'{clade_name}_{ind}'\n",
    "    clade.clades = pseudo_clades.clades"
   ]
  },
  {
   "cell_type": "code",
   "execution_count": 120,
   "id": "5b1b2e84-d563-43fb-8b07-37d6912f383d",
   "metadata": {},
   "outputs": [
    {
     "data": {
      "text/plain": [
       "1"
      ]
     },
     "execution_count": 120,
     "metadata": {},
     "output_type": "execute_result"
    }
   ],
   "source": [
    "trim_tree = StringIO()\n",
    "Phylo.write(tree, trim_tree, format='newick')"
   ]
  },
  {
   "cell_type": "code",
   "execution_count": 124,
   "id": "087adad7-2c8d-429b-858e-e160b4ec9f5a",
   "metadata": {},
   "outputs": [],
   "source": [
    "leave = tree.get_terminals()\n",
    "sel_cells = [leave[i].name for i in np.random.choice(range(len(tree.get_terminals())), 1000, replace=False)]\n",
    "tree = ete3.Tree(trim_tree.getvalue(), format=1)\n",
    "tree.prune(sel_cells)\n",
    "tree = Phylo.read(StringIO(tree.write()), format='newick')"
   ]
  },
  {
   "cell_type": "code",
   "execution_count": 128,
   "id": "aa0963f9-290b-40b9-bc17-ca41a6600bdc",
   "metadata": {},
   "outputs": [
    {
     "data": {
      "text/plain": [
       "1"
      ]
     },
     "execution_count": 128,
     "metadata": {},
     "output_type": "execute_result"
    }
   ],
   "source": [
    "Phylo.write(tree, './pseudo_tree.nwk', format='newick')"
   ]
  },
  {
   "cell_type": "code",
   "execution_count": null,
   "id": "8e4ccca0-c760-45e2-9d77-9bdc5fb7f950",
   "metadata": {},
   "outputs": [],
   "source": []
  },
  {
   "cell_type": "code",
   "execution_count": 37,
   "id": "780832d4-66e7-4d8e-bd14-4c600c2ad0ce",
   "metadata": {
    "collapsed": true,
    "jupyter": {
     "outputs_hidden": true
    },
    "tags": []
   },
   "outputs": [
    {
     "data": {
      "application/vnd.jupyter.widget-view+json": {
       "model_id": "1ab022d8a68f429e937491cf5e3dc2fa",
       "version_major": 2,
       "version_minor": 0
      },
      "text/plain": [
       "  0%|          | 0/3409 [00:00<?, ?it/s]"
      ]
     },
     "metadata": {},
     "output_type": "display_data"
    },
    {
     "data": {
      "application/vnd.jupyter.widget-view+json": {
       "model_id": "fd2dbfe990c143d295bb1e73943c643a",
       "version_major": 2,
       "version_minor": 0
      },
      "text/plain": [
       "  0%|          | 0/5000 [00:00<?, ?it/s]"
      ]
     },
     "metadata": {},
     "output_type": "display_data"
    },
    {
     "name": "stderr",
     "output_type": "stream",
     "text": [
      "/home/wangkun/mtDNA_simulation/mtDNAsim/sim_utils.py:588: RuntimeWarning: invalid value encountered in divide\n",
      "  mut_freqs.append(mut_pos.sum(0)/len(mt_muts[cell]))\n"
     ]
    },
    {
     "data": {
      "application/vnd.jupyter.widget-view+json": {
       "model_id": "950aa5e3f7e54a7e9ad371b22dafe86b",
       "version_major": 2,
       "version_minor": 0
      },
      "text/plain": [
       "  0%|          | 0/5212 [00:00<?, ?it/s]"
      ]
     },
     "metadata": {},
     "output_type": "display_data"
    },
    {
     "data": {
      "application/vnd.jupyter.widget-view+json": {
       "model_id": "542560d992d246fea7782f74fb9915d1",
       "version_major": 2,
       "version_minor": 0
      },
      "text/plain": [
       "  0%|          | 0/5000 [00:00<?, ?it/s]"
      ]
     },
     "metadata": {},
     "output_type": "display_data"
    },
    {
     "name": "stderr",
     "output_type": "stream",
     "text": [
      "/home/wangkun/mtDNA_simulation/mtDNAsim/sim_utils.py:588: RuntimeWarning: invalid value encountered in divide\n",
      "  mut_freqs.append(mut_pos.sum(0)/len(mt_muts[cell]))\n"
     ]
    },
    {
     "data": {
      "application/vnd.jupyter.widget-view+json": {
       "model_id": "dea03196b6ce41199ac7fbab5b577b3f",
       "version_major": 2,
       "version_minor": 0
      },
      "text/plain": [
       "  0%|          | 0/5593 [00:00<?, ?it/s]"
      ]
     },
     "metadata": {},
     "output_type": "display_data"
    },
    {
     "data": {
      "application/vnd.jupyter.widget-view+json": {
       "model_id": "1675f4f23d2e410d96a6b07d5086b630",
       "version_major": 2,
       "version_minor": 0
      },
      "text/plain": [
       "  0%|          | 0/5000 [00:00<?, ?it/s]"
      ]
     },
     "metadata": {},
     "output_type": "display_data"
    },
    {
     "name": "stderr",
     "output_type": "stream",
     "text": [
      "/home/wangkun/mtDNA_simulation/mtDNAsim/sim_utils.py:588: RuntimeWarning: invalid value encountered in divide\n",
      "  mut_freqs.append(mut_pos.sum(0)/len(mt_muts[cell]))\n"
     ]
    },
    {
     "data": {
      "application/vnd.jupyter.widget-view+json": {
       "model_id": "709809ce53774485aa9505f362f468d9",
       "version_major": 2,
       "version_minor": 0
      },
      "text/plain": [
       "  0%|          | 0/4440 [00:00<?, ?it/s]"
      ]
     },
     "metadata": {},
     "output_type": "display_data"
    },
    {
     "data": {
      "application/vnd.jupyter.widget-view+json": {
       "model_id": "d7704e72c47d4e47a58ff02954c25f8f",
       "version_major": 2,
       "version_minor": 0
      },
      "text/plain": [
       "  0%|          | 0/5000 [00:00<?, ?it/s]"
      ]
     },
     "metadata": {},
     "output_type": "display_data"
    },
    {
     "name": "stderr",
     "output_type": "stream",
     "text": [
      "/home/wangkun/mtDNA_simulation/mtDNAsim/sim_utils.py:588: RuntimeWarning: invalid value encountered in divide\n",
      "  mut_freqs.append(mut_pos.sum(0)/len(mt_muts[cell]))\n"
     ]
    },
    {
     "data": {
      "application/vnd.jupyter.widget-view+json": {
       "model_id": "cd93a54dc6a0457094144cd427329b25",
       "version_major": 2,
       "version_minor": 0
      },
      "text/plain": [
       "  0%|          | 0/4274 [00:00<?, ?it/s]"
      ]
     },
     "metadata": {},
     "output_type": "display_data"
    },
    {
     "data": {
      "application/vnd.jupyter.widget-view+json": {
       "model_id": "45b6d6f93e6c4b7bb5188a5e596501cd",
       "version_major": 2,
       "version_minor": 0
      },
      "text/plain": [
       "  0%|          | 0/5000 [00:00<?, ?it/s]"
      ]
     },
     "metadata": {},
     "output_type": "display_data"
    },
    {
     "name": "stderr",
     "output_type": "stream",
     "text": [
      "/home/wangkun/mtDNA_simulation/mtDNAsim/sim_utils.py:588: RuntimeWarning: invalid value encountered in divide\n",
      "  mut_freqs.append(mut_pos.sum(0)/len(mt_muts[cell]))\n"
     ]
    },
    {
     "data": {
      "application/vnd.jupyter.widget-view+json": {
       "model_id": "f865304a4e954776ae7d9782f8704cfb",
       "version_major": 2,
       "version_minor": 0
      },
      "text/plain": [
       "  0%|          | 0/4493 [00:00<?, ?it/s]"
      ]
     },
     "metadata": {},
     "output_type": "display_data"
    },
    {
     "data": {
      "application/vnd.jupyter.widget-view+json": {
       "model_id": "507b0ac119b94b96b6fe30298a98195a",
       "version_major": 2,
       "version_minor": 0
      },
      "text/plain": [
       "  0%|          | 0/5000 [00:00<?, ?it/s]"
      ]
     },
     "metadata": {},
     "output_type": "display_data"
    },
    {
     "name": "stderr",
     "output_type": "stream",
     "text": [
      "/home/wangkun/mtDNA_simulation/mtDNAsim/sim_utils.py:588: RuntimeWarning: invalid value encountered in divide\n",
      "  mut_freqs.append(mut_pos.sum(0)/len(mt_muts[cell]))\n"
     ]
    },
    {
     "data": {
      "application/vnd.jupyter.widget-view+json": {
       "model_id": "cca9b2c62bc549ee98855eeefdb71655",
       "version_major": 2,
       "version_minor": 0
      },
      "text/plain": [
       "  0%|          | 0/4734 [00:00<?, ?it/s]"
      ]
     },
     "metadata": {},
     "output_type": "display_data"
    },
    {
     "data": {
      "application/vnd.jupyter.widget-view+json": {
       "model_id": "af9b3ea15d7e401b9ac662825fa6eebe",
       "version_major": 2,
       "version_minor": 0
      },
      "text/plain": [
       "  0%|          | 0/5000 [00:00<?, ?it/s]"
      ]
     },
     "metadata": {},
     "output_type": "display_data"
    },
    {
     "name": "stderr",
     "output_type": "stream",
     "text": [
      "/home/wangkun/mtDNA_simulation/mtDNAsim/sim_utils.py:588: RuntimeWarning: invalid value encountered in divide\n",
      "  mut_freqs.append(mut_pos.sum(0)/len(mt_muts[cell]))\n"
     ]
    },
    {
     "data": {
      "application/vnd.jupyter.widget-view+json": {
       "model_id": "a0126cda612944db9148b7c00dfd5823",
       "version_major": 2,
       "version_minor": 0
      },
      "text/plain": [
       "  0%|          | 0/4912 [00:00<?, ?it/s]"
      ]
     },
     "metadata": {},
     "output_type": "display_data"
    },
    {
     "data": {
      "application/vnd.jupyter.widget-view+json": {
       "model_id": "c9505ca03ece4706b6c07eecf0022088",
       "version_major": 2,
       "version_minor": 0
      },
      "text/plain": [
       "  0%|          | 0/5000 [00:00<?, ?it/s]"
      ]
     },
     "metadata": {},
     "output_type": "display_data"
    },
    {
     "name": "stderr",
     "output_type": "stream",
     "text": [
      "/home/wangkun/mtDNA_simulation/mtDNAsim/sim_utils.py:588: RuntimeWarning: invalid value encountered in divide\n",
      "  mut_freqs.append(mut_pos.sum(0)/len(mt_muts[cell]))\n"
     ]
    },
    {
     "data": {
      "application/vnd.jupyter.widget-view+json": {
       "model_id": "c8d29b61df18452ea0f0bf912815ab37",
       "version_major": 2,
       "version_minor": 0
      },
      "text/plain": [
       "  0%|          | 0/4497 [00:00<?, ?it/s]"
      ]
     },
     "metadata": {},
     "output_type": "display_data"
    },
    {
     "data": {
      "application/vnd.jupyter.widget-view+json": {
       "model_id": "31c91d458d99439fa882e38feb69f834",
       "version_major": 2,
       "version_minor": 0
      },
      "text/plain": [
       "  0%|          | 0/5000 [00:00<?, ?it/s]"
      ]
     },
     "metadata": {},
     "output_type": "display_data"
    },
    {
     "name": "stderr",
     "output_type": "stream",
     "text": [
      "/home/wangkun/mtDNA_simulation/mtDNAsim/sim_utils.py:588: RuntimeWarning: invalid value encountered in divide\n",
      "  mut_freqs.append(mut_pos.sum(0)/len(mt_muts[cell]))\n"
     ]
    },
    {
     "data": {
      "application/vnd.jupyter.widget-view+json": {
       "model_id": "ed5968ed21a34287baf4a6c9b89473df",
       "version_major": 2,
       "version_minor": 0
      },
      "text/plain": [
       "  0%|          | 0/5267 [00:00<?, ?it/s]"
      ]
     },
     "metadata": {},
     "output_type": "display_data"
    },
    {
     "data": {
      "application/vnd.jupyter.widget-view+json": {
       "model_id": "cf41a88d90bd48a5977dfbdc2d5ff887",
       "version_major": 2,
       "version_minor": 0
      },
      "text/plain": [
       "  0%|          | 0/5000 [00:00<?, ?it/s]"
      ]
     },
     "metadata": {},
     "output_type": "display_data"
    },
    {
     "name": "stderr",
     "output_type": "stream",
     "text": [
      "/home/wangkun/mtDNA_simulation/mtDNAsim/sim_utils.py:588: RuntimeWarning: invalid value encountered in divide\n",
      "  mut_freqs.append(mut_pos.sum(0)/len(mt_muts[cell]))\n"
     ]
    },
    {
     "data": {
      "application/vnd.jupyter.widget-view+json": {
       "model_id": "e15d4fdcabe24d148cc59edf94ada378",
       "version_major": 2,
       "version_minor": 0
      },
      "text/plain": [
       "  0%|          | 0/3746 [00:00<?, ?it/s]"
      ]
     },
     "metadata": {},
     "output_type": "display_data"
    },
    {
     "data": {
      "application/vnd.jupyter.widget-view+json": {
       "model_id": "c9a0b2e272684b768d5a3b9e7c6ed3aa",
       "version_major": 2,
       "version_minor": 0
      },
      "text/plain": [
       "  0%|          | 0/5000 [00:00<?, ?it/s]"
      ]
     },
     "metadata": {},
     "output_type": "display_data"
    },
    {
     "name": "stderr",
     "output_type": "stream",
     "text": [
      "/home/wangkun/mtDNA_simulation/mtDNAsim/sim_utils.py:588: RuntimeWarning: invalid value encountered in divide\n",
      "  mut_freqs.append(mut_pos.sum(0)/len(mt_muts[cell]))\n"
     ]
    },
    {
     "data": {
      "application/vnd.jupyter.widget-view+json": {
       "model_id": "32514d048d4a44af95334802805ab465",
       "version_major": 2,
       "version_minor": 0
      },
      "text/plain": [
       "  0%|          | 0/5155 [00:00<?, ?it/s]"
      ]
     },
     "metadata": {},
     "output_type": "display_data"
    },
    {
     "data": {
      "application/vnd.jupyter.widget-view+json": {
       "model_id": "4556e2704cf94b1fb758acf7a2e598c7",
       "version_major": 2,
       "version_minor": 0
      },
      "text/plain": [
       "  0%|          | 0/5000 [00:00<?, ?it/s]"
      ]
     },
     "metadata": {},
     "output_type": "display_data"
    },
    {
     "name": "stderr",
     "output_type": "stream",
     "text": [
      "/home/wangkun/mtDNA_simulation/mtDNAsim/sim_utils.py:588: RuntimeWarning: invalid value encountered in divide\n",
      "  mut_freqs.append(mut_pos.sum(0)/len(mt_muts[cell]))\n"
     ]
    },
    {
     "data": {
      "application/vnd.jupyter.widget-view+json": {
       "model_id": "e5432c104cd2425fb7c8c4756476d7ee",
       "version_major": 2,
       "version_minor": 0
      },
      "text/plain": [
       "  0%|          | 0/5346 [00:00<?, ?it/s]"
      ]
     },
     "metadata": {},
     "output_type": "display_data"
    },
    {
     "data": {
      "application/vnd.jupyter.widget-view+json": {
       "model_id": "44dd7397c7734817ac96445799a03a95",
       "version_major": 2,
       "version_minor": 0
      },
      "text/plain": [
       "  0%|          | 0/5000 [00:00<?, ?it/s]"
      ]
     },
     "metadata": {},
     "output_type": "display_data"
    },
    {
     "name": "stderr",
     "output_type": "stream",
     "text": [
      "/home/wangkun/mtDNA_simulation/mtDNAsim/sim_utils.py:588: RuntimeWarning: invalid value encountered in divide\n",
      "  mut_freqs.append(mut_pos.sum(0)/len(mt_muts[cell]))\n"
     ]
    },
    {
     "data": {
      "application/vnd.jupyter.widget-view+json": {
       "model_id": "c658488beef14ee3b027c2b8f5b18067",
       "version_major": 2,
       "version_minor": 0
      },
      "text/plain": [
       "  0%|          | 0/5522 [00:00<?, ?it/s]"
      ]
     },
     "metadata": {},
     "output_type": "display_data"
    },
    {
     "data": {
      "application/vnd.jupyter.widget-view+json": {
       "model_id": "fab872a5e3c84d5c8cbc92bfcd4fb92b",
       "version_major": 2,
       "version_minor": 0
      },
      "text/plain": [
       "  0%|          | 0/5000 [00:00<?, ?it/s]"
      ]
     },
     "metadata": {},
     "output_type": "display_data"
    },
    {
     "name": "stderr",
     "output_type": "stream",
     "text": [
      "/home/wangkun/mtDNA_simulation/mtDNAsim/sim_utils.py:588: RuntimeWarning: invalid value encountered in divide\n",
      "  mut_freqs.append(mut_pos.sum(0)/len(mt_muts[cell]))\n"
     ]
    },
    {
     "data": {
      "application/vnd.jupyter.widget-view+json": {
       "model_id": "f40322f1b1174e219bb825870da42481",
       "version_major": 2,
       "version_minor": 0
      },
      "text/plain": [
       "  0%|          | 0/5745 [00:00<?, ?it/s]"
      ]
     },
     "metadata": {},
     "output_type": "display_data"
    },
    {
     "data": {
      "application/vnd.jupyter.widget-view+json": {
       "model_id": "dca5efad816f45c98635a8a9264062a7",
       "version_major": 2,
       "version_minor": 0
      },
      "text/plain": [
       "  0%|          | 0/5000 [00:00<?, ?it/s]"
      ]
     },
     "metadata": {},
     "output_type": "display_data"
    },
    {
     "name": "stderr",
     "output_type": "stream",
     "text": [
      "/home/wangkun/mtDNA_simulation/mtDNAsim/sim_utils.py:588: RuntimeWarning: invalid value encountered in divide\n",
      "  mut_freqs.append(mut_pos.sum(0)/len(mt_muts[cell]))\n"
     ]
    },
    {
     "data": {
      "application/vnd.jupyter.widget-view+json": {
       "model_id": "23fe3b05d8f046ebab35658208fa0b29",
       "version_major": 2,
       "version_minor": 0
      },
      "text/plain": [
       "  0%|          | 0/2267 [00:00<?, ?it/s]"
      ]
     },
     "metadata": {},
     "output_type": "display_data"
    },
    {
     "data": {
      "application/vnd.jupyter.widget-view+json": {
       "model_id": "498de436e8874d7eadcfd1a2bc3fb3a5",
       "version_major": 2,
       "version_minor": 0
      },
      "text/plain": [
       "  0%|          | 0/5000 [00:00<?, ?it/s]"
      ]
     },
     "metadata": {},
     "output_type": "display_data"
    },
    {
     "name": "stderr",
     "output_type": "stream",
     "text": [
      "/home/wangkun/mtDNA_simulation/mtDNAsim/sim_utils.py:588: RuntimeWarning: invalid value encountered in divide\n",
      "  mut_freqs.append(mut_pos.sum(0)/len(mt_muts[cell]))\n"
     ]
    },
    {
     "data": {
      "application/vnd.jupyter.widget-view+json": {
       "model_id": "df024b71394d44168dac31faf58ba925",
       "version_major": 2,
       "version_minor": 0
      },
      "text/plain": [
       "  0%|          | 0/3930 [00:00<?, ?it/s]"
      ]
     },
     "metadata": {},
     "output_type": "display_data"
    },
    {
     "data": {
      "application/vnd.jupyter.widget-view+json": {
       "model_id": "600383c72eb043bfa744eee627066e46",
       "version_major": 2,
       "version_minor": 0
      },
      "text/plain": [
       "  0%|          | 0/5000 [00:00<?, ?it/s]"
      ]
     },
     "metadata": {},
     "output_type": "display_data"
    },
    {
     "name": "stderr",
     "output_type": "stream",
     "text": [
      "/home/wangkun/mtDNA_simulation/mtDNAsim/sim_utils.py:588: RuntimeWarning: invalid value encountered in divide\n",
      "  mut_freqs.append(mut_pos.sum(0)/len(mt_muts[cell]))\n"
     ]
    },
    {
     "data": {
      "application/vnd.jupyter.widget-view+json": {
       "model_id": "722b795a173d46388a88c249a1d36a9c",
       "version_major": 2,
       "version_minor": 0
      },
      "text/plain": [
       "  0%|          | 0/3095 [00:00<?, ?it/s]"
      ]
     },
     "metadata": {},
     "output_type": "display_data"
    },
    {
     "data": {
      "application/vnd.jupyter.widget-view+json": {
       "model_id": "b562ae5d16a041988d7c4a3ecb6c1d81",
       "version_major": 2,
       "version_minor": 0
      },
      "text/plain": [
       "  0%|          | 0/5000 [00:00<?, ?it/s]"
      ]
     },
     "metadata": {},
     "output_type": "display_data"
    },
    {
     "name": "stderr",
     "output_type": "stream",
     "text": [
      "/home/wangkun/mtDNA_simulation/mtDNAsim/sim_utils.py:588: RuntimeWarning: invalid value encountered in divide\n",
      "  mut_freqs.append(mut_pos.sum(0)/len(mt_muts[cell]))\n"
     ]
    },
    {
     "data": {
      "application/vnd.jupyter.widget-view+json": {
       "model_id": "0f5585fee6194d53a8510a0d2d674ff3",
       "version_major": 2,
       "version_minor": 0
      },
      "text/plain": [
       "  0%|          | 0/6534 [00:00<?, ?it/s]"
      ]
     },
     "metadata": {},
     "output_type": "display_data"
    },
    {
     "data": {
      "application/vnd.jupyter.widget-view+json": {
       "model_id": "bc693e4e6e414069ab1f06d0596eb26f",
       "version_major": 2,
       "version_minor": 0
      },
      "text/plain": [
       "  0%|          | 0/5000 [00:00<?, ?it/s]"
      ]
     },
     "metadata": {},
     "output_type": "display_data"
    },
    {
     "name": "stderr",
     "output_type": "stream",
     "text": [
      "/home/wangkun/mtDNA_simulation/mtDNAsim/sim_utils.py:588: RuntimeWarning: invalid value encountered in divide\n",
      "  mut_freqs.append(mut_pos.sum(0)/len(mt_muts[cell]))\n"
     ]
    },
    {
     "data": {
      "application/vnd.jupyter.widget-view+json": {
       "model_id": "181970d09636418f8026d755b8c1abc1",
       "version_major": 2,
       "version_minor": 0
      },
      "text/plain": [
       "  0%|          | 0/5115 [00:00<?, ?it/s]"
      ]
     },
     "metadata": {},
     "output_type": "display_data"
    },
    {
     "data": {
      "application/vnd.jupyter.widget-view+json": {
       "model_id": "b02721a5626e4d2b823321b6067bea1b",
       "version_major": 2,
       "version_minor": 0
      },
      "text/plain": [
       "  0%|          | 0/5000 [00:00<?, ?it/s]"
      ]
     },
     "metadata": {},
     "output_type": "display_data"
    },
    {
     "name": "stderr",
     "output_type": "stream",
     "text": [
      "/home/wangkun/mtDNA_simulation/mtDNAsim/sim_utils.py:588: RuntimeWarning: invalid value encountered in divide\n",
      "  mut_freqs.append(mut_pos.sum(0)/len(mt_muts[cell]))\n"
     ]
    },
    {
     "ename": "FileNotFoundError",
     "evalue": "[Errno 2] No such file or directory: '/data3/wangkun/mtsim_res/res_1113/linear_/rm/mt_allmuts_mid_0.1_rm_800_rs.pkl'",
     "output_type": "error",
     "traceback": [
      "\u001b[0;31m---------------------------------------------------------------------------\u001b[0m",
      "\u001b[0;31mFileNotFoundError\u001b[0m                         Traceback (most recent call last)",
      "Cell \u001b[0;32mIn[37], line 4\u001b[0m\n\u001b[1;32m      2\u001b[0m data \u001b[38;5;241m=\u001b[39m [[],[]]\n\u001b[1;32m      3\u001b[0m \u001b[38;5;28;01mfor\u001b[39;00m simid \u001b[38;5;129;01min\u001b[39;00m os\u001b[38;5;241m.\u001b[39mlistdir(path):\n\u001b[0;32m----> 4\u001b[0m     mt_800rs \u001b[38;5;241m=\u001b[39m pickle\u001b[38;5;241m.\u001b[39mload(\u001b[38;5;28;43mopen\u001b[39;49m\u001b[43m(\u001b[49m\u001b[38;5;124;43mf\u001b[39;49m\u001b[38;5;124;43m'\u001b[39;49m\u001b[38;5;132;43;01m{\u001b[39;49;00m\u001b[43mpath\u001b[49m\u001b[38;5;132;43;01m}\u001b[39;49;00m\u001b[38;5;132;43;01m{\u001b[39;49;00m\u001b[43msimid\u001b[49m\u001b[38;5;132;43;01m}\u001b[39;49;00m\u001b[38;5;124;43m/mt_allmuts_mid_0.1_\u001b[39;49m\u001b[38;5;132;43;01m{\u001b[39;49;00m\u001b[43msimid\u001b[49m\u001b[38;5;132;43;01m}\u001b[39;49;00m\u001b[38;5;124;43m_800_rs.pkl\u001b[39;49m\u001b[38;5;124;43m'\u001b[39;49m\u001b[43m,\u001b[49m\u001b[43m \u001b[49m\u001b[38;5;124;43m'\u001b[39;49m\u001b[38;5;124;43mrb\u001b[39;49m\u001b[38;5;124;43m'\u001b[39;49m\u001b[43m)\u001b[49m)\n\u001b[1;32m      5\u001b[0m     mt_800 \u001b[38;5;241m=\u001b[39m pickle\u001b[38;5;241m.\u001b[39mload(\u001b[38;5;28mopen\u001b[39m(\u001b[38;5;124mf\u001b[39m\u001b[38;5;124m'\u001b[39m\u001b[38;5;132;01m{\u001b[39;00mpath\u001b[38;5;132;01m}\u001b[39;00m\u001b[38;5;132;01m{\u001b[39;00msimid\u001b[38;5;132;01m}\u001b[39;00m\u001b[38;5;124m/mt_allmuts_mid_0.1_\u001b[39m\u001b[38;5;132;01m{\u001b[39;00msimid\u001b[38;5;132;01m}\u001b[39;00m\u001b[38;5;124m_800.pkl\u001b[39m\u001b[38;5;124m'\u001b[39m, \u001b[38;5;124m'\u001b[39m\u001b[38;5;124mrb\u001b[39m\u001b[38;5;124m'\u001b[39m))\n\u001b[1;32m      6\u001b[0m     mt_800rs \u001b[38;5;241m=\u001b[39m rs_cvt(mt_800rs)\n",
      "File \u001b[0;32m~/miniconda3/lib/python3.9/site-packages/IPython/core/interactiveshell.py:282\u001b[0m, in \u001b[0;36m_modified_open\u001b[0;34m(file, *args, **kwargs)\u001b[0m\n\u001b[1;32m    275\u001b[0m \u001b[38;5;28;01mif\u001b[39;00m file \u001b[38;5;129;01min\u001b[39;00m {\u001b[38;5;241m0\u001b[39m, \u001b[38;5;241m1\u001b[39m, \u001b[38;5;241m2\u001b[39m}:\n\u001b[1;32m    276\u001b[0m     \u001b[38;5;28;01mraise\u001b[39;00m \u001b[38;5;167;01mValueError\u001b[39;00m(\n\u001b[1;32m    277\u001b[0m         \u001b[38;5;124mf\u001b[39m\u001b[38;5;124m\"\u001b[39m\u001b[38;5;124mIPython won\u001b[39m\u001b[38;5;124m'\u001b[39m\u001b[38;5;124mt let you open fd=\u001b[39m\u001b[38;5;132;01m{\u001b[39;00mfile\u001b[38;5;132;01m}\u001b[39;00m\u001b[38;5;124m by default \u001b[39m\u001b[38;5;124m\"\u001b[39m\n\u001b[1;32m    278\u001b[0m         \u001b[38;5;124m\"\u001b[39m\u001b[38;5;124mas it is likely to crash IPython. If you know what you are doing, \u001b[39m\u001b[38;5;124m\"\u001b[39m\n\u001b[1;32m    279\u001b[0m         \u001b[38;5;124m\"\u001b[39m\u001b[38;5;124myou can use builtins\u001b[39m\u001b[38;5;124m'\u001b[39m\u001b[38;5;124m open.\u001b[39m\u001b[38;5;124m\"\u001b[39m\n\u001b[1;32m    280\u001b[0m     )\n\u001b[0;32m--> 282\u001b[0m \u001b[38;5;28;01mreturn\u001b[39;00m \u001b[43mio_open\u001b[49m\u001b[43m(\u001b[49m\u001b[43mfile\u001b[49m\u001b[43m,\u001b[49m\u001b[43m \u001b[49m\u001b[38;5;241;43m*\u001b[39;49m\u001b[43margs\u001b[49m\u001b[43m,\u001b[49m\u001b[43m \u001b[49m\u001b[38;5;241;43m*\u001b[39;49m\u001b[38;5;241;43m*\u001b[39;49m\u001b[43mkwargs\u001b[49m\u001b[43m)\u001b[49m\n",
      "\u001b[0;31mFileNotFoundError\u001b[0m: [Errno 2] No such file or directory: '/data3/wangkun/mtsim_res/res_1113/linear_/rm/mt_allmuts_mid_0.1_rm_800_rs.pkl'"
     ]
    }
   ],
   "source": [
    "path = '/data3/wangkun/mtsim_res/res_1113/linear_/'\n",
    "data = [[],[]]\n",
    "for simid in os.listdir(path):\n",
    "    mt_800rs = pickle.load(open(f'{path}{simid}/mt_allmuts_mid_0.1_{simid}_800_rs.pkl', 'rb'))\n",
    "    mt_800 = pickle.load(open(f'{path}{simid}/mt_allmuts_mid_0.1_{simid}_800.pkl', 'rb'))\n",
    "    mt_800rs = rs_cvt(mt_800rs)\n",
    "    freq_ce = mut_freq(mt_800rs)\n",
    "    freq_cm = mut_freq(mt_800)\n",
    "    data[0].append(np.sum(freq_ce>0.01, axis=1).mean())\n",
    "    data[1].append(np.sum(freq_cm>0.01, axis=1).mean())"
   ]
  },
  {
   "cell_type": "code",
   "execution_count": 39,
   "id": "7712d963-0d9c-456c-8061-1940831b59a0",
   "metadata": {},
   "outputs": [
    {
     "data": {
      "text/plain": [
       "{'whiskers': [<matplotlib.lines.Line2D at 0x7f678db733d0>,\n",
       "  <matplotlib.lines.Line2D at 0x7f678db73670>,\n",
       "  <matplotlib.lines.Line2D at 0x7f6769196640>,\n",
       "  <matplotlib.lines.Line2D at 0x7f67691968e0>],\n",
       " 'caps': [<matplotlib.lines.Line2D at 0x7f678db73910>,\n",
       "  <matplotlib.lines.Line2D at 0x7f678db73bb0>,\n",
       "  <matplotlib.lines.Line2D at 0x7f6769196b80>,\n",
       "  <matplotlib.lines.Line2D at 0x7f6769196e20>],\n",
       " 'boxes': [<matplotlib.lines.Line2D at 0x7f678db73130>,\n",
       "  <matplotlib.lines.Line2D at 0x7f6769196400>],\n",
       " 'medians': [<matplotlib.lines.Line2D at 0x7f678db73e50>,\n",
       "  <matplotlib.lines.Line2D at 0x7f6769299100>],\n",
       " 'fliers': [<matplotlib.lines.Line2D at 0x7f6769196130>,\n",
       "  <matplotlib.lines.Line2D at 0x7f67692993a0>],\n",
       " 'means': []}"
      ]
     },
     "execution_count": 39,
     "metadata": {},
     "output_type": "execute_result"
    },
    {
     "data": {
      "image/png": "[encoded data removed]",
      "text/plain": [
       "<Figure size 640x480 with 1 Axes>"
      ]
     },
     "metadata": {},
     "output_type": "display_data"
    }
   ],
   "source": [
    "plt.boxplot(data)"
   ]
  },
  {
   "cell_type": "code",
   "execution_count": null,
   "id": "05034540-60cf-4232-bc35-c608e88a931d",
   "metadata": {},
   "outputs": [],
   "source": []
  },
  {
   "cell_type": "code",
   "execution_count": null,
   "id": "ed3605a8-9edf-4a07-a253-f97feeaf0574",
   "metadata": {},
   "outputs": [],
   "source": []
  },
  {
   "cell_type": "code",
   "execution_count": 32,
   "id": "9e878763-806a-4d6e-b780-fa2b6b99ed92",
   "metadata": {},
   "outputs": [],
   "source": [
    "mt_800rs = pickle.load(open('/data3/wangkun/mtsim_res/res_1113/linear_/449346/mt_allmuts_mid_0.1_449346_800_rs.pkl', 'rb'))\n",
    "mt_800 = pickle.load(open('/data3/wangkun/mtsim_res/res_1113/linear_/449346/mt_allmuts_mid_0.1_449346_800.pkl', 'rb'))"
   ]
  },
  {
   "cell_type": "code",
   "execution_count": 33,
   "id": "9a59ddda-28cf-49ef-974c-a6bdfbbd0af0",
   "metadata": {},
   "outputs": [
    {
     "data": {
      "application/vnd.jupyter.widget-view+json": {
       "model_id": "a410732340c5470cb718c8e6f7e21be5",
       "version_major": 2,
       "version_minor": 0
      },
      "text/plain": [
       "  0%|          | 0/5155 [00:00<?, ?it/s]"
      ]
     },
     "metadata": {},
     "output_type": "display_data"
    },
    {
     "data": {
      "application/vnd.jupyter.widget-view+json": {
       "model_id": "1782a6f69e1e4ea8a10bd0a996ba7239",
       "version_major": 2,
       "version_minor": 0
      },
      "text/plain": [
       "  0%|          | 0/5000 [00:00<?, ?it/s]"
      ]
     },
     "metadata": {},
     "output_type": "display_data"
    },
    {
     "name": "stderr",
     "output_type": "stream",
     "text": [
      "/home/wangkun/mtDNA_simulation/mtDNAsim/sim_utils.py:588: RuntimeWarning: invalid value encountered in divide\n",
      "  mut_freqs.append(mut_pos.sum(0)/len(mt_muts[cell]))\n"
     ]
    }
   ],
   "source": [
    "mt_800rs = rs_cvt(mt_800rs)\n",
    "freq_ce = mut_freq(mt_800rs)\n",
    "\n",
    "# mt_800 = rs_cvt(mt_800)\n",
    "freq_cm = mut_freq(mt_800)"
   ]
  },
  {
   "cell_type": "code",
   "execution_count": 36,
   "id": "f418e423-b2d2-4501-a5c7-39fd4c792734",
   "metadata": {},
   "outputs": [
    {
     "data": {
      "text/plain": [
       "1.8721629485935984"
      ]
     },
     "execution_count": 36,
     "metadata": {},
     "output_type": "execute_result"
    }
   ],
   "source": [
    "np.sum(freq_ce>0.01, axis=1).mean()"
   ]
  },
  {
   "cell_type": "code",
   "execution_count": 34,
   "id": "ab515373-45a1-486c-9254-ee809da2da01",
   "metadata": {},
   "outputs": [
    {
     "data": {
      "text/plain": [
       "(array([1026., 1471., 1075.,  718.,  353.,  183.,  101.,   46.,   25.]),\n",
       " array([0., 1., 2., 3., 4., 5., 6., 7., 8., 9.]),\n",
       " <BarContainer object of 9 artists>)"
      ]
     },
     "execution_count": 34,
     "metadata": {},
     "output_type": "execute_result"
    },
    {
     "data": {
      "image/png": "[encoded data removed]",
      "text/plain": [
       "<Figure size 640x480 with 1 Axes>"
      ]
     },
     "metadata": {},
     "output_type": "display_data"
    }
   ],
   "source": [
    "plt.hist(np.sum(freq_ce>0.01, axis=1), alpha=0.3, bins=np.arange(10))\n",
    "plt.hist(np.sum(freq_cm>0.01, axis=1), alpha=0.3, bins=np.arange(10))"
   ]
  },
  {
   "cell_type": "code",
   "execution_count": null,
   "id": "e2727332-263f-4050-a92f-4cdb7f647008",
   "metadata": {},
   "outputs": [],
   "source": []
  },
  {
   "cell_type": "code",
   "execution_count": null,
   "id": "d46d5a3a-2d31-4588-892d-b15adada0f3e",
   "metadata": {},
   "outputs": [],
   "source": []
  }
 ],
 "metadata": {
  "kernelspec": {
   "display_name": "Python 3 (ipykernel)",
   "language": "python",
   "name": "python3"
  },
  "language_info": {
   "codemirror_mode": {
    "name": "ipython",
    "version": 3
   },
   "file_extension": ".py",
   "mimetype": "text/x-python",
   "name": "python",
   "nbconvert_exporter": "python",
   "pygments_lexer": "ipython3",
   "version": "3.9.12"
  }
 },
 "nbformat": 4,
 "nbformat_minor": 5
}
