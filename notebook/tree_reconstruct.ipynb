{
 "cells": [
  {
   "cell_type": "code",
   "execution_count": 1,
   "id": "eeeeef98-2db6-47e4-9b90-75a4407f40d3",
   "metadata": {},
   "outputs": [],
   "source": [
    "library(ape)\n",
    "library(phangorn)"
   ]
  },
  {
   "cell_type": "code",
   "execution_count": 5,
   "id": "f15c15bc-449a-4139-9424-6a7733894a48",
   "metadata": {},
   "outputs": [],
   "source": [
    "# seq = read.dna('../results/mt_constant_mut.phy', format='sequential')\n",
    "seq = read.dna('../results/dna_constant_mut.phy', format='sequential')\n",
    "dist_mat = dist.dna(seq, model='raw')\n",
    "tree_nj = nj(dist_mat)"
   ]
  },
  {
   "cell_type": "code",
   "execution_count": 6,
   "id": "d3149cfc-58f4-49b6-bf9e-cace0fac146b",
   "metadata": {},
   "outputs": [
    {
     "name": "stdout",
     "output_type": "stream",
     "text": [
      "Final p-score 6128 after  0 nni operations \n"
     ]
    }
   ],
   "source": [
    "seq2 <- as.phyDat(seq)\n",
    "tree_mp <- optim.parsimony(tree_nj, seq2)\n",
    "tree_mp <- nnls.phylo(tree_mp, dist_mat)"
   ]
  },
  {
   "cell_type": "code",
   "execution_count": 7,
   "id": "f09677e2-181a-4792-b1fe-3443feffda4b",
   "metadata": {},
   "outputs": [],
   "source": [
    "write.tree(tree_nj, file='../results/dna_mt_constant_mut_nj.nwk')\n",
    "write.tree(tree_mp, file='../results/dna_mt_constant_mut_mp.nwk')"
   ]
  },
  {
   "cell_type": "code",
   "execution_count": null,
   "id": "6594e0c0-71ef-40af-8f32-532856b06ae1",
   "metadata": {},
   "outputs": [],
   "source": [
    "# iqtree -T 5 -s $NAME -o ref --seed 12300 -m GTR2+FO+R10"
   ]
  },
  {
   "cell_type": "code",
   "execution_count": null,
   "id": "1441b849-8170-4a26-926d-540f864840d8",
   "metadata": {},
   "outputs": [],
   "source": []
  },
  {
   "cell_type": "code",
   "execution_count": null,
   "id": "3622d10b-1857-43ff-97e0-657cdf2d71d0",
   "metadata": {},
   "outputs": [],
   "source": []
  }
 ],
 "metadata": {
  "kernelspec": {
   "display_name": "R",
   "language": "R",
   "name": "ir"
  },
  "language_info": {
   "codemirror_mode": "r",
   "file_extension": ".r",
   "mimetype": "text/x-r-source",
   "name": "R",
   "pygments_lexer": "r",
   "version": "4.2.2"
  }
 },
 "nbformat": 4,
 "nbformat_minor": 5
}
