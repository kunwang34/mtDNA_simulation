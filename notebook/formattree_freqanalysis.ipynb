{
 "cells": [
  {
   "cell_type": "code",
   "execution_count": 1,
   "id": "8856d09c-26d6-45ea-acc0-2044a5a04d74",
   "metadata": {},
   "outputs": [],
   "source": [
    "import ete3\n",
    "from Bio import Phylo\n",
    "from io import StringIO\n",
    "import re\n",
    "import pandas as pd\n",
    "import numpy as np\n",
    "import matplotlib.pyplot as plt"
   ]
  },
  {
   "cell_type": "code",
   "execution_count": 37,
   "id": "0d03a1c1-aa9c-474c-b358-7ff7bec08b57",
   "metadata": {},
   "outputs": [],
   "source": [
    "plt.rcParams['font.size'] = 12"
   ]
  },
  {
   "cell_type": "code",
   "execution_count": 2,
   "id": "e0d18644-0847-444f-9c13-8bc7b2c966a6",
   "metadata": {},
   "outputs": [],
   "source": [
    "with open('/data3/wangkun/mtsim_res/res_1113/linear_/292542/linear_tree_gt_292542.nwk', 'r') as f:\n",
    "    tree_file = f.readlines()"
   ]
  },
  {
   "cell_type": "code",
   "execution_count": 127,
   "id": "32a69b1a-ae7f-4009-b7ac-8ef4509ad048",
   "metadata": {
    "tags": []
   },
   "outputs": [
    {
     "data": {
      "text/plain": [
       "1"
      ]
     },
     "execution_count": 127,
     "metadata": {},
     "output_type": "execute_result"
    }
   ],
   "source": [
    "tree = Phylo.read(StringIO(tree_file[0]), format='newick')\n",
    "leave = tree.get_terminals()\n",
    "sel_cells = [leave[i].name for i in np.random.choice(range(len(tree.get_terminals())), 500, replace=False)]\n",
    "\n",
    "tr = ete3.Tree(tree_file[0].replace('\\n', ';'), format=3)\n",
    "tr.prune(sel_cells)\n",
    "tree = Phylo.read(StringIO(tr.write()), format='newick')\n",
    "for i in tree.get_nonterminals():\n",
    "    i.branch_length = 1\n",
    "for i in tree.get_terminals():\n",
    "    i.branch_length = 50\n",
    "    \n",
    "Phylo.write(tree, './tree_50', format='newick')\n",
    "for i in tree.get_terminals():\n",
    "    i.branch_length = 800\n",
    "Phylo.write(tree, './tree_800', format='newick')"
   ]
  },
  {
   "cell_type": "code",
   "execution_count": null,
   "id": "0a09a161-8607-420b-b8e3-4b92694523d7",
   "metadata": {},
   "outputs": [],
   "source": []
  },
  {
   "cell_type": "code",
   "execution_count": null,
   "id": "a72920d6-0717-4b47-9c8e-d951a8991cc0",
   "metadata": {},
   "outputs": [],
   "source": []
  },
  {
   "cell_type": "code",
   "execution_count": null,
   "id": "e89488ef-7874-47f3-bb2a-1d26269f19db",
   "metadata": {},
   "outputs": [],
   "source": []
  },
  {
   "cell_type": "code",
   "execution_count": 128,
   "id": "1352837b-1053-4e8c-ab7f-4ab6ea087452",
   "metadata": {},
   "outputs": [],
   "source": [
    "data=pd.read_csv(StringIO(tree_file[1].replace('\\t', '\\n')), sep=':', header=None, index_col=0)"
   ]
  },
  {
   "cell_type": "code",
   "execution_count": 129,
   "id": "7e020a99-d777-4cb1-ac84-51f5f0e65adc",
   "metadata": {},
   "outputs": [],
   "source": [
    "data = data.loc[[i.name for i in tree.get_terminals()]]"
   ]
  },
  {
   "cell_type": "code",
   "execution_count": 130,
   "id": "8abacfc5-417e-4af1-80ef-939a0062d958",
   "metadata": {},
   "outputs": [],
   "source": [
    "color_tab = {0:'#31a354', 1:'#a7a2ce', 2:'#74aad4', 3:'#fdd0a2', 4:'#c6dbef'}"
   ]
  },
  {
   "cell_type": "code",
   "execution_count": 131,
   "id": "e4339326-451f-4b82-b78b-2de7ee907617",
   "metadata": {},
   "outputs": [],
   "source": [
    "head = 'DATASET_COLORSTRIP\\nSEPARATOR SPACE\\nDATASET_LABEL label1\\nCOLOR #ff0000\\nDATA\\n'\n",
    "with open('./color_anno.txt', 'w') as f:\n",
    "    f.write(head)\n",
    "    for i in data.index:\n",
    "        f.write(f'{i} {color_tab[data.loc[i][1]]}\\n')\n",
    "\n"
   ]
  },
  {
   "cell_type": "code",
   "execution_count": 3,
   "id": "1841a063-60bc-4ebf-a9e8-ce077f5cc8cd",
   "metadata": {},
   "outputs": [],
   "source": [
    "import pickle"
   ]
  },
  {
   "cell_type": "code",
   "execution_count": 4,
   "id": "452d99be-4587-49a1-aa95-888b72864855",
   "metadata": {},
   "outputs": [],
   "source": [
    "from tqdm import tqdm"
   ]
  },
  {
   "cell_type": "code",
   "execution_count": 5,
   "id": "14154301-b7a5-427a-a1b6-f97186b72137",
   "metadata": {},
   "outputs": [],
   "source": [
    "import os"
   ]
  },
  {
   "cell_type": "code",
   "execution_count": 45,
   "id": "184da5f0-1a84-4066-89fa-e62213f5b019",
   "metadata": {},
   "outputs": [],
   "source": [
    "mts = pickle.load(open('/data3/wangkun/mtsim_res/res_1113/linear_/630531/mt_allmuts_mid_0.1_630531_50.pkl', 'rb'))"
   ]
  },
  {
   "cell_type": "code",
   "execution_count": 46,
   "id": "7907af76-3ad9-45e6-829c-0ec68a3eaeba",
   "metadata": {},
   "outputs": [
    {
     "name": "stderr",
     "output_type": "stream",
     "text": [
      "  1%|          | 31/5000 [00:00<00:16, 308.75it/s]/tmp/ipykernel_88349/3739064826.py:13: RuntimeWarning: invalid value encountered in divide\n",
      "  mut_freqs.append(mut_pos.sum(0)/len(mt_muts[cell]))\n",
      "100%|██████████| 5000/5000 [00:19<00:00, 257.32it/s]\n"
     ]
    }
   ],
   "source": [
    "mf = mut_freq(mts)"
   ]
  },
  {
   "cell_type": "code",
   "execution_count": null,
   "id": "27aa403f-0ab9-4973-b1d8-25c16ef07f69",
   "metadata": {},
   "outputs": [],
   "source": []
  },
  {
   "cell_type": "code",
   "execution_count": 205,
   "id": "7b55f475-7081-47cc-95e5-ce78d9bc8e1e",
   "metadata": {},
   "outputs": [],
   "source": [
    "mts1 = pickle.load(open('/data3/wangkun/mtsim_res/res_1113/linear_const/123986/mt_allmuts_const_0.1_123986.pkl', 'rb'))"
   ]
  },
  {
   "cell_type": "code",
   "execution_count": 37,
   "id": "36090cc0-897f-4107-bb73-7a9d6739a53c",
   "metadata": {
    "tags": []
   },
   "outputs": [
    {
     "name": "stderr",
     "output_type": "stream",
     "text": [
      "  0%|          | 0/22 [00:00<?, ?it/s]\n",
      "100%|██████████| 1/1 [00:00<00:00, 566.03it/s]\n",
      " 14%|█▎        | 3/22 [00:22<02:21,  7.43s/it]\n",
      "100%|██████████| 1/1 [00:00<00:00, 620.37it/s]\n",
      " 18%|█▊        | 4/22 [00:36<02:56,  9.78s/it]\n",
      "100%|██████████| 1/1 [00:00<00:00, 525.21it/s]\n",
      " 23%|██▎       | 5/22 [00:54<03:29, 12.33s/it]\n",
      "100%|██████████| 1/1 [00:00<00:00, 320.84it/s]\n",
      " 27%|██▋       | 6/22 [01:12<03:44, 14.01s/it]\n",
      "100%|██████████| 1/1 [00:00<00:00, 520.58it/s]\n",
      " 32%|███▏      | 7/22 [01:32<03:56, 15.77s/it]\n",
      "100%|██████████| 1/1 [00:00<00:00, 741.96it/s]\n",
      " 36%|███▋      | 8/22 [01:47<03:38, 15.63s/it]\n",
      "100%|██████████| 1/1 [00:00<00:00, 798.15it/s]\n",
      " 41%|████      | 9/22 [02:05<03:33, 16.43s/it]\n",
      "100%|██████████| 1/1 [00:00<00:00, 309.61it/s]\n",
      " 45%|████▌     | 10/22 [02:23<03:22, 16.90s/it]\n",
      "100%|██████████| 1/1 [00:00<00:00, 449.36it/s]\n",
      " 50%|█████     | 11/22 [02:41<03:06, 16.98s/it]\n",
      "100%|██████████| 1/1 [00:00<00:00, 151.11it/s]\n",
      " 55%|█████▍    | 12/22 [02:58<02:52, 17.23s/it]\n",
      "100%|██████████| 1/1 [00:00<00:00, 240.53it/s]\n",
      " 59%|█████▉    | 13/22 [03:17<02:39, 17.70s/it]\n",
      "100%|██████████| 1/1 [00:00<00:00, 827.44it/s]\n",
      " 64%|██████▎   | 14/22 [03:32<02:14, 16.76s/it]\n",
      "100%|██████████| 1/1 [00:00<00:00, 796.94it/s]\n",
      " 68%|██████▊   | 15/22 [03:52<02:04, 17.76s/it]\n",
      "100%|██████████| 1/1 [00:00<00:00, 492.00it/s]\n",
      " 73%|███████▎  | 16/22 [04:10<01:46, 17.81s/it]\n",
      "100%|██████████| 1/1 [00:00<00:00, 637.82it/s]\n",
      " 77%|███████▋  | 17/22 [04:40<01:48, 21.64s/it]\n",
      "100%|██████████| 1/1 [00:00<00:00, 202.08it/s]\n",
      " 82%|████████▏ | 18/22 [05:04<01:29, 22.25s/it]\n",
      "100%|██████████| 1/1 [00:00<00:00, 779.03it/s]\n",
      " 86%|████████▋ | 19/22 [05:27<01:07, 22.49s/it]\n",
      "100%|██████████| 1/1 [00:00<00:00, 660.62it/s]\n",
      " 91%|█████████ | 20/22 [05:57<00:49, 24.76s/it]\n",
      "100%|██████████| 1/1 [00:00<00:00, 291.11it/s]\n",
      " 95%|█████████▌| 21/22 [06:30<00:27, 27.22s/it]\n",
      "100%|██████████| 1/1 [00:00<00:00, 506.93it/s]\n",
      "100%|██████████| 22/22 [07:03<00:00, 19.27s/it]\n"
     ]
    }
   ],
   "source": [
    "vafs = []\n",
    "for i in tqdm(os.listdir('/data3/wangkun/mtsim_res/res_1113/linear_const/')):\n",
    "    if i == 'rm':\n",
    "        continue\n",
    "    if i== 'old':\n",
    "        continue\n",
    "    mts = pickle.load(open(f'/data3/wangkun/mtsim_res/res_1113/linear_const/{i}/mt_allmuts_const_0.1_{i}.pkl', 'rb'))\n",
    "    vafs.append(mut_freq(mts, sel_cells=['<0_0>']).to_numpy())\n"
   ]
  },
  {
   "cell_type": "code",
   "execution_count": 13,
   "id": "ef26de25-6145-42b1-81fd-55fea2f16480",
   "metadata": {
    "collapsed": true,
    "jupyter": {
     "outputs_hidden": true
    },
    "tags": []
   },
   "outputs": [
    {
     "name": "stderr",
     "output_type": "stream",
     "text": [
      "  0%|          | 0/21 [00:00<?, ?it/s]\n",
      "100%|██████████| 1/1 [00:00<00:00, 200.66it/s]\n",
      "  5%|▍         | 1/21 [00:16<05:35, 16.79s/it]\n",
      "100%|██████████| 1/1 [00:00<00:00, 194.53it/s]\n",
      " 10%|▉         | 2/21 [00:21<03:04,  9.71s/it]\n",
      "100%|██████████| 1/1 [00:00<00:00, 192.67it/s]\n",
      " 14%|█▍        | 3/21 [00:27<02:25,  8.09s/it]\n",
      "100%|██████████| 1/1 [00:00<00:00, 188.68it/s]\n",
      " 19%|█▉        | 4/21 [00:35<02:17,  8.06s/it]\n",
      "100%|██████████| 1/1 [00:00<00:00, 884.13it/s]\n",
      " 24%|██▍       | 5/21 [00:42<01:59,  7.44s/it]\n",
      "100%|██████████| 1/1 [00:00<00:00, 195.09it/s]\n",
      " 29%|██▊       | 6/21 [00:49<01:52,  7.49s/it]\n",
      "100%|██████████| 1/1 [00:00<00:00, 130.68it/s]\n",
      " 33%|███▎      | 7/21 [00:55<01:38,  7.02s/it]\n",
      "100%|██████████| 1/1 [00:00<00:00, 130.57it/s]\n",
      " 38%|███▊      | 8/21 [01:01<01:25,  6.56s/it]\n",
      "100%|██████████| 1/1 [00:00<00:00, 320.20it/s]\n",
      " 43%|████▎     | 9/21 [01:09<01:23,  7.00s/it]\n",
      "100%|██████████| 1/1 [00:00<00:00, 488.68it/s]\n",
      " 48%|████▊     | 10/21 [01:15<01:13,  6.66s/it]\n",
      "100%|██████████| 1/1 [00:00<00:00, 380.09it/s]\n",
      " 52%|█████▏    | 11/21 [01:20<01:03,  6.35s/it]\n",
      "100%|██████████| 1/1 [00:00<00:00, 289.50it/s]\n",
      " 57%|█████▋    | 12/21 [01:27<00:58,  6.53s/it]\n",
      "100%|██████████| 1/1 [00:00<00:00, 315.48it/s]\n",
      " 62%|██████▏   | 13/21 [01:34<00:53,  6.67s/it]\n",
      "100%|██████████| 1/1 [00:00<00:00, 292.49it/s]\n",
      " 67%|██████▋   | 14/21 [01:39<00:43,  6.16s/it]\n",
      "100%|██████████| 1/1 [00:00<00:00, 299.36it/s]\n",
      " 71%|███████▏  | 15/21 [01:46<00:37,  6.24s/it]\n",
      "100%|██████████| 1/1 [00:00<00:00, 468.48it/s]\n",
      " 76%|███████▌  | 16/21 [01:51<00:29,  5.88s/it]\n",
      "100%|██████████| 1/1 [00:00<00:00, 342.42it/s]\n",
      " 81%|████████  | 17/21 [01:57<00:24,  6.02s/it]\n",
      "100%|██████████| 1/1 [00:00<00:00, 595.27it/s]\n",
      " 86%|████████▌ | 18/21 [02:04<00:19,  6.38s/it]\n",
      "100%|██████████| 1/1 [00:00<00:00, 167.85it/s]\n",
      " 90%|█████████ | 19/21 [02:10<00:12,  6.16s/it]\n",
      "100%|██████████| 1/1 [00:00<00:00, 568.18it/s]\n",
      "100%|██████████| 21/21 [02:16<00:00,  6.49s/it]\n"
     ]
    }
   ],
   "source": [
    "vafs_ = []\n",
    "for i in tqdm(os.listdir('/data3/wangkun/mtsim_res/res_1113/linear_/')):\n",
    "    if i == 'rm':\n",
    "        continue\n",
    "    mts = pickle.load(open(f'/data3/wangkun/mtsim_res/res_1113/linear_/{i}/mt_allmuts_mid_0.1_{i}.pkl', 'rb'))\n",
    "    vafs_.append(mut_freq(mts, sel_cells=['<0_0>']).to_numpy())\n"
   ]
  },
  {
   "cell_type": "code",
   "execution_count": 38,
   "id": "5782c20c-2dbb-40a3-bbd5-2c007e20ac31",
   "metadata": {},
   "outputs": [],
   "source": [
    "vafs = [i.flatten() for i in vafs]\n",
    "vafs_ = [i.flatten() for i in vafs_]"
   ]
  },
  {
   "cell_type": "code",
   "execution_count": 39,
   "id": "9e59680b-1e5b-4bfc-9494-553f83990fce",
   "metadata": {},
   "outputs": [
    {
     "data": {
      "text/plain": [
       "(array([6., 1., 4., 3., 3., 1., 1., 0., 0., 1.]),\n",
       " array([0.016 , 0.1144, 0.2128, 0.3112, 0.4096, 0.508 , 0.6064, 0.7048,\n",
       "        0.8032, 0.9016, 1.    ]),\n",
       " <BarContainer object of 10 artists>)"
      ]
     },
     "execution_count": 39,
     "metadata": {},
     "output_type": "execute_result"
    },
    {
     "data": {
      "image/png": "[encoded data removed]",
      "text/plain": [
       "<Figure size 320x300 with 1 Axes>"
      ]
     },
     "metadata": {},
     "output_type": "display_data"
    }
   ],
   "source": [
    "fig, ax = plt.subplots(figsize=(3.2,3))\n",
    "ax.hist([i[0] for i in vafs], alpha=0.3)\n",
    "ax.hist([i[0] for i in vafs_], alpha=0.3)"
   ]
  },
  {
   "cell_type": "code",
   "execution_count": 34,
   "id": "c3e1db44-142a-47c3-bd66-0abd40c7b65b",
   "metadata": {},
   "outputs": [],
   "source": [
    "vafs_bif = [i.flatten() for i in vafs_bif]\n",
    "vafs_bif_ = [i.flatten() for i in vafs_bif_]"
   ]
  },
  {
   "cell_type": "code",
   "execution_count": 35,
   "id": "237cc568-e3ae-4318-b40c-3ebe7650901b",
   "metadata": {},
   "outputs": [
    {
     "data": {
      "text/plain": [
       "(array([4., 6., 6., 2., 0., 0., 1., 1., 0., 1.]),\n",
       " array([0.008 , 0.0884, 0.1688, 0.2492, 0.3296, 0.41  , 0.4904, 0.5708,\n",
       "        0.6512, 0.7316, 0.812 ]),\n",
       " <BarContainer object of 10 artists>)"
      ]
     },
     "execution_count": 35,
     "metadata": {},
     "output_type": "execute_result"
    },
    {
     "data": {
      "image/png": "[encoded data removed]",
      "text/plain": [
       "<Figure size 320x300 with 1 Axes>"
      ]
     },
     "metadata": {},
     "output_type": "display_data"
    }
   ],
   "source": [
    "fig, ax = plt.subplots(figsize=(3.2,3))\n",
    "ax.hist([i[0] for i in vafs_bif], alpha=0.3)\n",
    "ax.hist([i[0] for i in vafs_bif_], alpha=0.3)"
   ]
  },
  {
   "cell_type": "code",
   "execution_count": 40,
   "id": "60b4d9dc-62e2-42d6-bfbd-b8b4bfd1a7fa",
   "metadata": {},
   "outputs": [],
   "source": [
    "mts_new_const = pickle.load(open(f'/data3/wangkun/mtsim_res/res_1113/linear_const/519886/mt_allmuts_const_0.1_519886_50.pkl', 'rb'))"
   ]
  },
  {
   "cell_type": "code",
   "execution_count": 42,
   "id": "5fe07f03-5321-4659-8cbf-325e223a9bba",
   "metadata": {},
   "outputs": [
    {
     "name": "stderr",
     "output_type": "stream",
     "text": [
      "100%|██████████| 5000/5000 [06:27<00:00, 12.90it/s]\n"
     ]
    }
   ],
   "source": [
    "mf = mut_freq(mts_new_const)"
   ]
  },
  {
   "cell_type": "code",
   "execution_count": 44,
   "id": "6405293e-cf61-49bd-a7c6-f854cef014a5",
   "metadata": {},
   "outputs": [
    {
     "data": {
      "text/plain": [
       "0        0.547032\n",
       "1        0.321930\n",
       "2        0.233871\n",
       "3        0.307929\n",
       "4        0.280272\n",
       "           ...   \n",
       "34494    0.055481\n",
       "34498    0.008598\n",
       "34501    0.002149\n",
       "34504    0.006270\n",
       "34518    0.002247\n",
       "Length: 5298, dtype: float64"
      ]
     },
     "execution_count": 44,
     "metadata": {},
     "output_type": "execute_result"
    }
   ],
   "source": [
    "mf.max()"
   ]
  },
  {
   "cell_type": "code",
   "execution_count": 41,
   "id": "01187727-b9f6-4588-895d-ee4ba7bc39dd",
   "metadata": {},
   "outputs": [
    {
     "name": "stdout",
     "output_type": "stream",
     "text": [
      "Help on function mut_freq in module __main__:\n",
      "\n",
      "mut_freq(mt_muts, max_mut_id=None, sel_cells=None)\n",
      "\n"
     ]
    }
   ],
   "source": [
    "help(mut_freq)"
   ]
  },
  {
   "cell_type": "code",
   "execution_count": null,
   "id": "646a8663-0a5c-43b0-80c8-90dd874c9431",
   "metadata": {},
   "outputs": [],
   "source": []
  },
  {
   "cell_type": "code",
   "execution_count": 28,
   "id": "e4c4207a-de37-47a5-a92d-40c6c1843894",
   "metadata": {
    "collapsed": true,
    "jupyter": {
     "outputs_hidden": true
    },
    "tags": []
   },
   "outputs": [
    {
     "name": "stderr",
     "output_type": "stream",
     "text": [
      "  0%|          | 0/21 [00:00<?, ?it/s]\n",
      "100%|██████████| 1/1 [00:00<00:00, 827.77it/s]\n",
      "  5%|▍         | 1/21 [00:35<11:41, 35.10s/it]\n",
      "100%|██████████| 1/1 [00:00<00:00, 882.27it/s]\n",
      " 10%|▉         | 2/21 [01:01<09:26, 29.83s/it]\n",
      "100%|██████████| 1/1 [00:00<00:00, 490.10it/s]\n",
      " 14%|█▍        | 3/21 [01:32<09:08, 30.48s/it]\n",
      "100%|██████████| 1/1 [00:00<00:00, 637.82it/s]\n",
      " 19%|█▉        | 4/21 [02:05<08:55, 31.50s/it]\n",
      "100%|██████████| 1/1 [00:00<00:00, 631.29it/s]\n",
      " 24%|██▍       | 5/21 [02:30<07:47, 29.23s/it]\n",
      "100%|██████████| 1/1 [00:00<00:00, 830.23it/s]\n",
      " 29%|██▊       | 6/21 [03:05<07:45, 31.04s/it]\n",
      "100%|██████████| 1/1 [00:00<00:00, 698.58it/s]\n",
      " 33%|███▎      | 7/21 [03:32<06:55, 29.68s/it]\n",
      "100%|██████████| 1/1 [00:00<00:00, 644.58it/s]\n",
      " 38%|███▊      | 8/21 [04:33<08:38, 39.91s/it]\n",
      "100%|██████████| 1/1 [00:00<00:00, 551.95it/s]\n",
      " 43%|████▎     | 9/21 [05:13<07:58, 39.91s/it]\n",
      "100%|██████████| 1/1 [00:00<00:00, 498.20it/s]\n",
      " 48%|████▊     | 10/21 [05:49<07:04, 38.56s/it]\n",
      "100%|██████████| 1/1 [00:00<00:00, 854.06it/s]\n",
      " 52%|█████▏    | 11/21 [06:35<06:49, 40.95s/it]\n",
      "100%|██████████| 1/1 [00:00<00:00, 802.28it/s]\n",
      " 57%|█████▋    | 12/21 [07:21<06:22, 42.51s/it]\n",
      "100%|██████████| 1/1 [00:00<00:00, 732.63it/s]\n",
      " 62%|██████▏   | 13/21 [08:07<05:48, 43.55s/it]\n",
      "100%|██████████| 1/1 [00:00<00:00, 794.53it/s]\n",
      " 67%|██████▋   | 14/21 [09:14<05:53, 50.55s/it]\n",
      "100%|██████████| 1/1 [00:00<00:00, 521.03it/s]\n",
      " 71%|███████▏  | 15/21 [09:57<04:49, 48.27s/it]\n",
      "100%|██████████| 1/1 [00:00<00:00, 812.53it/s]\n",
      " 76%|███████▌  | 16/21 [10:35<03:46, 45.24s/it]\n",
      "100%|██████████| 1/1 [00:00<00:00, 505.40it/s]\n",
      " 81%|████████  | 17/21 [11:24<03:04, 46.21s/it]\n",
      "100%|██████████| 1/1 [00:00<00:00, 749.79it/s]\n",
      " 86%|████████▌ | 18/21 [12:15<02:23, 47.79s/it]\n",
      "100%|██████████| 1/1 [00:00<00:00, 579.48it/s]\n",
      " 90%|█████████ | 19/21 [13:11<01:40, 50.30s/it]\n",
      "100%|██████████| 1/1 [00:00<00:00, 801.51it/s]\n",
      " 95%|█████████▌| 20/21 [13:53<00:47, 47.78s/it]\n",
      "100%|██████████| 1/1 [00:00<00:00, 770.87it/s]\n",
      "100%|██████████| 21/21 [14:30<00:00, 41.43s/it]\n"
     ]
    }
   ],
   "source": [
    "vafs_bif = []\n",
    "for i in tqdm(os.listdir('/data3/wangkun/mtsim_res/res_1113/bifurcated_const/')):\n",
    "    if i == 'rm':\n",
    "        continue\n",
    "    mts = pickle.load(open(f'/data3/wangkun/mtsim_res/res_1113/bifurcated_const/{i}/mt_allmuts_const_0.1_{i}.pkl', 'rb'))\n",
    "    vafs_bif.append(mut_freq(mts, sel_cells=['<0_0>']).to_numpy())\n"
   ]
  },
  {
   "cell_type": "code",
   "execution_count": 29,
   "id": "883c2b6f-a970-494a-a562-2fef0624e1ac",
   "metadata": {
    "collapsed": true,
    "jupyter": {
     "outputs_hidden": true
    },
    "tags": []
   },
   "outputs": [
    {
     "name": "stderr",
     "output_type": "stream",
     "text": [
      "  0%|          | 0/21 [00:00<?, ?it/s]\n",
      "100%|██████████| 1/1 [00:00<00:00, 307.16it/s]\n",
      "  5%|▍         | 1/21 [00:13<04:27, 13.36s/it]\n",
      "100%|██████████| 1/1 [00:00<00:00, 337.41it/s]\n",
      " 10%|▉         | 2/21 [00:14<02:02,  6.45s/it]\n",
      "100%|██████████| 1/1 [00:00<00:00, 319.10it/s]\n",
      " 14%|█▍        | 3/21 [00:21<01:55,  6.41s/it]\n",
      "100%|██████████| 1/1 [00:00<00:00, 208.96it/s]\n",
      " 19%|█▉        | 4/21 [00:27<01:48,  6.39s/it]\n",
      "100%|██████████| 1/1 [00:00<00:00, 477.17it/s]\n",
      " 24%|██▍       | 5/21 [00:32<01:33,  5.84s/it]\n",
      "100%|██████████| 1/1 [00:00<00:00, 668.31it/s]\n",
      " 29%|██▊       | 6/21 [00:39<01:32,  6.19s/it]\n",
      "100%|██████████| 1/1 [00:00<00:00, 542.60it/s]\n",
      " 33%|███▎      | 7/21 [00:46<01:31,  6.55s/it]\n",
      "100%|██████████| 1/1 [00:00<00:00, 688.27it/s]\n",
      " 38%|███▊      | 8/21 [00:52<01:21,  6.30s/it]\n",
      "100%|██████████| 1/1 [00:00<00:00, 696.38it/s]\n",
      " 43%|████▎     | 9/21 [00:57<01:11,  5.99s/it]\n",
      "100%|██████████| 1/1 [00:00<00:00, 767.77it/s]\n",
      " 48%|████▊     | 10/21 [01:02<01:01,  5.62s/it]\n",
      "100%|██████████| 1/1 [00:00<00:00, 796.19it/s]\n",
      " 52%|█████▏    | 11/21 [01:08<00:58,  5.83s/it]\n",
      "100%|██████████| 1/1 [00:00<00:00, 841.22it/s]\n",
      " 57%|█████▋    | 12/21 [01:13<00:48,  5.43s/it]\n",
      "100%|██████████| 1/1 [00:00<00:00, 794.38it/s]\n",
      " 62%|██████▏   | 13/21 [01:17<00:39,  4.97s/it]\n",
      "100%|██████████| 1/1 [00:00<00:00, 793.77it/s]\n",
      " 67%|██████▋   | 14/21 [01:23<00:36,  5.25s/it]\n",
      "100%|██████████| 1/1 [00:00<00:00, 767.20it/s]\n",
      " 71%|███████▏  | 15/21 [01:27<00:30,  5.03s/it]\n",
      "100%|██████████| 1/1 [00:00<00:00, 833.20it/s]\n",
      " 76%|███████▌  | 16/21 [01:33<00:25,  5.18s/it]\n",
      "100%|██████████| 1/1 [00:00<00:00, 805.51it/s]\n",
      " 81%|████████  | 17/21 [01:39<00:21,  5.43s/it]\n",
      "100%|██████████| 1/1 [00:00<00:00, 796.19it/s]\n",
      " 86%|████████▌ | 18/21 [01:44<00:15,  5.30s/it]\n",
      "100%|██████████| 1/1 [00:00<00:00, 810.18it/s]\n",
      " 90%|█████████ | 19/21 [01:48<00:10,  5.08s/it]\n",
      "100%|██████████| 1/1 [00:00<00:00, 827.77it/s]\n",
      " 95%|█████████▌| 20/21 [01:55<00:05,  5.44s/it]\n",
      "100%|██████████| 1/1 [00:00<00:00, 767.63it/s]\n",
      "100%|██████████| 21/21 [02:02<00:00,  5.83s/it]\n"
     ]
    }
   ],
   "source": [
    "vafs_bif_ = []\n",
    "for i in tqdm(os.listdir('/data3/wangkun/mtsim_res/res_1113/bifurcated_/')):\n",
    "    if i == 'rm':\n",
    "        continue\n",
    "    mts = pickle.load(open(f'/data3/wangkun/mtsim_res/res_1113/bifurcated_/{i}/mt_allmuts_mid_0.1_{i}.pkl', 'rb'))\n",
    "    vafs_bif_.append(mut_freq(mts, sel_cells=['<0_0>']).to_numpy())\n"
   ]
  },
  {
   "cell_type": "code",
   "execution_count": null,
   "id": "eaf30505-1645-4261-93a7-ea70ecd81b6b",
   "metadata": {},
   "outputs": [],
   "source": []
  },
  {
   "cell_type": "code",
   "execution_count": null,
   "id": "e1beae42-d70c-4d72-8e7d-49eefe94d182",
   "metadata": {},
   "outputs": [],
   "source": []
  },
  {
   "cell_type": "code",
   "execution_count": 204,
   "id": "b08cc163-f4b3-4fcf-bee9-feae846550d9",
   "metadata": {
    "tags": []
   },
   "outputs": [
    {
     "name": "stderr",
     "output_type": "stream",
     "text": [
      "100%|██████████| 1/1 [00:00<00:00, 586.53it/s]\n"
     ]
    },
    {
     "data": {
      "text/plain": [
       "array([[0.396, 0.086, 0.044, 0.022, 0.01 , 0.108, 0.006, 0.002, 0.002,\n",
       "        0.002, 0.034, 0.016, 0.016, 0.032, 0.002, 0.026, 0.006, 0.002,\n",
       "        0.014, 0.002, 0.016, 0.002, 0.006, 0.03 , 0.006, 0.004, 0.004,\n",
       "        0.026, 0.002, 0.002, 0.012, 0.016, 0.006, 0.002, 0.006, 0.002,\n",
       "        0.002, 0.016, 0.004, 0.004, 0.002, 0.012, 0.002, 0.012, 0.018,\n",
       "        0.002, 0.002, 0.006, 0.004, 0.004, 0.004, 0.008, 0.008, 0.004,\n",
       "        0.002, 0.002, 0.002, 0.01 , 0.01 , 0.006, 0.002, 0.002, 0.006,\n",
       "        0.002, 0.008, 0.004, 0.002, 0.002, 0.002, 0.008, 0.006, 0.002,\n",
       "        0.002, 0.004, 0.002, 0.002, 0.002, 0.002, 0.002, 0.002, 0.004,\n",
       "        0.006, 0.002, 0.004, 0.002, 0.002, 0.004, 0.002, 0.002, 0.002,\n",
       "        0.002, 0.002, 0.002, 0.002, 0.002, 0.002, 0.002, 0.002, 0.002,\n",
       "        0.002, 0.004, 0.004, 0.004, 0.002, 0.002, 0.002, 0.002, 0.002,\n",
       "        0.002, 0.002, 0.002, 0.002, 0.002]])"
      ]
     },
     "execution_count": 204,
     "metadata": {},
     "output_type": "execute_result"
    }
   ],
   "source": [
    "mut_freq(mts1, sel_cells=['<0_0>']).to_numpy()"
   ]
  },
  {
   "cell_type": "code",
   "execution_count": 202,
   "id": "bd23a884-bcf9-49d1-9562-e6afc80c8af6",
   "metadata": {},
   "outputs": [
    {
     "name": "stderr",
     "output_type": "stream",
     "text": [
      "100%|██████████| 1/1 [00:00<00:00, 244.74it/s]\n"
     ]
    },
    {
     "data": {
      "text/plain": [
       "array([[0.122, 0.196, 0.006, 0.026, 0.006, 0.048, 0.004, 0.004, 0.002,\n",
       "        0.012, 0.012, 0.024, 0.012, 0.016, 0.002, 0.01 , 0.016, 0.012,\n",
       "        0.004, 0.002, 0.006, 0.008, 0.022, 0.012, 0.004, 0.014, 0.016,\n",
       "        0.004, 0.002, 0.002, 0.002, 0.004, 0.002, 0.002, 0.002, 0.006,\n",
       "        0.004, 0.002, 0.002, 0.002, 0.004, 0.002, 0.004, 0.004, 0.006,\n",
       "        0.006, 0.002, 0.004, 0.002, 0.004, 0.002, 0.006, 0.002, 0.002,\n",
       "        0.002, 0.002, 0.008, 0.002, 0.006, 0.002, 0.002, 0.002, 0.002,\n",
       "        0.002, 0.002, 0.006, 0.004, 0.006, 0.002, 0.002, 0.002, 0.002,\n",
       "        0.004, 0.002, 0.002, 0.002, 0.002, 0.002, 0.004, 0.002, 0.002,\n",
       "        0.002, 0.002, 0.002, 0.002, 0.002, 0.004, 0.002, 0.002, 0.002,\n",
       "        0.004, 0.002, 0.002, 0.004, 0.002, 0.002, 0.002]])"
      ]
     },
     "execution_count": 202,
     "metadata": {},
     "output_type": "execute_result"
    }
   ],
   "source": [
    "mut_freq(mts1, sel_cells=['<0_0>']).to_numpy()"
   ]
  },
  {
   "cell_type": "code",
   "execution_count": 7,
   "id": "78b247c1-1740-46d2-a3bf-f3ac5a923589",
   "metadata": {},
   "outputs": [],
   "source": [
    "def mut_freq(mt_muts, max_mut_id = None, sel_cells=None):\n",
    "    if sel_cells is None:\n",
    "        sel_cells = list(mt_muts.keys())\n",
    "    if not max_mut_id:\n",
    "        max_mut_id = max([max([max(list(i)+[0]) for i in mt_muts[j]]+[0]) for j in sel_cells])\n",
    "    max_mut_id += 1\n",
    "    mut_freqs = []\n",
    "    cell_names = []\n",
    "    for cell in tqdm(sel_cells):\n",
    "        mut_pos = np.zeros((len(mt_muts[cell]), max_mut_id))\n",
    "        for ind, mt in enumerate(mt_muts[cell]):\n",
    "            mut_pos[ind][list(mt)] = 1\n",
    "        mut_freqs.append(mut_pos.sum(0)/len(mt_muts[cell]))\n",
    "        cell_names.append(cell)\n",
    "    mf = pd.DataFrame(mut_freqs, index=cell_names)\n",
    "    mf = mf[mf.columns[mf.sum()>0]]\n",
    "    return mf"
   ]
  },
  {
   "cell_type": "code",
   "execution_count": 12,
   "id": "307a43fa-93fc-4907-ab46-cbea771c729b",
   "metadata": {},
   "outputs": [],
   "source": [
    "mts = pickle.load(open('/data3/wangkun/mtsim_res/res_1113/linear_const/old/100298/mt_allmuts_const_0.1_100298.pkl', 'rb'))"
   ]
  },
  {
   "cell_type": "code",
   "execution_count": 16,
   "id": "1af0adf2-bd88-4c82-a9e6-3441fdc7e8a1",
   "metadata": {},
   "outputs": [
    {
     "data": {
      "text/plain": [
       "412"
      ]
     },
     "execution_count": 16,
     "metadata": {},
     "output_type": "execute_result"
    }
   ],
   "source": [
    "sum([len(i) for i in mts['<0_0>']])"
   ]
  },
  {
   "cell_type": "code",
   "execution_count": 21,
   "id": "dc0ab81f-09ad-4cdb-85f8-2a145ae0f928",
   "metadata": {},
   "outputs": [],
   "source": [
    "from collections import Counter"
   ]
  },
  {
   "cell_type": "code",
   "execution_count": 22,
   "id": "c6e27257-97e2-4240-9b30-53c9f3999e71",
   "metadata": {},
   "outputs": [],
   "source": [
    "cnt = Counter(sum([list(i) for i in mts['<0_0>']], []))"
   ]
  },
  {
   "cell_type": "code",
   "execution_count": 31,
   "id": "c5bca980-5fdf-4a2f-aa14-13c88c0447c4",
   "metadata": {},
   "outputs": [],
   "source": [
    "import seaborn as sns"
   ]
  },
  {
   "cell_type": "code",
   "execution_count": 38,
   "id": "ab627597-4c58-4ad9-b7fb-d7784362ecf9",
   "metadata": {},
   "outputs": [
    {
     "data": {
      "text/plain": [
       "Text(0.5, 0, 'VAF')"
      ]
     },
     "execution_count": 38,
     "metadata": {},
     "output_type": "execute_result"
    },
    {
     "data": {
      "image/png": "[encoded data removed]",
      "text/plain": [
       "<Figure size 320x300 with 1 Axes>"
      ]
     },
     "metadata": {},
     "output_type": "display_data"
    }
   ],
   "source": [
    "fig, ax = plt.subplots(figsize=(3.2,3))\n",
    "sns.histplot(np.array(list(cnt.values()))/sum(cnt.values()))\n",
    "ax.set_xlabel('VAF')"
   ]
  },
  {
   "cell_type": "code",
   "execution_count": 62,
   "id": "13a3c86a-4848-4bb6-840f-f64cd88aa92f",
   "metadata": {
    "tags": []
   },
   "outputs": [],
   "source": [
    "pe = set(sum([list(i) for i in mts['<0_0>']], []))"
   ]
  },
  {
   "cell_type": "code",
   "execution_count": 64,
   "id": "aa94555c-9a0d-43bf-907d-a6af53ca5ad1",
   "metadata": {},
   "outputs": [
    {
     "data": {
      "text/plain": [
       "106"
      ]
     },
     "execution_count": 64,
     "metadata": {},
     "output_type": "execute_result"
    }
   ],
   "source": [
    "max(pe)"
   ]
  },
  {
   "cell_type": "code",
   "execution_count": 71,
   "id": "44276917-74b7-4ce5-9f59-ed33fccc698a",
   "metadata": {},
   "outputs": [],
   "source": [
    "denovo = []\n",
    "for i in mf1.index:\n",
    "    denovo.append(np.sum(np.array(list(set(sum([list(i) for i in mts[i]], []))))>max(pe)))"
   ]
  },
  {
   "cell_type": "code",
   "execution_count": 76,
   "id": "727adb1e-7839-41d5-8ddd-b6b907640824",
   "metadata": {},
   "outputs": [],
   "source": [
    "pre = []\n",
    "for i in mf1.index:\n",
    "    pre.append(np.sum(np.array(list(set(sum([list(i) for i in mts[i]], []))))<=max(pe)))"
   ]
  },
  {
   "cell_type": "code",
   "execution_count": 10,
   "id": "02b41763-eb84-47bb-b0d2-3d440302c38d",
   "metadata": {},
   "outputs": [],
   "source": [
    "mf1 = pd.read_csv('/data3/wangkun/mtsim_res/res_1113/linear_const/old/100298/mt_mut_freq_const_0.1_100298.csv', index_col=0)"
   ]
  },
  {
   "cell_type": "code",
   "execution_count": 45,
   "id": "af86fc34-fd00-44a4-9890-7356c91bdf2e",
   "metadata": {},
   "outputs": [
    {
     "data": {
      "text/plain": [
       "21.0"
      ]
     },
     "execution_count": 45,
     "metadata": {},
     "output_type": "execute_result"
    }
   ],
   "source": [
    "np.median([int(i.split('_')[0][1:]) for i in mf1.index])"
   ]
  },
  {
   "cell_type": "code",
   "execution_count": 48,
   "id": "d62fdc92-30f8-428e-96c1-f4ebc7e6642e",
   "metadata": {},
   "outputs": [
    {
     "data": {
      "text/plain": [
       "14.0"
      ]
     },
     "execution_count": 48,
     "metadata": {},
     "output_type": "execute_result"
    }
   ],
   "source": [
    "np.quantile([int(i.split('_')[0][1:]) for i in mf1.index], 0.05)"
   ]
  },
  {
   "cell_type": "code",
   "execution_count": 109,
   "id": "3752a57b-1599-4f60-adde-def573e99024",
   "metadata": {},
   "outputs": [
    {
     "data": {
      "image/png": "[encoded data removed]",
      "text/plain": [
       "<Figure size 320x300 with 1 Axes>"
      ]
     },
     "metadata": {},
     "output_type": "display_data"
    }
   ],
   "source": [
    "fig, ax = plt.subplots(figsize=(3.2,3))\n",
    "dat = mf1.to_numpy().flatten()\n",
    "sns.histplot(dat[dat>0.05])\n",
    "ax.set_xlabel('VAF')\n",
    "ax.ticklabel_format(style='sci', scilimits= (-1,2), axis='y',useMathText=True)\n",
    "# plt.yscale('log')"
   ]
  },
  {
   "cell_type": "code",
   "execution_count": 111,
   "id": "52d34b10-de79-4189-85c3-c2854c566bee",
   "metadata": {},
   "outputs": [
    {
     "data": {
      "image/png": "[encoded data removed]",
      "text/plain": [
       "<Figure size 320x300 with 1 Axes>"
      ]
     },
     "metadata": {},
     "output_type": "display_data"
    }
   ],
   "source": [
    "fig, ax = plt.subplots(figsize=(3.2,3))\n",
    "sns.histplot(np.sum(mf1 > 0.05, axis=0).to_numpy()/5000, bins=np.linspace(0,1,100))\n",
    "ax.set_xlabel('VAF')\n",
    "ax.ticklabel_format(style='sci', scilimits= (-1,2), axis='y',useMathText=True)\n",
    "plt.yscale('log')"
   ]
  },
  {
   "cell_type": "code",
   "execution_count": 99,
   "id": "c5af0389-1137-42c2-bf51-7473276ad9e6",
   "metadata": {},
   "outputs": [
    {
     "data": {
      "text/plain": [
       "array([3296, 4934, 4674, ...,    1,    1,    1])"
      ]
     },
     "execution_count": 99,
     "metadata": {},
     "output_type": "execute_result"
    }
   ],
   "source": [
    "np.sum(mf1 > 0, axis=0).to_numpy()"
   ]
  },
  {
   "cell_type": "code",
   "execution_count": 101,
   "id": "7937d5dc-9fde-4f2c-aa39-a147f0fc1055",
   "metadata": {},
   "outputs": [
    {
     "data": {
      "text/plain": [
       "(array([1.5124e+04, 1.0000e+00, 1.0000e+00, 1.0000e+00, 3.0000e+00,\n",
       "        2.0000e+00, 0.0000e+00, 0.0000e+00, 0.0000e+00, 1.0000e+00]),\n",
       " array([   0. ,  411.5,  823. , 1234.5, 1646. , 2057.5, 2469. , 2880.5,\n",
       "        3292. , 3703.5, 4115. ]),\n",
       " <BarContainer object of 10 artists>)"
      ]
     },
     "execution_count": 101,
     "metadata": {},
     "output_type": "execute_result"
    },
    {
     "data": {
      "image/png": "[encoded data removed]",
      "text/plain": [
       "<Figure size 640x480 with 1 Axes>"
      ]
     },
     "metadata": {},
     "output_type": "display_data"
    }
   ],
   "source": [
    "sns.hist(np.sum(mf1 > 0.05, axis=0).to_numpy())"
   ]
  },
  {
   "cell_type": "code",
   "execution_count": null,
   "id": "d2547524-f109-4e08-9e70-850be07148e3",
   "metadata": {},
   "outputs": [],
   "source": []
  },
  {
   "cell_type": "code",
   "execution_count": null,
   "id": "0a8431af-fbbd-41d6-bb4a-7ec59c6a3d9b",
   "metadata": {},
   "outputs": [],
   "source": []
  },
  {
   "cell_type": "code",
   "execution_count": 50,
   "id": "0fa2bcc6-bf11-41bc-98af-8efda2c0cf39",
   "metadata": {},
   "outputs": [
    {
     "data": {
      "text/plain": [
       "26407"
      ]
     },
     "execution_count": 50,
     "metadata": {},
     "output_type": "execute_result"
    }
   ],
   "source": [
    "len(mts)"
   ]
  },
  {
   "cell_type": "code",
   "execution_count": 198,
   "id": "49e4cb94-6260-4eac-8993-2b247dddd665",
   "metadata": {},
   "outputs": [
    {
     "data": {
      "text/plain": [
       "(array([54., 34.,  8.,  1.,  0.,  0.,  0.,  1.,  0.,  2.]),\n",
       " array([0.03366337, 0.08870571, 0.14374805, 0.1987904 , 0.25383274,\n",
       "        0.30887508, 0.36391743, 0.41895977, 0.47400211, 0.52904446,\n",
       "        0.5840868 ]),\n",
       " <BarContainer object of 10 artists>)"
      ]
     },
     "execution_count": 198,
     "metadata": {},
     "output_type": "execute_result"
    },
    {
     "data": {
      "image/png": "[encoded data removed]",
      "text/plain": [
       "<Figure size 640x480 with 1 Axes>"
      ]
     },
     "metadata": {},
     "output_type": "display_data"
    }
   ],
   "source": [
    "plt.hist(mf1.max()[:100])"
   ]
  },
  {
   "cell_type": "code",
   "execution_count": null,
   "id": "bda0e873-03b4-4807-aafe-050a4c7f42b9",
   "metadata": {},
   "outputs": [],
   "source": []
  },
  {
   "cell_type": "code",
   "execution_count": null,
   "id": "bd7378ac-b0c5-491a-a920-c04fd8205550",
   "metadata": {},
   "outputs": [],
   "source": []
  },
  {
   "cell_type": "code",
   "execution_count": 188,
   "id": "b45d49f1-6822-46ae-8144-a5e0b31e1760",
   "metadata": {},
   "outputs": [],
   "source": [
    "mf2 = pd.read_csv('/data3/wangkun/mtsim_res/res_1113/bifurcated_const/18142/mt_mut_freq_const_0.1_18142.csv', index_col=0)"
   ]
  },
  {
   "cell_type": "code",
   "execution_count": null,
   "id": "c139e6dd-9f04-496d-a6f3-18a0a2db097b",
   "metadata": {},
   "outputs": [],
   "source": []
  },
  {
   "cell_type": "code",
   "execution_count": 187,
   "id": "b9238203-87e0-4302-8b2c-5df5d390c075",
   "metadata": {},
   "outputs": [
    {
     "data": {
      "text/plain": [
       "(array([23., 49., 18.,  7.,  0.,  0.,  1.,  0.,  1.,  1.]),\n",
       " array([0.03018868, 0.06449039, 0.09879209, 0.1330938 , 0.1673955 ,\n",
       "        0.20169721, 0.23599892, 0.27030062, 0.30460233, 0.33890404,\n",
       "        0.37320574]),\n",
       " <BarContainer object of 10 artists>)"
      ]
     },
     "execution_count": 187,
     "metadata": {},
     "output_type": "execute_result"
    },
    {
     "data": {
      "image/png": "[encoded data removed]",
      "text/plain": [
       "<Figure size 640x480 with 1 Axes>"
      ]
     },
     "metadata": {},
     "output_type": "display_data"
    }
   ],
   "source": [
    "plt.hist(mf1.max()[:100])"
   ]
  },
  {
   "cell_type": "code",
   "execution_count": null,
   "id": "9b1d9256-880f-4bef-9c60-33d152d8b0f2",
   "metadata": {},
   "outputs": [],
   "source": []
  },
  {
   "cell_type": "code",
   "execution_count": 140,
   "id": "dba06fd2-8550-4bdb-9bc0-754508dda7a1",
   "metadata": {},
   "outputs": [
    {
     "name": "stderr",
     "output_type": "stream",
     "text": [
      "100%|██████████| 5000/5000 [08:21<00:00,  9.97it/s]\n"
     ]
    }
   ],
   "source": [
    "mf = mut_freq(mts)"
   ]
  },
  {
   "cell_type": "code",
   "execution_count": null,
   "id": "d9503f61-e96d-4889-a18f-66707d153410",
   "metadata": {},
   "outputs": [],
   "source": []
  },
  {
   "cell_type": "code",
   "execution_count": null,
   "id": "eb7359bf-0d8e-4a76-97f5-e3f07841c306",
   "metadata": {},
   "outputs": [],
   "source": [
    "688370"
   ]
  },
  {
   "cell_type": "code",
   "execution_count": 150,
   "id": "0787e670-85f2-4c97-ba8f-7d98d19739e5",
   "metadata": {},
   "outputs": [
    {
     "data": {
      "text/html": [
       "<div>\n",
       "<style scoped>\n",
       "    .dataframe tbody tr th:only-of-type {\n",
       "        vertical-align: middle;\n",
       "    }\n",
       "\n",
       "    .dataframe tbody tr th {\n",
       "        vertical-align: top;\n",
       "    }\n",
       "\n",
       "    .dataframe thead th {\n",
       "        text-align: right;\n",
       "    }\n",
       "</style>\n",
       "<table border=\"1\" class=\"dataframe\">\n",
       "  <thead>\n",
       "    <tr style=\"text-align: right;\">\n",
       "      <th></th>\n",
       "      <th>0</th>\n",
       "      <th>1</th>\n",
       "      <th>2</th>\n",
       "      <th>3</th>\n",
       "      <th>4</th>\n",
       "      <th>5</th>\n",
       "      <th>7</th>\n",
       "      <th>8</th>\n",
       "      <th>9</th>\n",
       "      <th>10</th>\n",
       "      <th>...</th>\n",
       "      <th>33918</th>\n",
       "      <th>33928</th>\n",
       "      <th>33937</th>\n",
       "      <th>33944</th>\n",
       "      <th>33945</th>\n",
       "      <th>33947</th>\n",
       "      <th>33948</th>\n",
       "      <th>33969</th>\n",
       "      <th>33974</th>\n",
       "      <th>33983</th>\n",
       "    </tr>\n",
       "  </thead>\n",
       "  <tbody>\n",
       "    <tr>\n",
       "      <th>&lt;12_956&gt;</th>\n",
       "      <td>0.051357</td>\n",
       "      <td>0.342627</td>\n",
       "      <td>0.000000</td>\n",
       "      <td>0.022010</td>\n",
       "      <td>0.000000</td>\n",
       "      <td>0.024945</td>\n",
       "      <td>0.000000</td>\n",
       "      <td>0.000000</td>\n",
       "      <td>0.0</td>\n",
       "      <td>0.013206</td>\n",
       "      <td>...</td>\n",
       "      <td>0.0</td>\n",
       "      <td>0.0</td>\n",
       "      <td>0.0</td>\n",
       "      <td>0.0</td>\n",
       "      <td>0.0</td>\n",
       "      <td>0.0</td>\n",
       "      <td>0.0</td>\n",
       "      <td>0.0</td>\n",
       "      <td>0.0</td>\n",
       "      <td>0.000000</td>\n",
       "    </tr>\n",
       "    <tr>\n",
       "      <th>&lt;11_881&gt;</th>\n",
       "      <td>0.156489</td>\n",
       "      <td>0.256997</td>\n",
       "      <td>0.006361</td>\n",
       "      <td>0.066794</td>\n",
       "      <td>0.000000</td>\n",
       "      <td>0.047074</td>\n",
       "      <td>0.000000</td>\n",
       "      <td>0.000000</td>\n",
       "      <td>0.0</td>\n",
       "      <td>0.006997</td>\n",
       "      <td>...</td>\n",
       "      <td>0.0</td>\n",
       "      <td>0.0</td>\n",
       "      <td>0.0</td>\n",
       "      <td>0.0</td>\n",
       "      <td>0.0</td>\n",
       "      <td>0.0</td>\n",
       "      <td>0.0</td>\n",
       "      <td>0.0</td>\n",
       "      <td>0.0</td>\n",
       "      <td>0.000000</td>\n",
       "    </tr>\n",
       "    <tr>\n",
       "      <th>&lt;20_4220&gt;</th>\n",
       "      <td>0.103448</td>\n",
       "      <td>0.354970</td>\n",
       "      <td>0.000000</td>\n",
       "      <td>0.031778</td>\n",
       "      <td>0.000000</td>\n",
       "      <td>0.105477</td>\n",
       "      <td>0.000000</td>\n",
       "      <td>0.000000</td>\n",
       "      <td>0.0</td>\n",
       "      <td>0.000000</td>\n",
       "      <td>...</td>\n",
       "      <td>0.0</td>\n",
       "      <td>0.0</td>\n",
       "      <td>0.0</td>\n",
       "      <td>0.0</td>\n",
       "      <td>0.0</td>\n",
       "      <td>0.0</td>\n",
       "      <td>0.0</td>\n",
       "      <td>0.0</td>\n",
       "      <td>0.0</td>\n",
       "      <td>0.000000</td>\n",
       "    </tr>\n",
       "    <tr>\n",
       "      <th>&lt;20_5243&gt;</th>\n",
       "      <td>0.079777</td>\n",
       "      <td>0.266543</td>\n",
       "      <td>0.000000</td>\n",
       "      <td>0.035250</td>\n",
       "      <td>0.000000</td>\n",
       "      <td>0.051330</td>\n",
       "      <td>0.000000</td>\n",
       "      <td>0.000000</td>\n",
       "      <td>0.0</td>\n",
       "      <td>0.031540</td>\n",
       "      <td>...</td>\n",
       "      <td>0.0</td>\n",
       "      <td>0.0</td>\n",
       "      <td>0.0</td>\n",
       "      <td>0.0</td>\n",
       "      <td>0.0</td>\n",
       "      <td>0.0</td>\n",
       "      <td>0.0</td>\n",
       "      <td>0.0</td>\n",
       "      <td>0.0</td>\n",
       "      <td>0.000000</td>\n",
       "    </tr>\n",
       "    <tr>\n",
       "      <th>&lt;17_4456&gt;</th>\n",
       "      <td>0.132440</td>\n",
       "      <td>0.230563</td>\n",
       "      <td>0.024665</td>\n",
       "      <td>0.018231</td>\n",
       "      <td>0.000000</td>\n",
       "      <td>0.089008</td>\n",
       "      <td>0.000000</td>\n",
       "      <td>0.000000</td>\n",
       "      <td>0.0</td>\n",
       "      <td>0.015013</td>\n",
       "      <td>...</td>\n",
       "      <td>0.0</td>\n",
       "      <td>0.0</td>\n",
       "      <td>0.0</td>\n",
       "      <td>0.0</td>\n",
       "      <td>0.0</td>\n",
       "      <td>0.0</td>\n",
       "      <td>0.0</td>\n",
       "      <td>0.0</td>\n",
       "      <td>0.0</td>\n",
       "      <td>0.000000</td>\n",
       "    </tr>\n",
       "    <tr>\n",
       "      <th>...</th>\n",
       "      <td>...</td>\n",
       "      <td>...</td>\n",
       "      <td>...</td>\n",
       "      <td>...</td>\n",
       "      <td>...</td>\n",
       "      <td>...</td>\n",
       "      <td>...</td>\n",
       "      <td>...</td>\n",
       "      <td>...</td>\n",
       "      <td>...</td>\n",
       "      <td>...</td>\n",
       "      <td>...</td>\n",
       "      <td>...</td>\n",
       "      <td>...</td>\n",
       "      <td>...</td>\n",
       "      <td>...</td>\n",
       "      <td>...</td>\n",
       "      <td>...</td>\n",
       "      <td>...</td>\n",
       "      <td>...</td>\n",
       "      <td>...</td>\n",
       "    </tr>\n",
       "    <tr>\n",
       "      <th>&lt;17_4792&gt;</th>\n",
       "      <td>0.095124</td>\n",
       "      <td>0.186251</td>\n",
       "      <td>0.040767</td>\n",
       "      <td>0.000000</td>\n",
       "      <td>0.026379</td>\n",
       "      <td>0.000000</td>\n",
       "      <td>0.022382</td>\n",
       "      <td>0.058353</td>\n",
       "      <td>0.0</td>\n",
       "      <td>0.000000</td>\n",
       "      <td>...</td>\n",
       "      <td>0.0</td>\n",
       "      <td>0.0</td>\n",
       "      <td>0.0</td>\n",
       "      <td>0.0</td>\n",
       "      <td>0.0</td>\n",
       "      <td>0.0</td>\n",
       "      <td>0.0</td>\n",
       "      <td>0.0</td>\n",
       "      <td>0.0</td>\n",
       "      <td>0.017586</td>\n",
       "    </tr>\n",
       "    <tr>\n",
       "      <th>&lt;11_980&gt;</th>\n",
       "      <td>0.088871</td>\n",
       "      <td>0.137710</td>\n",
       "      <td>0.029624</td>\n",
       "      <td>0.000000</td>\n",
       "      <td>0.000000</td>\n",
       "      <td>0.075260</td>\n",
       "      <td>0.000000</td>\n",
       "      <td>0.000000</td>\n",
       "      <td>0.0</td>\n",
       "      <td>0.098479</td>\n",
       "      <td>...</td>\n",
       "      <td>0.0</td>\n",
       "      <td>0.0</td>\n",
       "      <td>0.0</td>\n",
       "      <td>0.0</td>\n",
       "      <td>0.0</td>\n",
       "      <td>0.0</td>\n",
       "      <td>0.0</td>\n",
       "      <td>0.0</td>\n",
       "      <td>0.0</td>\n",
       "      <td>0.000000</td>\n",
       "    </tr>\n",
       "    <tr>\n",
       "      <th>&lt;8_201&gt;</th>\n",
       "      <td>0.236531</td>\n",
       "      <td>0.162943</td>\n",
       "      <td>0.031537</td>\n",
       "      <td>0.018397</td>\n",
       "      <td>0.001314</td>\n",
       "      <td>0.032852</td>\n",
       "      <td>0.000000</td>\n",
       "      <td>0.000000</td>\n",
       "      <td>0.0</td>\n",
       "      <td>0.000000</td>\n",
       "      <td>...</td>\n",
       "      <td>0.0</td>\n",
       "      <td>0.0</td>\n",
       "      <td>0.0</td>\n",
       "      <td>0.0</td>\n",
       "      <td>0.0</td>\n",
       "      <td>0.0</td>\n",
       "      <td>0.0</td>\n",
       "      <td>0.0</td>\n",
       "      <td>0.0</td>\n",
       "      <td>0.000000</td>\n",
       "    </tr>\n",
       "    <tr>\n",
       "      <th>&lt;11_999&gt;</th>\n",
       "      <td>0.159325</td>\n",
       "      <td>0.314902</td>\n",
       "      <td>0.041237</td>\n",
       "      <td>0.037488</td>\n",
       "      <td>0.044986</td>\n",
       "      <td>0.041237</td>\n",
       "      <td>0.000000</td>\n",
       "      <td>0.000000</td>\n",
       "      <td>0.0</td>\n",
       "      <td>0.000000</td>\n",
       "      <td>...</td>\n",
       "      <td>0.0</td>\n",
       "      <td>0.0</td>\n",
       "      <td>0.0</td>\n",
       "      <td>0.0</td>\n",
       "      <td>0.0</td>\n",
       "      <td>0.0</td>\n",
       "      <td>0.0</td>\n",
       "      <td>0.0</td>\n",
       "      <td>0.0</td>\n",
       "      <td>0.000000</td>\n",
       "    </tr>\n",
       "    <tr>\n",
       "      <th>&lt;8_208&gt;</th>\n",
       "      <td>0.167985</td>\n",
       "      <td>0.187462</td>\n",
       "      <td>0.000000</td>\n",
       "      <td>0.014607</td>\n",
       "      <td>0.010347</td>\n",
       "      <td>0.071211</td>\n",
       "      <td>0.000000</td>\n",
       "      <td>0.000000</td>\n",
       "      <td>0.0</td>\n",
       "      <td>0.057821</td>\n",
       "      <td>...</td>\n",
       "      <td>0.0</td>\n",
       "      <td>0.0</td>\n",
       "      <td>0.0</td>\n",
       "      <td>0.0</td>\n",
       "      <td>0.0</td>\n",
       "      <td>0.0</td>\n",
       "      <td>0.0</td>\n",
       "      <td>0.0</td>\n",
       "      <td>0.0</td>\n",
       "      <td>0.000000</td>\n",
       "    </tr>\n",
       "  </tbody>\n",
       "</table>\n",
       "<p>5000 rows × 5108 columns</p>\n",
       "</div>"
      ],
      "text/plain": [
       "              0         1         2         3         4         5      \\\n",
       "<12_956>   0.051357  0.342627  0.000000  0.022010  0.000000  0.024945   \n",
       "<11_881>   0.156489  0.256997  0.006361  0.066794  0.000000  0.047074   \n",
       "<20_4220>  0.103448  0.354970  0.000000  0.031778  0.000000  0.105477   \n",
       "<20_5243>  0.079777  0.266543  0.000000  0.035250  0.000000  0.051330   \n",
       "<17_4456>  0.132440  0.230563  0.024665  0.018231  0.000000  0.089008   \n",
       "...             ...       ...       ...       ...       ...       ...   \n",
       "<17_4792>  0.095124  0.186251  0.040767  0.000000  0.026379  0.000000   \n",
       "<11_980>   0.088871  0.137710  0.029624  0.000000  0.000000  0.075260   \n",
       "<8_201>    0.236531  0.162943  0.031537  0.018397  0.001314  0.032852   \n",
       "<11_999>   0.159325  0.314902  0.041237  0.037488  0.044986  0.041237   \n",
       "<8_208>    0.167985  0.187462  0.000000  0.014607  0.010347  0.071211   \n",
       "\n",
       "              7         8      9         10     ...  33918  33928  33937  \\\n",
       "<12_956>   0.000000  0.000000    0.0  0.013206  ...    0.0    0.0    0.0   \n",
       "<11_881>   0.000000  0.000000    0.0  0.006997  ...    0.0    0.0    0.0   \n",
       "<20_4220>  0.000000  0.000000    0.0  0.000000  ...    0.0    0.0    0.0   \n",
       "<20_5243>  0.000000  0.000000    0.0  0.031540  ...    0.0    0.0    0.0   \n",
       "<17_4456>  0.000000  0.000000    0.0  0.015013  ...    0.0    0.0    0.0   \n",
       "...             ...       ...    ...       ...  ...    ...    ...    ...   \n",
       "<17_4792>  0.022382  0.058353    0.0  0.000000  ...    0.0    0.0    0.0   \n",
       "<11_980>   0.000000  0.000000    0.0  0.098479  ...    0.0    0.0    0.0   \n",
       "<8_201>    0.000000  0.000000    0.0  0.000000  ...    0.0    0.0    0.0   \n",
       "<11_999>   0.000000  0.000000    0.0  0.000000  ...    0.0    0.0    0.0   \n",
       "<8_208>    0.000000  0.000000    0.0  0.057821  ...    0.0    0.0    0.0   \n",
       "\n",
       "           33944  33945  33947  33948  33969  33974     33983  \n",
       "<12_956>     0.0    0.0    0.0    0.0    0.0    0.0  0.000000  \n",
       "<11_881>     0.0    0.0    0.0    0.0    0.0    0.0  0.000000  \n",
       "<20_4220>    0.0    0.0    0.0    0.0    0.0    0.0  0.000000  \n",
       "<20_5243>    0.0    0.0    0.0    0.0    0.0    0.0  0.000000  \n",
       "<17_4456>    0.0    0.0    0.0    0.0    0.0    0.0  0.000000  \n",
       "...          ...    ...    ...    ...    ...    ...       ...  \n",
       "<17_4792>    0.0    0.0    0.0    0.0    0.0    0.0  0.017586  \n",
       "<11_980>     0.0    0.0    0.0    0.0    0.0    0.0  0.000000  \n",
       "<8_201>      0.0    0.0    0.0    0.0    0.0    0.0  0.000000  \n",
       "<11_999>     0.0    0.0    0.0    0.0    0.0    0.0  0.000000  \n",
       "<8_208>      0.0    0.0    0.0    0.0    0.0    0.0  0.000000  \n",
       "\n",
       "[5000 rows x 5108 columns]"
      ]
     },
     "execution_count": 150,
     "metadata": {},
     "output_type": "execute_result"
    }
   ],
   "source": [
    "mf"
   ]
  },
  {
   "cell_type": "code",
   "execution_count": 147,
   "id": "5ac7f922-c70a-4746-af42-0dc9d4e8cc56",
   "metadata": {},
   "outputs": [],
   "source": [
    "import matplotlib.pyplot as plt"
   ]
  },
  {
   "cell_type": "code",
   "execution_count": 149,
   "id": "880b68e3-2311-495a-959c-c38dc76390b9",
   "metadata": {},
   "outputs": [
    {
     "data": {
      "text/plain": [
       "(array([ 1., 28., 47.,  9., 10.,  1.,  2.,  0.,  1.,  1.]),\n",
       " array([0.02008521, 0.07125292, 0.12242063, 0.17358834, 0.22475604,\n",
       "        0.27592375, 0.32709146, 0.37825917, 0.42942688, 0.48059459,\n",
       "        0.5317623 ]),\n",
       " <BarContainer object of 10 artists>)"
      ]
     },
     "execution_count": 149,
     "metadata": {},
     "output_type": "execute_result"
    },
    {
     "data": {
      "image/png": "[encoded data removed]",
      "text/plain": [
       "<Figure size 640x480 with 1 Axes>"
      ]
     },
     "metadata": {},
     "output_type": "display_data"
    }
   ],
   "source": [
    "plt.hist(mf.max()[:100])"
   ]
  },
  {
   "cell_type": "code",
   "execution_count": null,
   "id": "eb2aa91e-2101-4bc3-870a-d1ab5bd4637b",
   "metadata": {},
   "outputs": [],
   "source": []
  }
 ],
 "metadata": {
  "kernelspec": {
   "display_name": "Python 3 (ipykernel)",
   "language": "python",
   "name": "python3"
  },
  "language_info": {
   "codemirror_mode": {
    "name": "ipython",
    "version": 3
   },
   "file_extension": ".py",
   "mimetype": "text/x-python",
   "name": "python",
   "nbconvert_exporter": "python",
   "pygments_lexer": "ipython3",
   "version": "3.9.12"
  }
 },
 "nbformat": 4,
 "nbformat_minor": 5
}
