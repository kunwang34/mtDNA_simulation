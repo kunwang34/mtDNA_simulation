{
 "cells": [
  {
   "cell_type": "code",
   "execution_count": 6,
   "id": "f911c0b8-894e-40c8-bd06-b29ccf8e4a49",
   "metadata": {},
   "outputs": [],
   "source": [
    "import sys\n",
    "sys.path.append('..')\n",
    "from mtDNAsim import *"
   ]
  },
  {
   "cell_type": "code",
   "execution_count": 264,
   "id": "b9f956cc-cdf8-4cd6-bee3-0cbf0f31860c",
   "metadata": {},
   "outputs": [],
   "source": [
    "import pandas as pd\n",
    "import numpy as np\n",
    "import matplotlib.pyplot as plt\n",
    "from copy import deepcopy\n",
    "from mpl_toolkits.axes_grid1.inset_locator import inset_axes"
   ]
  },
  {
   "cell_type": "code",
   "execution_count": 13,
   "id": "68bd0e78-5136-4871-a408-743362fec2ea",
   "metadata": {},
   "outputs": [],
   "source": [
    "plt.rcParams['font.size'] = 12"
   ]
  },
  {
   "cell_type": "code",
   "execution_count": 9,
   "id": "ac0d8571-5349-4d79-a3eb-e1447fcd407b",
   "metadata": {},
   "outputs": [
    {
     "data": {
      "application/json": {
       "ascii": false,
       "bar_format": null,
       "colour": null,
       "elapsed": 0.024257183074951172,
       "initial": 0,
       "n": 0,
       "ncols": null,
       "nrows": null,
       "postfix": null,
       "prefix": "",
       "rate": null,
       "total": 8000,
       "unit": "it",
       "unit_divisor": 1000,
       "unit_scale": false
      },
      "application/vnd.jupyter.widget-view+json": {
       "model_id": "bc69dda6d2f644cea36ba1ed4bfb6e61",
       "version_major": 2,
       "version_minor": 0
      },
      "text/plain": [
       "  0%|          | 0/8000 [00:00<?, ?it/s]"
      ]
     },
     "metadata": {},
     "output_type": "display_data"
    }
   ],
   "source": [
    "# num_elements = 5\n",
    "# system = Gillespie(\n",
    "#     num_elements,\n",
    "#     inits=[1, 0, 0, 0, 0],\n",
    "#     max_cell_num=8000\n",
    "# )\n",
    "\n",
    "# p0 = lambda t: (1 - 1 / (1 + np.exp(-0.6 * (t - 17))))\n",
    "# p1 = lambda t: (1 - 1 / (1 + np.exp(-0.6 * (t - 17))))\n",
    "# p2 = lambda t: (1 - 1 / (1 + np.exp(-0.6 * (t - 17))))\n",
    "# p3 = lambda t: (1 - 1 / (1 + np.exp(-0.6 * (t - 18))))\n",
    "# p4 = lambda t: (1 - 1 / (1 + np.exp(-0.6 * (t - 19))))\n",
    "# d0 = lambda t: 1 - p0(t)\n",
    "# d1 = lambda t: 1 - p1(t)\n",
    "# d2 = lambda t: 1 - p2(t)\n",
    "# d3 = lambda t: 1 - p3(t)\n",
    "\n",
    "# system.add_reaction(p0, [1, 0, 0, 0, 0], [2, 0, 0, 0, 0], index=0) # 0 self renew\n",
    "# system.add_reaction(p1, [0, 1, 0, 0, 0], [0, 2, 0, 0, 0], index=1) # 1 self renew\n",
    "# system.add_reaction(p2, [0, 0, 1, 0, 0], [0, 0, 2, 0, 0], index=2) # 2 self renew\n",
    "# system.add_reaction(p3, [0, 0, 0, 1, 0], [0, 0, 0, 2, 0], index=3) # 3 self renew\n",
    "# system.add_reaction(p4, [0, 0, 0, 0, 1], [0, 0, 0, 0, 2], index=4) # 4 self renew\n",
    "# system.add_reaction(d0, [1, 0, 0, 0, 0], [0, 1, 0, 0, 0], index=5) # 0 -> 1 differentiation\n",
    "# system.add_reaction(d1, [0, 1, 0, 0, 0], [0, 0, 1, 0, 0], index=6) # 1 -> 2 differentiation\n",
    "# system.add_reaction(d2, [0, 0, 1, 0, 0], [0, 0, 0, 1, 0], index=7) # 2 -> 3 differentiation\n",
    "# system.add_reaction(d3, [0, 0, 0, 1, 0], [0, 0, 0, 0, 1], index=8) # 3 -> 4 differentiation\n",
    "\n",
    "# system.evolute(20000000)"
   ]
  },
  {
   "cell_type": "code",
   "execution_count": 12,
   "id": "7aa839a1-2e42-4656-8508-cf6eed76ed23",
   "metadata": {},
   "outputs": [],
   "source": [
    "# data_path = \"./results/\"\n",
    "# tree_file_name = \"tree_origin_linear.csv0\"\n",
    "# cell_num_file_name = \"cell_num_linear.csv0\"\n",
    "\n",
    "# curr_cells = []\n",
    "# t = np.array(system.generation_time)\n",
    "# cell_num_traj = np.array(system.n)\n",
    "\n",
    "# for i in system.curr_cells.values():\n",
    "#     curr_cells += i\n",
    "# while tree_file_name in os.listdir(data_path):\n",
    "#     tree_file_name = tree_file_name[:-1] + str(int(tree_file_name[-1]) + 1)\n",
    "#     cell_num_file_name = cell_num_file_name[:-1] + str(int(cell_num_file_name[-1]) + 1)\n",
    "\n",
    "# np.savetxt(\n",
    "#     data_path + cell_num_file_name,\n",
    "#     np.hstack((t.reshape(-1, 1), cell_num_traj)),\n",
    "#     fmt=\"%.5f\",\n",
    "# )\n",
    "\n",
    "# sim_utils.wirte_lineage_info(\n",
    "#     data_path + tree_file_name, system.anc_cells, curr_cells, system.t[-1]\n",
    "# )\n"
   ]
  },
  {
   "cell_type": "code",
   "execution_count": 15,
   "id": "ba8afea7-2ab7-4fde-81db-bc930f6458c2",
   "metadata": {},
   "outputs": [],
   "source": [
    "# reconstruct('./results/tree_origin_linear.csv0', output='./results/tree_origin_linear.nwk', num=1000, is_balance=True)"
   ]
  },
  {
   "cell_type": "code",
   "execution_count": 16,
   "id": "aaabfd7e-bbeb-4e16-841f-a006251cd6b1",
   "metadata": {},
   "outputs": [],
   "source": [
    "tree_file = './results/tree_origin_linear.nwk'\n",
    "phylo_tree, branch_colors = loadtree(tree_file)\n",
    "sampled_cells = [i.name for i in phylo_tree.get_terminals()]\n",
    "cell_names, cell_states, cell_generation = get_annotation('./results/tree_origin_linear.csv0')\n",
    "cell_states = pd.DataFrame(data=cell_states, index=cell_names).loc[sampled_cells]\n",
    "cell_generation = pd.DataFrame(data=cell_generation, index=cell_names).loc[sampled_cells].to_numpy()"
   ]
  },
  {
   "cell_type": "code",
   "execution_count": 17,
   "id": "33084a5a-684f-4f66-b3c0-d24f09b3ca3f",
   "metadata": {},
   "outputs": [],
   "source": [
    "sd = scData(\n",
    "    phylo_tree=phylo_tree,\n",
    "    cell_states=cell_states.to_numpy().T[0].astype('int'),\n",
    "    cell_generation=cell_generation.T[0].astype('int'),\n",
    "    cell_names=sampled_cells\n",
    ")"
   ]
  },
  {
   "cell_type": "code",
   "execution_count": 18,
   "id": "3ae29be5-fef7-4803-a46d-9681bd390a6f",
   "metadata": {},
   "outputs": [],
   "source": [
    "ge, base_expr = sim_base_expr(sd.phylo_tree,\n",
    "                                 cell_states,\n",
    "                                 Ngene=2000,\n",
    "                                 r_variant_gene=0.4,\n",
    "                                 diff_map={0:[0],1:[0],2:[1],3:[2],4:[3]},\n",
    "                                 forward_map={},\n",
    "                                 mu0_loc=0,\n",
    "                                 mu0_scale=1,\n",
    "                                 drift_loc=0,\n",
    "                                 drift_scale=0.3,\n",
    "                                )"
   ]
  },
  {
   "cell_type": "code",
   "execution_count": 19,
   "id": "baa2c26e-b019-49a0-90f2-33743763755f",
   "metadata": {},
   "outputs": [],
   "source": [
    "sd.count = get_count_from_base_expr(add_lineage_noise(sd.phylo_tree, base_expr), alpha=0.1)"
   ]
  },
  {
   "cell_type": "code",
   "execution_count": 20,
   "id": "c4f0c400-c59b-400d-9e57-c261a2863294",
   "metadata": {},
   "outputs": [
    {
     "name": "stderr",
     "output_type": "stream",
     "text": [
      "/home/wangkun/miniconda3/lib/python3.9/site-packages/sklearn/manifold/_t_sne.py:800: FutureWarning: The default initialization in TSNE will change from 'random' to 'pca' in 1.2.\n",
      "  warnings.warn(\n",
      "/home/wangkun/miniconda3/lib/python3.9/site-packages/sklearn/manifold/_t_sne.py:810: FutureWarning: The default learning rate in TSNE will change from 200.0 to 'auto' in 1.2.\n",
      "  warnings.warn(\n"
     ]
    }
   ],
   "source": [
    "sd.dimensionality_reduction()"
   ]
  },
  {
   "cell_type": "code",
   "execution_count": 21,
   "id": "0048fc92-7712-4570-8321-df5e1723da23",
   "metadata": {},
   "outputs": [
    {
     "data": {
      "image/png": "[encoded data removed]",
      "text/plain": [
       "<Figure size 400x400 with 1 Axes>"
      ]
     },
     "metadata": {},
     "output_type": "display_data"
    }
   ],
   "source": [
    "fig, ax = plt.subplots(figsize=(4, 4))\n",
    "cmps = ['#8dd3c7','#80b1d3','#bebada','#fdb462','#fb8072']\n",
    "for i in range(5):\n",
    "    ax.scatter(sd.Xdr.iloc[sd.cell_states==i, 0], sd.Xdr.iloc[sd.cell_states==i, 1], c=cmps[i])\n",
    "ax.set_xlabel('tSNE 1', )\n",
    "ax.set_ylabel('tSNE 2', )\n",
    "ax.spines['right'].set_visible(False)\n",
    "ax.spines['top'].set_visible(False)"
   ]
  },
  {
   "cell_type": "code",
   "execution_count": null,
   "id": "44784fff-195f-4cab-ac12-6b2b640904dd",
   "metadata": {},
   "outputs": [],
   "source": [
    "seqs = DNAmutation(sd.phylo_tree, mut_rate=0.1)"
   ]
  },
  {
   "cell_type": "code",
   "execution_count": null,
   "id": "a7b34b1f-38f1-4864-bcb5-8316efa36373",
   "metadata": {
    "tags": []
   },
   "outputs": [
    {
     "data": {
      "application/json": {
       "ascii": false,
       "bar_format": null,
       "colour": null,
       "elapsed": 0.029140710830688477,
       "initial": 0,
       "n": 0,
       "ncols": null,
       "nrows": null,
       "postfix": null,
       "prefix": "",
       "rate": null,
       "total": 999,
       "unit": "it",
       "unit_divisor": 1000,
       "unit_scale": false
      },
      "application/vnd.jupyter.widget-view+json": {
       "model_id": "34188e9e7f144ed7a2b8afc65a969062",
       "version_major": 2,
       "version_minor": 0
      },
      "text/plain": [
       "  0%|          | 0/999 [00:00<?, ?it/s]"
      ]
     },
     "metadata": {},
     "output_type": "display_data"
    },
    {
     "data": {
      "application/json": {
       "ascii": false,
       "bar_format": null,
       "colour": null,
       "elapsed": 0.016425371170043945,
       "initial": 0,
       "n": 0,
       "ncols": null,
       "nrows": null,
       "postfix": null,
       "prefix": "",
       "rate": null,
       "total": 6523,
       "unit": "it",
       "unit_divisor": 1000,
       "unit_scale": false
      },
      "application/vnd.jupyter.widget-view+json": {
       "model_id": "b2360d4c3b8e4109921d9298520c627e",
       "version_major": 2,
       "version_minor": 0
      },
      "text/plain": [
       "  0%|          | 0/6523 [00:00<?, ?it/s]"
      ]
     },
     "metadata": {},
     "output_type": "display_data"
    }
   ],
   "source": [
    "mt_muts, mutid = mtmutation(sd.phylo_tree, mut_rate=8e-3)"
   ]
  },
  {
   "cell_type": "code",
   "execution_count": null,
   "id": "dbc18012-3f4f-4af5-ba7e-d94f3b684824",
   "metadata": {},
   "outputs": [],
   "source": [
    "original_mutations = set()\n",
    "for i in mt_muts['<0_0>']:\n",
    "    original_mutations = original_mutations.union(i)"
   ]
  },
  {
   "cell_type": "code",
   "execution_count": null,
   "id": "5861909b-298f-4a29-b070-561fd51c84ae",
   "metadata": {
    "tags": []
   },
   "outputs": [],
   "source": [
    "mf = mut_freq(mt_muts, mutid, sel_cells=[i.name for i in sd.phylo_tree.get_terminals()])"
   ]
  },
  {
   "cell_type": "code",
   "execution_count": null,
   "id": "71189851-5b19-41bc-bb15-d76ef137b5e2",
   "metadata": {},
   "outputs": [],
   "source": [
    "plt.rcParams['font.size'] = 8"
   ]
  },
  {
   "cell_type": "code",
   "execution_count": null,
   "id": "8f4b4aaf-246d-4aa2-9b51-cd8ce29ebe2b",
   "metadata": {},
   "outputs": [],
   "source": [
    "# show_mtmuts = np.random.choice(list(original_mutations), 16, replace=False)\n",
    "show_mtmuts = mf.sum().sort_values(ascending=False).index[:16]\n",
    "fig, ax = plt.subplots(4, 4, figsize=(9, 9), sharex=True, sharey=True)\n",
    "for ind, i in enumerate(show_mtmuts):\n",
    "    scatter = ax[ind//4][ind%4].scatter(sd.Xdr.iloc[:, 0], sd.Xdr.iloc[:, 1], c=mf.loc[sd.Xdr.index][i], s=3)\n",
    "    # ax[i//4][i%4].set_xlabel('tSNE 1', )\n",
    "    # ax[i//4][i%4].set_ylabel('tSNE 2', )\n",
    "    ax[ind//4][ind%4].spines['right'].set_visible(False)\n",
    "    ax[ind//4][ind%4].spines['top'].set_visible(False)\n",
    "    cbaxes = inset_axes(ax[ind//4][ind%4], width=\"3%\", height=\"30%\", loc='lower right') \n",
    "    plt.colorbar(scatter, cax=cbaxes, orientation='vertical')\n",
    "# plt.tight_layout()"
   ]
  },
  {
   "cell_type": "code",
   "execution_count": null,
   "id": "8da2b9c8-1e4e-4215-9574-08476c7537ae",
   "metadata": {},
   "outputs": [],
   "source": [
    "show_mtmuts = mf[list(set(mf.columns)-original_mutations)].sum().sort_values(ascending=False).index[:16]\n",
    "fig, ax = plt.subplots(4, 4, figsize=(9, 9), sharex=True, sharey=True)\n",
    "for ind, i in enumerate(show_mtmuts):\n",
    "    scatter = ax[ind//4][ind%4].scatter(sd.Xdr.iloc[:, 0], sd.Xdr.iloc[:, 1], c=mf.loc[sd.Xdr.index][i], s=3)\n",
    "    # ax[i//4][i%4].set_xlabel('tSNE 1', )\n",
    "    # ax[i//4][i%4].set_ylabel('tSNE 2', )\n",
    "    ax[ind//4][ind%4].spines['right'].set_visible(False)\n",
    "    ax[ind//4][ind%4].spines['top'].set_visible(False)\n",
    "    cbaxes = inset_axes(ax[ind//4][ind%4], width=\"3%\", height=\"30%\", loc='lower right') \n",
    "    plt.colorbar(scatter, cax=cbaxes, orientation='vertical')\n",
    "# plt.tight_layout()"
   ]
  },
  {
   "cell_type": "code",
   "execution_count": null,
   "id": "742f64aa-f941-4a5a-b97a-a914472c2d3c",
   "metadata": {},
   "outputs": [],
   "source": []
  },
  {
   "cell_type": "code",
   "execution_count": null,
   "id": "47be8f23-f9ee-4699-bbe4-319283367c00",
   "metadata": {},
   "outputs": [],
   "source": []
  }
 ],
 "metadata": {
  "kernelspec": {
   "display_name": "Python 3 (ipykernel)",
   "language": "python",
   "name": "python3"
  },
  "language_info": {
   "codemirror_mode": {
    "name": "ipython",
    "version": 3
   },
   "file_extension": ".py",
   "mimetype": "text/x-python",
   "name": "python",
   "nbconvert_exporter": "python",
   "pygments_lexer": "ipython3",
   "version": "3.9.12"
  },
  "toc-showcode": false
 },
 "nbformat": 4,
 "nbformat_minor": 5
}
