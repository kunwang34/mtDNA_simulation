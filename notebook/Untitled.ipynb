{
 "cells": [
  {
   "cell_type": "code",
   "execution_count": 2,
   "id": "6ea3860b-2782-4457-826b-8694291ab71d",
   "metadata": {},
   "outputs": [],
   "source": [
    "from Bio import Phylo"
   ]
  },
  {
   "cell_type": "code",
   "execution_count": 8,
   "id": "7a8896f4-1c50-47dd-8a0c-c95e3580a896",
   "metadata": {},
   "outputs": [],
   "source": [
    "import pickle\n",
    "import numpy as np\n",
    "import pandas as pd"
   ]
  },
  {
   "cell_type": "code",
   "execution_count": 16,
   "id": "6ec8d2bd-d411-4392-bdc5-452aa5ee8ad3",
   "metadata": {},
   "outputs": [],
   "source": [
    "from tqdm import tqdm"
   ]
  },
  {
   "cell_type": "code",
   "execution_count": 9,
   "id": "e4dac3bc-3695-494b-bb27-2e174085e3a5",
   "metadata": {},
   "outputs": [],
   "source": [
    "def mut_freq(mt_muts, max_mut_id = None, sel_cells=None):\n",
    "    if not max_mut_id:\n",
    "        max_mut_id = np.max([np.max(list(j)) for j in mt_muts[i.name] if j for i in mt_muts])\n",
    "    max_mut_id += 1\n",
    "    mut_freqs = []\n",
    "    cell_names = []\n",
    "    for cell in tqdm(sel_cells):\n",
    "        mut_pos = np.zeros((len(mt_muts[cell]), max_mut_id))\n",
    "        for ind, mt in enumerate(mt_muts[cell]):\n",
    "            mut_pos[ind][list(mt)] = 1\n",
    "        mut_freqs.append(mut_pos.sum(0)/len(mt_muts[cell]))\n",
    "        cell_names.append(cell)\n",
    "    mf = pd.DataFrame(mut_freqs, index=cell_names)\n",
    "    mf = mf[mf.columns[mf.sum()>0]]\n",
    "    return mf"
   ]
  },
  {
   "cell_type": "code",
   "execution_count": 22,
   "id": "8a3a6729-2619-4349-bdcf-524c62110ee9",
   "metadata": {},
   "outputs": [],
   "source": [
    "tree = Phylo.read('/data3/wangkun/mtsim_res/res_1113/686050/linear_tree_gt_686050.nwk', format='newick')"
   ]
  },
  {
   "cell_type": "code",
   "execution_count": 24,
   "id": "3b027cba-8d66-4171-8633-e68c240735d4",
   "metadata": {},
   "outputs": [],
   "source": [
    "tree.find_any(name='<3_2>')"
   ]
  },
  {
   "cell_type": "code",
   "execution_count": 4,
   "id": "81c34f29-f6a4-40fe-bb9a-30aa4fbad483",
   "metadata": {},
   "outputs": [],
   "source": [
    "mt = pickle.load(open('/data3/wangkun/mtsim_res/res_1113/630531/mt_allmuts_early_0.1_630531.pkl', 'rb'))"
   ]
  },
  {
   "cell_type": "code",
   "execution_count": 21,
   "id": "9a09d195-e098-4b40-b298-e89a2e9e01ff",
   "metadata": {},
   "outputs": [],
   "source": [
    "import matplotlib.pyplot as plt"
   ]
  },
  {
   "cell_type": "code",
   "execution_count": 26,
   "id": "379c99c5-435d-4de9-89fa-8303bb31000c",
   "metadata": {},
   "outputs": [
    {
     "name": "stderr",
     "output_type": "stream",
     "text": [
      "100%|██████████| 1/1 [00:00<00:00, 280.52it/s]\n"
     ]
    },
    {
     "data": {
      "text/plain": [
       "(array([88., 10.,  1.,  2.,  2.,  0.,  0.,  0.,  1.,  1.]),\n",
       " array([0.002 , 0.0116, 0.0212, 0.0308, 0.0404, 0.05  , 0.0596, 0.0692,\n",
       "        0.0788, 0.0884, 0.098 ]),\n",
       " <BarContainer object of 10 artists>)"
      ]
     },
     "execution_count": 26,
     "metadata": {},
     "output_type": "execute_result"
    },
    {
     "data": {
      "image/png": "[encoded data removed]",
      "text/plain": [
       "<Figure size 640x480 with 1 Axes>"
      ]
     },
     "metadata": {},
     "output_type": "display_data"
    }
   ],
   "source": [
    "plt.hist(mut_freq(mt, max([np.max(list(i)) for i in mt['<0_0>'] if len(i)>0]), ['<0_0>']).to_numpy()[0])"
   ]
  },
  {
   "cell_type": "code",
   "execution_count": 14,
   "id": "f87388b4-e47e-4827-be8c-bb8df3edd647",
   "metadata": {},
   "outputs": [
    {
     "data": {
      "text/plain": [
       "115"
      ]
     },
     "execution_count": 14,
     "metadata": {},
     "output_type": "execute_result"
    }
   ],
   "source": []
  },
  {
   "cell_type": "code",
   "execution_count": null,
   "id": "e18523b0-c1cb-4fde-8c06-0448588c946f",
   "metadata": {},
   "outputs": [],
   "source": []
  }
 ],
 "metadata": {
  "kernelspec": {
   "display_name": "Python 3 (ipykernel)",
   "language": "python",
   "name": "python3"
  },
  "language_info": {
   "codemirror_mode": {
    "name": "ipython",
    "version": 3
   },
   "file_extension": ".py",
   "mimetype": "text/x-python",
   "name": "python",
   "nbconvert_exporter": "python",
   "pygments_lexer": "ipython3",
   "version": "3.9.12"
  }
 },
 "nbformat": 4,
 "nbformat_minor": 5
}
