{
 "cells": [
  {
   "cell_type": "code",
   "execution_count": 2,
   "id": "6ea3860b-2782-4457-826b-8694291ab71d",
   "metadata": {},
   "outputs": [],
   "source": [
    "from Bio import Phylo"
   ]
  },
  {
   "cell_type": "code",
   "execution_count": 8,
   "id": "7a8896f4-1c50-47dd-8a0c-c95e3580a896",
   "metadata": {},
   "outputs": [],
   "source": [
    "import pickle\n",
    "import numpy as np\n",
    "import pandas as pd"
   ]
  },
  {
   "cell_type": "code",
   "execution_count": 16,
   "id": "6ec8d2bd-d411-4392-bdc5-452aa5ee8ad3",
   "metadata": {},
   "outputs": [],
   "source": [
    "from tqdm import tqdm"
   ]
  },
  {
   "cell_type": "code",
   "execution_count": 9,
   "id": "e4dac3bc-3695-494b-bb27-2e174085e3a5",
   "metadata": {},
   "outputs": [],
   "source": [
    "def mut_freq(mt_muts, max_mut_id = None, sel_cells=None):\n",
    "    if not max_mut_id:\n",
    "        max_mut_id = np.max([np.max(list(j)) for j in mt_muts[i.name] if j for i in mt_muts])\n",
    "    max_mut_id += 1\n",
    "    mut_freqs = []\n",
    "    cell_names = []\n",
    "    for cell in tqdm(sel_cells):\n",
    "        mut_pos = np.zeros((len(mt_muts[cell]), max_mut_id))\n",
    "        for ind, mt in enumerate(mt_muts[cell]):\n",
    "            mut_pos[ind][list(mt)] = 1\n",
    "        mut_freqs.append(mut_pos.sum(0)/len(mt_muts[cell]))\n",
    "        cell_names.append(cell)\n",
    "    mf = pd.DataFrame(mut_freqs, index=cell_names)\n",
    "    mf = mf[mf.columns[mf.sum()>0]]\n",
    "    return mf"
   ]
  },
  {
   "cell_type": "code",
   "execution_count": 88,
   "id": "8a3a6729-2619-4349-bdcf-524c62110ee9",
   "metadata": {},
   "outputs": [],
   "source": [
    "tree = Phylo.read('/data3/wangkun/mtsim_res/res_1113/630531/linear_tree_gt_630531.nwk', format='newick')"
   ]
  },
  {
   "cell_type": "code",
   "execution_count": 4,
   "id": "81c34f29-f6a4-40fe-bb9a-30aa4fbad483",
   "metadata": {},
   "outputs": [],
   "source": [
    "mt = pickle.load(open('/data3/wangkun/mtsim_res/res_1113/630531/mt_allmuts_early_0.1_630531.pkl', 'rb'))"
   ]
  },
  {
   "cell_type": "code",
   "execution_count": 21,
   "id": "9a09d195-e098-4b40-b298-e89a2e9e01ff",
   "metadata": {},
   "outputs": [],
   "source": [
    "import matplotlib.pyplot as plt"
   ]
  },
  {
   "cell_type": "code",
   "execution_count": 26,
   "id": "379c99c5-435d-4de9-89fa-8303bb31000c",
   "metadata": {},
   "outputs": [
    {
     "name": "stderr",
     "output_type": "stream",
     "text": [
      "100%|██████████| 1/1 [00:00<00:00, 280.52it/s]\n"
     ]
    },
    {
     "data": {
      "text/plain": [
       "(array([88., 10.,  1.,  2.,  2.,  0.,  0.,  0.,  1.,  1.]),\n",
       " array([0.002 , 0.0116, 0.0212, 0.0308, 0.0404, 0.05  , 0.0596, 0.0692,\n",
       "        0.0788, 0.0884, 0.098 ]),\n",
       " <BarContainer object of 10 artists>)"
      ]
     },
     "execution_count": 26,
     "metadata": {},
     "output_type": "execute_result"
    },
    {
     "data": {
      "image/png": "[encoded data removed]",
      "text/plain": [
       "<Figure size 640x480 with 1 Axes>"
      ]
     },
     "metadata": {},
     "output_type": "display_data"
    }
   ],
   "source": [
    "plt.hist(mut_freq(mt, max([np.max(list(i)) for i in mt['<0_0>'] if len(i)>0]), ['<0_0>']).to_numpy()[0])"
   ]
  },
  {
   "cell_type": "code",
   "execution_count": 80,
   "id": "fa3431fd-826d-484f-9b7e-0e2ba30b8c76",
   "metadata": {},
   "outputs": [],
   "source": [
    "from collections import Counter\n",
    "def specific_mutation(cell, cell_group, mts, cutoff=0):\n",
    "    # specific_mutation('<3_0>', [i for i in mt.keys() if i[1:3]=='3_'], mt, cutoff=0)\n",
    "    if cell in cell_group:\n",
    "        cell_group.remove(cell)\n",
    "    if cutoff:\n",
    "        cnt = Counter(sum([list(i) for i in mt[cell]], []))\n",
    "        muts = np.array(list(cnt.keys()))[np.array(list(cnt.values()))>cutoff]\n",
    "        group_muts = set()\n",
    "        for j in cell_group:\n",
    "            cnt = Counter(sum([list(i) for i in mt[j]], []))\n",
    "            jmuts = np.array(list(cnt.keys()))[np.array(list(cnt.values()))>cutoff]\n",
    "            group_muts = group_muts.union(set(jmuts))\n",
    "    else:\n",
    "        muts = set(sum([list(i) for i in mt[cell]], []))\n",
    "        group_muts = set(sum([sum([list(i) for i in mt[j]], []) for j in cell_group], []))\n",
    "    muts, group_muts = list(muts), list(group_muts)\n",
    "    return np.array(muts)[~np.isin(muts, group_muts)]"
   ]
  },
  {
   "cell_type": "code",
   "execution_count": null,
   "id": "8ec3cce8-c558-4ab6-93d1-0c93cbcb328a",
   "metadata": {},
   "outputs": [],
   "source": []
  },
  {
   "cell_type": "code",
   "execution_count": 130,
   "id": "ad0b08c5-e4f3-41f1-927d-77f996ed9fa8",
   "metadata": {},
   "outputs": [],
   "source": [
    "def ancestor_tracing(cells, ancestors, tree, count=True):\n",
    "    ancestors = [tree.find_any(i) for i in ancestors]\n",
    "    res = np.array([None]*len(cells))\n",
    "    for anc in ancestors:\n",
    "        res[np.isin(cells, [i.name for i in anc.get_terminals()])] = anc.name\n",
    "    if count:\n",
    "        return Counter(res)\n",
    "    else:\n",
    "        return res"
   ]
  },
  {
   "cell_type": "code",
   "execution_count": 129,
   "id": "c2bb3eed-13f2-47e9-8652-76bd6683fd8f",
   "metadata": {},
   "outputs": [
    {
     "data": {
      "text/plain": [
       "Counter({'<3_0>': 9, '<3_1>': 1})"
      ]
     },
     "execution_count": 129,
     "metadata": {},
     "output_type": "execute_result"
    }
   ],
   "source": [
    "cells = np.array([i.name for i in tree.get_terminals()])\n",
    "cells = cells[np.random.choice(range(1000), 10, replace=False)]\n",
    "ancestor_tracing(cells, [i for i in mt.keys() if i[1:3]=='3_'], tree)"
   ]
  },
  {
   "cell_type": "code",
   "execution_count": 127,
   "id": "3a4c2c98-96ad-41df-b360-737987a5d9e9",
   "metadata": {},
   "outputs": [
    {
     "data": {
      "text/plain": [
       "array(['<19_1015>', '<25_1878>', '<25_586>', '<15_3422>', '<22_2200>',\n",
       "       '<19_5556>', '<14_2709>', '<20_4424>', '<28_345>', '<23_2846>'],\n",
       "      dtype='<U9')"
      ]
     },
     "execution_count": 127,
     "metadata": {},
     "output_type": "execute_result"
    }
   ],
   "source": [
    "cells"
   ]
  },
  {
   "cell_type": "code",
   "execution_count": null,
   "id": "f11f31ea-9841-448d-8b06-e4320c9731f5",
   "metadata": {},
   "outputs": [],
   "source": []
  },
  {
   "cell_type": "code",
   "execution_count": 93,
   "id": "b336b85c-0cbb-47ba-b28c-3da8d85eeacc",
   "metadata": {},
   "outputs": [
    {
     "data": {
      "text/plain": [
       "array([  2,  27,  60,  82,  97, 104])"
      ]
     },
     "execution_count": 93,
     "metadata": {},
     "output_type": "execute_result"
    }
   ],
   "source": [
    "specific_mutation('<3_1>', [i for i in mt.keys() if i[1:3]=='3_'], mt, cutoff=0)"
   ]
  },
  {
   "cell_type": "code",
   "execution_count": 95,
   "id": "d08dbb84-bcac-433c-99da-d0a3d96e1cf1",
   "metadata": {},
   "outputs": [
    {
     "data": {
      "text/plain": [
       "array([62, 68])"
      ]
     },
     "execution_count": 95,
     "metadata": {},
     "output_type": "execute_result"
    }
   ],
   "source": [
    "specific_mutation('<3_3>', [i for i in mt.keys() if i[1:3]=='3_'], mt, cutoff=0)"
   ]
  },
  {
   "cell_type": "code",
   "execution_count": 96,
   "id": "370bf262-d445-47a9-9a43-4597384813ce",
   "metadata": {},
   "outputs": [
    {
     "data": {
      "text/plain": [
       "array([ 34,  35,  54,  67, 103, 117])"
      ]
     },
     "execution_count": 96,
     "metadata": {},
     "output_type": "execute_result"
    }
   ],
   "source": [
    "specific_mutation('<3_4>', [i for i in mt.keys() if i[1:3]=='3_'], mt, cutoff=0)"
   ]
  },
  {
   "cell_type": "code",
   "execution_count": 97,
   "id": "fdd643cb-5918-489a-b00b-e6bce67bd101",
   "metadata": {},
   "outputs": [
    {
     "data": {
      "text/plain": [
       "array([ 47,  94, 106, 114])"
      ]
     },
     "execution_count": 97,
     "metadata": {},
     "output_type": "execute_result"
    }
   ],
   "source": [
    "specific_mutation('<3_5>', [i for i in mt.keys() if i[1:3]=='3_'], mt, cutoff=0)"
   ]
  },
  {
   "cell_type": "code",
   "execution_count": 98,
   "id": "37b1e690-f259-4526-834c-162db38a3ada",
   "metadata": {},
   "outputs": [
    {
     "data": {
      "text/plain": [
       "array([15, 29, 44])"
      ]
     },
     "execution_count": 98,
     "metadata": {},
     "output_type": "execute_result"
    }
   ],
   "source": [
    "specific_mutation('<3_6>', [i for i in mt.keys() if i[1:3]=='3_'], mt, cutoff=0)"
   ]
  },
  {
   "cell_type": "code",
   "execution_count": null,
   "id": "1ea6a096-4ad7-490f-8540-165f876ad8fa",
   "metadata": {},
   "outputs": [],
   "source": []
  }
 ],
 "metadata": {
  "kernelspec": {
   "display_name": "Python 3 (ipykernel)",
   "language": "python",
   "name": "python3"
  },
  "language_info": {
   "codemirror_mode": {
    "name": "ipython",
    "version": 3
   },
   "file_extension": ".py",
   "mimetype": "text/x-python",
   "name": "python",
   "nbconvert_exporter": "python",
   "pygments_lexer": "ipython3",
   "version": "3.9.12"
  }
 },
 "nbformat": 4,
 "nbformat_minor": 5
}
