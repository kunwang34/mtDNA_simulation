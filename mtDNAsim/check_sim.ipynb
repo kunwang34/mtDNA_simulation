{
 "cells": [
  {
   "cell_type": "code",
   "execution_count": 1,
   "id": "b8316af2-47ae-41d5-a1cd-0af19d8e2159",
   "metadata": {},
   "outputs": [
    {
     "name": "stderr",
     "output_type": "stream",
     "text": [
      "/home/wangkun/mtDNA_simulation/mtDNAsim/../mtDNAsim/sim_utils.py:7: TqdmExperimentalWarning: Using `tqdm.autonotebook.tqdm` in notebook mode. Use `tqdm.tqdm` instead to force console mode (e.g. in jupyter console)\n",
      "  from tqdm.autonotebook import tqdm\n"
     ]
    }
   ],
   "source": [
    "import sys\n",
    "sys.path.append('..')\n",
    "from mtDNAsim import *\n",
    "import pandas as pd\n",
    "import numpy as np\n",
    "from copy import deepcopy\n",
    "from collections import Counter\n",
    "import argparse\n",
    "import pickle"
   ]
  },
  {
   "cell_type": "code",
   "execution_count": null,
   "id": "020332e7-69d7-4c80-abb0-b2f357e760fc",
   "metadata": {},
   "outputs": [],
   "source": []
  },
  {
   "cell_type": "code",
   "execution_count": 2,
   "id": "92f4b002-5ffb-4a06-b5d9-c447610513e2",
   "metadata": {},
   "outputs": [
    {
     "data": {
      "application/vnd.jupyter.widget-view+json": {
       "model_id": "58e59ec25c714ab39643a258fc3af29b",
       "version_major": 2,
       "version_minor": 0
      },
      "text/plain": [
       "  0%|          | 0/20000 [00:00<?, ?it/s]"
      ]
     },
     "metadata": {},
     "output_type": "display_data"
    },
    {
     "name": "stderr",
     "output_type": "stream",
     "text": [
      "/home/wangkun/mtDNA_simulation/mtDNAsim/../mtDNAsim/gillespie_variable_paras.py:275: RuntimeWarning: invalid value encountered in scalar divide\n",
      "  avg_generation = np.dot(\n",
      "/home/wangkun/mtDNA_simulation/mtDNAsim/../mtDNAsim/gillespie_variable_paras.py:288: RuntimeWarning: invalid value encountered in divide\n",
      "  A /= A0\n",
      "/home/wangkun/mtDNA_simulation/mtDNAsim/../mtDNAsim/gillespie_variable_paras.py:289: RuntimeWarning: divide by zero encountered in scalar divide\n",
      "  t0 = -np.log(np.random.random()) / A0\n"
     ]
    },
    {
     "data": {
      "application/vnd.jupyter.widget-view+json": {
       "model_id": "2599ffdcfc344f579c3ac8fe44519bae",
       "version_major": 2,
       "version_minor": 0
      },
      "text/plain": [
       "  0%|          | 0/20000 [00:00<?, ?it/s]"
      ]
     },
     "metadata": {},
     "output_type": "display_data"
    }
   ],
   "source": [
    "data_path = '/data3/wangkun/mtsim_res/20240903/test/'\n",
    "# simid = parser.parse_args().i\n",
    "nrm = 100\n",
    "bn = 'mid'\n",
    "mt_mutrate = 0.8\n",
    "n_mts = 500\n",
    "\n",
    "\n",
    "imr = nrm / 1000\n",
    "selection = 0.6\n",
    "\n",
    "num_elements = 1\n",
    "success = 0\n",
    "while not success:\n",
    "    try:\n",
    "        system = Gillespie(\n",
    "            num_elements,\n",
    "            inits=[1],\n",
    "            max_cell_num=20000\n",
    "        )\n",
    "\n",
    "        p0 = lambda t: 0.8\n",
    "        dr = lambda t: 0.33\n",
    "        system.add_reaction(p0, [1], [2], index=0) # 0 self renew\n",
    "        system.add_reaction(dr, [1], [0], index=13) # 3 -> 4 differentiation\n",
    "        system.evolute(1000000)\n",
    "        success = 1\n",
    "    except:\n",
    "        None\n",
    "\n",
    "curr_cells = []\n",
    "\n",
    "for i in system.curr_cells.values():\n",
    "    curr_cells += i\n",
    "\n",
    "sim_utils.wirte_lineage_info(\n",
    "    f\"{data_path}/lineage_info.csv\", system.anc_cells, curr_cells, system.t[-1]\n",
    ")\n",
    "\n",
    "reconstruct(f\"{data_path}/lineage_info.csv\", output=f\"{data_path}/gt_tree.nwk\", num=1000, is_balance=True)"
   ]
  },
  {
   "cell_type": "code",
   "execution_count": 3,
   "id": "b1676560-c9b2-467f-bdcb-eb7f1f61c260",
   "metadata": {},
   "outputs": [
    {
     "data": {
      "application/vnd.jupyter.widget-view+json": {
       "model_id": "c5a0ea39dcee4f74a755f7433173a14d",
       "version_major": 2,
       "version_minor": 0
      },
      "text/plain": [
       "  0%|          | 0/499 [00:00<?, ?it/s]"
      ]
     },
     "metadata": {},
     "output_type": "display_data"
    },
    {
     "data": {
      "application/vnd.jupyter.widget-view+json": {
       "model_id": "f02e84b75e774531ba80658a26fd6b40",
       "version_major": 2,
       "version_minor": 0
      },
      "text/plain": [
       "Simulating MT mutation::   0%|          | 0/9014 [00:00<?, ?it/s]"
      ]
     },
     "metadata": {},
     "output_type": "display_data"
    }
   ],
   "source": [
    "tree = loadtree(f'{data_path}/gt_tree.nwk')[0]\n",
    "for i in tree.get_nonterminals():\n",
    "    i.branch_length=1\n",
    "for i in tree.get_terminals():\n",
    "    i.branch_length=1\n",
    "Phylo.write(tree, f'{data_path}/gt_tree.nwk', format='newick')\n",
    "\n",
    "\n",
    "mt_cn = {\n",
    "    'mid':lambda x: 1.52 if x <= 10 else (2.85 if x <= 20 else 2),\n",
    "    'const':lambda x: 2 \n",
    "}\n",
    "\n",
    "success = 0\n",
    "while not success:\n",
    "    try:\n",
    "        mt_muts, mutid = mtmutation(tree, mut_rate=mt_mutrate/n_mts, init_mut_rate=imr, mt_copynumber=mt_cn[bn], nmts=n_mts)\n",
    "        n_root_muts = len(set(sum([list(i) for i in mt_muts['<0_0>']], [])))\n",
    "        if nrm == 0:\n",
    "            success = 1\n",
    "        elif np.abs(n_root_muts-nrm)/nrm <= 0.7:\n",
    "            success = 1\n",
    "        else:\n",
    "            pass\n",
    "    except:\n",
    "        pass\n",
    "\n",
    "pickle.dump(mt_muts, open(f\"{data_path}/mt_allmuts_30.pkl\", 'wb'))"
   ]
  },
  {
   "cell_type": "code",
   "execution_count": 4,
   "id": "392a102b-bb8c-42ed-935b-00e4779b069b",
   "metadata": {},
   "outputs": [
    {
     "data": {
      "application/vnd.jupyter.widget-view+json": {
       "model_id": "b67d654829544cbf928bc41e25f4b7f7",
       "version_major": 2,
       "version_minor": 0
      },
      "text/plain": [
       "  0%|          | 0/9014 [00:00<?, ?it/s]"
      ]
     },
     "metadata": {},
     "output_type": "display_data"
    }
   ],
   "source": [
    "mt_freq = sparse_freq(mt_muts)\n",
    "tree_gt = Phylo.read(f'{data_path}/gt_tree.nwk', format='newick')\n",
    "mt_freq_leave = mt_freq.loc[[i.name for i in tree_gt.get_terminals()]]\n",
    "for cutoff in [0, 0.01]:\n",
    "    muts = mt_freq_leave>cutoff\n",
    "    muts = muts.iloc[:, np.where(muts.sum(0)>0)[0]]\n",
    "    muts = muts.astype(int).astype(str)\n",
    "    translation_table = str.maketrans({'1': 'A', '0': 'G'})\n",
    "    seqs = f'{muts.shape[0]} {muts.shape[1]}\\n'\n",
    "    for i in range(muts.shape[0]):\n",
    "        seqs += f'{muts.index[i]} '\n",
    "        seqs += ''.join(muts.iloc[i].to_numpy()).translate(translation_table)\n",
    "        seqs += '\\n'\n",
    "    with open(f'{data_path}/mt_allmuts_{cutoff}.phy', 'w') as f:\n",
    "        f.write(seqs)\n",
    "\n",
    "sel_cells = [i.name for i in tree.get_terminals()]\n",
    "max_mut_id = max([max([max(list(i)+[0]) for i in mt_muts[j]]+[0]) for j in sel_cells])\n",
    "new_mts_1 = dict()\n",
    "for cell in tree.get_terminals():\n",
    "    new_mts_1[cell.name] = [{cell.name:deepcopy(mt_muts[cell.name])}]"
   ]
  },
  {
   "cell_type": "code",
   "execution_count": 5,
   "id": "2b0c28cd-68f3-4b9c-8961-4c642763a685",
   "metadata": {},
   "outputs": [],
   "source": [
    "from io import StringIO"
   ]
  },
  {
   "cell_type": "code",
   "execution_count": 6,
   "id": "854dd0be-19d6-47fb-9371-e04274c273df",
   "metadata": {},
   "outputs": [],
   "source": [
    "def get_gt_tree(gt_tree30, mts, save_path = None):\n",
    "    tree100_gt = deepcopy(gt_tree30)\n",
    "    # mts = rs_cvt(mts)\n",
    "    mt_freq = sparse_freq(mts)\n",
    "    alive_cells = [i+'>' for i in set([i.split('>')[0] for i in mt_freq.index])]\n",
    "    keep_cells = []\n",
    "    for i in alive_cells:\n",
    "        for c in tree100_gt.get_path(tree100_gt.find_any(i)):\n",
    "            keep_cells.append(c.name)\n",
    "    keep_cells = list(set(keep_cells))\n",
    "    \n",
    "    tree_nwk = StringIO()\n",
    "    Phylo.write(gt_tree30, tree_nwk, 'newick')\n",
    "    tree_nwk = tree_nwk.getvalue()\n",
    "    tree100_gt = ete3.Tree(tree_nwk.replace('\\n', ';'), format=1)\n",
    "    tree100_gt.prune(keep_cells)\n",
    "    tree100_gt = Phylo.read(StringIO(tree100_gt.write()), format='newick')\n",
    "    for i in tree100_gt.get_terminals():\n",
    "        i.branch_length = 1\n",
    "    for i in tree100_gt.get_nonterminals():\n",
    "        i.branch_length = 1\n",
    "    \n",
    "    expansion_clades = dict()\n",
    "    rec_cells = dict()\n",
    "    for c in tqdm(mt_freq.index):\n",
    "        anc_name, lin_info = c.split('>')\n",
    "        anc_name = f'{anc_name}>'\n",
    "        if not anc_name in expansion_clades:\n",
    "            expansion_clades[anc_name] = Phylo.BaseTree.Clade(branch_length=1, name=anc_name)\n",
    "            rec_cells[anc_name] = []\n",
    "        for li in range(len(lin_info)):\n",
    "            if f'{anc_name}{lin_info[:li+1]}' in rec_cells[anc_name]:\n",
    "                continue\n",
    "            else:\n",
    "                anc_t = expansion_clades[anc_name].find_any(f'{anc_name}{lin_info[:li]}')\n",
    "                anc_t.clades.append(Phylo.BaseTree.Clade(branch_length=1, name=f'{anc_name}{lin_info[:li+1]}'))\n",
    "                rec_cells[anc_name].append(f'{anc_name}{lin_info[:li+1]}')\n",
    "\n",
    "    for i in expansion_clades:\n",
    "        tree100_gt.find_any(i).clades = expansion_clades[i]\n",
    "    # Phylo.write(tree100_gt, f'{data_path}/gt_tree100.nwk', format='newick')\n",
    "    if not save_path is None:\n",
    "        Phylo.write(tree100_gt, save_path, format='newick')\n",
    "    return tree100_gt\n",
    "\n",
    "\n"
   ]
  },
  {
   "cell_type": "code",
   "execution_count": 68,
   "id": "b25403f3-fcb6-4d21-9b83-3dc8e541ec78",
   "metadata": {},
   "outputs": [],
   "source": [
    "def get_gt_tree(gt_tree30, mts, save_path = None, collapse=True):\n",
    "    tree100_gt = deepcopy(gt_tree30)\n",
    "    # mts = rs_cvt(mts)\n",
    "    mt_freq = sparse_freq(mts)\n",
    "    alive_cells = [i+'>' for i in set([i.split('>')[0] for i in mt_freq.index])]\n",
    "    keep_cells = []\n",
    "    for i in alive_cells:\n",
    "        for c in tree100_gt.get_path(tree100_gt.find_any(i)):\n",
    "            keep_cells.append(c.name)\n",
    "    keep_cells = list(set(keep_cells))\n",
    "    \n",
    "    tree_nwk = StringIO()\n",
    "    Phylo.write(gt_tree30, tree_nwk, 'newick')\n",
    "    tree_nwk = tree_nwk.getvalue()\n",
    "    tree100_gt = ete3.Tree(tree_nwk.replace('\\n', ';'), format=1)\n",
    "    tree100_gt.prune(keep_cells)\n",
    "    tree100_gt = Phylo.read(StringIO(tree100_gt.write()), format='newick')\n",
    "    for i in tree100_gt.get_terminals():\n",
    "        i.branch_length = 1\n",
    "    for i in tree100_gt.get_nonterminals():\n",
    "        i.branch_length = 1\n",
    "    \n",
    "    expansion_clades = dict()\n",
    "    rec_cells = dict()\n",
    "    for c in tqdm(mt_freq.index):\n",
    "        anc_name, lin_info = c.split('>')\n",
    "        anc_name = f'{anc_name}>'\n",
    "        if not anc_name in expansion_clades:\n",
    "            expansion_clades[anc_name] = Phylo.BaseTree.Clade(branch_length=1, name=anc_name)\n",
    "            rec_cells[anc_name] = []\n",
    "        for li in range(len(lin_info)):\n",
    "            if f'{anc_name}{lin_info[:li+1]}' in rec_cells[anc_name]:\n",
    "                continue\n",
    "            else:\n",
    "                anc_t = expansion_clades[anc_name].find_any(f'{anc_name}{lin_info[:li]}')\n",
    "                anc_t.clades.append(Phylo.BaseTree.Clade(branch_length=1, name=f'{anc_name}{lin_info[:li+1]}'))\n",
    "                rec_cells[anc_name].append(f'{anc_name}{lin_info[:li+1]}')\n",
    "\n",
    "    for i in expansion_clades:\n",
    "        tree100_gt.find_any(i).clades = [expansion_clades[i]]\n",
    "    # Phylo.write(tree100_gt, f'{data_path}/gt_tree100.nwk', format='newick')\n",
    "    if collapse:\n",
    "        for i in Phylo.BaseTree._preorder_traverse(tree330.root, lambda elem: elem.clades):\n",
    "            if len(i.clades) == 1:\n",
    "                tree330.collapse(i)\n",
    "    if not save_path is None:\n",
    "        Phylo.write(tree100_gt, save_path, format='newick')\n",
    "    return tree100_gt"
   ]
  },
  {
   "cell_type": "code",
   "execution_count": 7,
   "id": "318d69ad-116d-4a44-8bcd-c63ac45663fb",
   "metadata": {},
   "outputs": [
    {
     "data": {
      "application/vnd.jupyter.widget-view+json": {
       "model_id": "b016eae8e4074aa28cbd1b385f2852a1",
       "version_major": 2,
       "version_minor": 0
      },
      "text/plain": [
       "  0%|          | 0/300 [00:00<?, ?it/s]"
      ]
     },
     "metadata": {},
     "output_type": "display_data"
    },
    {
     "data": {
      "application/vnd.jupyter.widget-view+json": {
       "model_id": "c566f7c30ed940cebdd451cefce1019c",
       "version_major": 2,
       "version_minor": 0
      },
      "text/plain": [
       "  0%|          | 0/911 [00:00<?, ?it/s]"
      ]
     },
     "metadata": {},
     "output_type": "display_data"
    },
    {
     "data": {
      "application/vnd.jupyter.widget-view+json": {
       "model_id": "71a9ef93cb02401a8f91f74711d5a6d3",
       "version_major": 2,
       "version_minor": 0
      },
      "text/plain": [
       "  0%|          | 0/911 [00:00<?, ?it/s]"
      ]
     },
     "metadata": {},
     "output_type": "display_data"
    },
    {
     "data": {
      "application/vnd.jupyter.widget-view+json": {
       "model_id": "5f9d23d783ac4e8c8d59aa89ceb1f4f0",
       "version_major": 2,
       "version_minor": 0
      },
      "text/plain": [
       "  0%|          | 0/900 [00:00<?, ?it/s]"
      ]
     },
     "metadata": {},
     "output_type": "display_data"
    },
    {
     "data": {
      "application/vnd.jupyter.widget-view+json": {
       "model_id": "e8e974799bea47e1b785e8338437f885",
       "version_major": 2,
       "version_minor": 0
      },
      "text/plain": [
       "  0%|          | 0/900 [00:00<?, ?it/s]"
      ]
     },
     "metadata": {},
     "output_type": "display_data"
    }
   ],
   "source": [
    "   \n",
    "with tqdm(total=300) as pbar:\n",
    "    for _ in range(100):\n",
    "        # gen += 1\n",
    "        cell_number = np.sum([len(new_mts_1[i]) for i in new_mts_1.keys()])\n",
    "        if cell_number > 1200:\n",
    "            p = 0.433\n",
    "        elif cell_number < 800:\n",
    "            p = 0.6\n",
    "        else:\n",
    "            p = 0.5\n",
    "        for cell in tree.get_terminals():\n",
    "            tmp = ncell_division_with_mt1(new_mts_1[cell.name], max_mut_id, mt_mutrate, p=p, s=selection)\n",
    "            max_mut_id = tmp[-1]\n",
    "            new_mts_1[cell.name] = tmp[0]  \n",
    "        pbar.update(1)\n",
    "        \n",
    "    new_mts_11 = rs_cvt(new_mts_1)\n",
    "    get_gt_tree(tree_gt, new_mts_11, save_path = f\"{data_path}/gt_tree130.nwk\")\n",
    "    pickle.dump(new_mts_11, open(f\"{data_path}/mt_allmuts_130.pkl\", 'wb'))\n",
    "     \n",
    "    for _ in range(200):\n",
    "        # gen += 1\n",
    "        cell_number = np.sum([len(new_mts_1[i]) for i in new_mts_1.keys()])\n",
    "        if cell_number > 1200:\n",
    "            p = 0.433\n",
    "        elif cell_number < 800:\n",
    "            p = 0.6\n",
    "        else:\n",
    "            p = 0.5\n",
    "        for cell in tree.get_terminals():\n",
    "            tmp = ncell_division_with_mt1(new_mts_1[cell.name], max_mut_id, mt_mutrate, p=p, s=selection)\n",
    "            max_mut_id = tmp[-1]\n",
    "            new_mts_1[cell.name] = tmp[0]  \n",
    "        pbar.update(1)\n",
    "    new_mts_11 = rs_cvt(new_mts_1)\n",
    "    get_gt_tree(tree_gt, new_mts_11, save_path = f\"{data_path}/gt_tree330.nwk\")\n",
    "    pickle.dump(new_mts_11, open(f\"{data_path}/mt_allmuts_330.pkl\", 'wb'))  "
   ]
  },
  {
   "cell_type": "code",
   "execution_count": 69,
   "id": "166376f0-0c08-495c-b6a3-576300c673eb",
   "metadata": {},
   "outputs": [
    {
     "data": {
      "application/vnd.jupyter.widget-view+json": {
       "model_id": "6b84f9fbb7984cb7888f8f92b5d179c0",
       "version_major": 2,
       "version_minor": 0
      },
      "text/plain": [
       "  0%|          | 0/900 [00:00<?, ?it/s]"
      ]
     },
     "metadata": {},
     "output_type": "display_data"
    },
    {
     "data": {
      "application/vnd.jupyter.widget-view+json": {
       "model_id": "a799f7790c964b14b64b7b1ba9eb64c2",
       "version_major": 2,
       "version_minor": 0
      },
      "text/plain": [
       "  0%|          | 0/900 [00:00<?, ?it/s]"
      ]
     },
     "metadata": {},
     "output_type": "display_data"
    }
   ],
   "source": [
    "tree330 = get_gt_tree(tree_gt, new_mts_11)"
   ]
  },
  {
   "cell_type": "code",
   "execution_count": 71,
   "id": "0305ddb2-2f04-41c0-aa3c-1dc02d02b890",
   "metadata": {},
   "outputs": [
    {
     "data": {
      "application/vnd.jupyter.widget-view+json": {
       "model_id": "b925a0b96f9f4e4abe5c562e24347c2a",
       "version_major": 2,
       "version_minor": 0
      },
      "text/plain": [
       "  0%|          | 0/900 [00:00<?, ?it/s]"
      ]
     },
     "metadata": {},
     "output_type": "display_data"
    }
   ],
   "source": [
    "for i in tree330.get_terminals():\n",
    "    for j in tree330.get_path(i)[::-1][1:]:\n",
    "        if len(j.clades) == 1:\n",
    "            tree330.collapse(j)"
   ]
  },
  {
   "cell_type": "code",
   "execution_count": null,
   "id": "c1b720e1-7533-41f5-a9c0-ee05df68745f",
   "metadata": {},
   "outputs": [],
   "source": []
  },
  {
   "cell_type": "code",
   "execution_count": 72,
   "id": "c4cb6284-54a2-4c0a-aab7-6f84e48667c1",
   "metadata": {},
   "outputs": [
    {
     "data": {
      "text/plain": [
       "899"
      ]
     },
     "execution_count": 72,
     "metadata": {},
     "output_type": "execute_result"
    }
   ],
   "source": [
    "len(tree330.get_nonterminals())"
   ]
  },
  {
   "cell_type": "code",
   "execution_count": null,
   "id": "a4b0680a-1b74-436d-a15c-143ad73aa08d",
   "metadata": {},
   "outputs": [],
   "source": []
  },
  {
   "cell_type": "code",
   "execution_count": null,
   "id": "a4a26634-1585-4507-978d-5bd3aba38e1d",
   "metadata": {},
   "outputs": [],
   "source": []
  },
  {
   "cell_type": "code",
   "execution_count": 18,
   "id": "7ad0ad45-8b3c-48ff-a01d-51149de82d01",
   "metadata": {},
   "outputs": [
    {
     "data": {
      "text/plain": [
       "[Clade(branch_length=1, confidence=1), Clade(branch_length=1, confidence=1)]"
      ]
     },
     "execution_count": 18,
     "metadata": {},
     "output_type": "execute_result"
    }
   ],
   "source": [
    "tree330.root.clades"
   ]
  },
  {
   "cell_type": "code",
   "execution_count": 56,
   "id": "53d2555f-5a2c-47ee-ba23-4ed420ec0d45",
   "metadata": {},
   "outputs": [],
   "source": [
    "for i in Phylo.BaseTree._preorder_traverse(tree330.root, lambda elem: elem.clades):\n",
    "    if len(i.clades) == 1:\n",
    "        tree330.collapse(i)\n",
    "for i in Phylo.BaseTree._preorder_traverse(tree330.root, lambda elem: elem.clades):\n",
    "    if len(i.clades) == 1:\n",
    "        tree330.collapse(i)"
   ]
  },
  {
   "cell_type": "code",
   "execution_count": 57,
   "id": "5fbad32f-2f51-4c0e-bb0d-4c6f40ec8b1c",
   "metadata": {},
   "outputs": [
    {
     "data": {
      "text/plain": [
       "1049"
      ]
     },
     "execution_count": 57,
     "metadata": {},
     "output_type": "execute_result"
    }
   ],
   "source": [
    "len(tree330.get_nonterminals())"
   ]
  },
  {
   "cell_type": "code",
   "execution_count": null,
   "id": "b9091404-89a6-421c-98d0-3916346df6a5",
   "metadata": {},
   "outputs": [],
   "source": []
  },
  {
   "cell_type": "code",
   "execution_count": 47,
   "id": "a2048264-80a1-4d2f-9215-b1f55a34b733",
   "metadata": {},
   "outputs": [
    {
     "data": {
      "text/plain": [
       "1"
      ]
     },
     "execution_count": 47,
     "metadata": {},
     "output_type": "execute_result"
    }
   ],
   "source": [
    "Phylo.write(tree330, '/data3/wangkun/mtsim_res/20240903/test/tree300_long.nwk', format='newick')"
   ]
  },
  {
   "cell_type": "code",
   "execution_count": null,
   "id": "e7b6ed05-825f-4b32-9e20-75fd29152961",
   "metadata": {},
   "outputs": [],
   "source": []
  },
  {
   "cell_type": "code",
   "execution_count": 73,
   "id": "70aeea88-39e8-4cea-b7fd-d6d3b1000c73",
   "metadata": {},
   "outputs": [
    {
     "data": {
      "text/plain": [
       "1"
      ]
     },
     "execution_count": 73,
     "metadata": {},
     "output_type": "execute_result"
    }
   ],
   "source": [
    "Phylo.write(tree330, '/data3/wangkun/mtsim_res/20240903/test/tree300_short.nwk', format='newick')"
   ]
  },
  {
   "cell_type": "code",
   "execution_count": 74,
   "id": "d4b5867b-08d5-4526-a429-2acfd3532288",
   "metadata": {},
   "outputs": [],
   "source": [
    "def sparse_freq(cells, df=True, count=False):\n",
    "    cell_names = list(cells.keys())\n",
    "    max_mut_id = max([max([max(list(i)+[0]) for i in cells[j]]+[0]) for j in cell_names])\n",
    "    \n",
    "    _row, _col, _data = [], [], []\n",
    "    _data_cnt = []\n",
    "    with tqdm(total=len(cell_names)) as pbar:\n",
    "        for ind, cell in enumerate(cells):\n",
    "            cell_muts = sum([list(i) for i in cells[cell]], [])\n",
    "            nmts = len(cells[cell])\n",
    "            cnt = Counter(cell_muts)\n",
    "            for mut in cnt:\n",
    "                _col.append(mut)\n",
    "                _row.append(ind)\n",
    "                _data.append(cnt[mut]/nmts)\n",
    "                _data_cnt.append(cnt[mut])\n",
    "            pbar.update(1)\n",
    "    freq = coo_matrix((_data, (_row, _col))).tocsr()\n",
    "    mut_id = np.arange(freq.shape[1])\n",
    "    sel = np.array(freq.sum(axis=0)!=0).flatten()\n",
    "    mut_id = mut_id[sel]\n",
    "    freq = freq[:, sel]\n",
    "    \n",
    "    if df:\n",
    "        freq = pd.DataFrame(freq.A, index=cell_names, columns=mut_id)    \n",
    "    if count:\n",
    "        count = coo_matrix((_data_cnt, (_row, _col))).tocsr()\n",
    "        mut_id = np.arange(count.shape[1])\n",
    "        sel = np.array(count.sum(axis=0)!=0).flatten()\n",
    "        mut_id = mut_id[sel]\n",
    "        count = count[:, sel]\n",
    "        if df:\n",
    "            count = pd.DataFrame(count.A, index=cell_names, columns=mut_id)\n",
    "        return freq, count\n",
    "    else:\n",
    "        return freq"
   ]
  },
  {
   "cell_type": "code",
   "execution_count": 76,
   "id": "d755f5e9-b67f-4212-a241-9d18a301e9be",
   "metadata": {},
   "outputs": [
    {
     "data": {
      "application/vnd.jupyter.widget-view+json": {
       "model_id": "bbcbdbdf6a934ac2a4c3f0552e4f4721",
       "version_major": 2,
       "version_minor": 0
      },
      "text/plain": [
       "  0%|          | 0/9014 [00:00<?, ?it/s]"
      ]
     },
     "metadata": {},
     "output_type": "display_data"
    }
   ],
   "source": [
    "freq, count = sparse_freq(mt_muts, count=True)"
   ]
  },
  {
   "cell_type": "code",
   "execution_count": 144,
   "id": "0fc489ba-3f6a-4842-97ab-07382aacdd8f",
   "metadata": {},
   "outputs": [],
   "source": [
    "from scipy.stats import nbinom, binom\n",
    "def sequence_sim(f, coverage, n=2.5):\n",
    "    depth = nbinom(p=n/(n+coverage), n=n).rvs(size=f.shape)\n",
    "    read_cnt = binom(n=depth, p=f).rvs()\n",
    "    freq_samp = read_cnt/depth\n",
    "    freq_samp[np.isnan(freq_samp)] = 0\n",
    "    freq_samp = pd.DataFrame(freq_samp, index=f.index, columns=f.columns)\n",
    "    return freq_samp"
   ]
  },
  {
   "cell_type": "code",
   "execution_count": 145,
   "id": "f2f011fc-3269-489a-a750-56cf8a0ff8dd",
   "metadata": {},
   "outputs": [
    {
     "name": "stderr",
     "output_type": "stream",
     "text": [
      "/tmp/ipykernel_47591/1931612139.py:5: RuntimeWarning: invalid value encountered in divide\n",
      "  freq_samp = read_cnt/depth\n"
     ]
    }
   ],
   "source": [
    "freq_samp = sequence_sim(freq, 50, n=2.5)"
   ]
  },
  {
   "cell_type": "code",
   "execution_count": null,
   "id": "bd5b07ed-d12f-4945-b15b-cee617b9e271",
   "metadata": {},
   "outputs": [],
   "source": []
  },
  {
   "cell_type": "code",
   "execution_count": null,
   "id": "b28aa269-df6a-4225-8cfc-e6e58d4a389e",
   "metadata": {},
   "outputs": [],
   "source": []
  }
 ],
 "metadata": {
  "kernelspec": {
   "display_name": "Python 3 (ipykernel)",
   "language": "python",
   "name": "python3"
  },
  "language_info": {
   "codemirror_mode": {
    "name": "ipython",
    "version": 3
   },
   "file_extension": ".py",
   "mimetype": "text/x-python",
   "name": "python",
   "nbconvert_exporter": "python",
   "pygments_lexer": "ipython3",
   "version": "3.9.12"
  }
 },
 "nbformat": 4,
 "nbformat_minor": 5
}
