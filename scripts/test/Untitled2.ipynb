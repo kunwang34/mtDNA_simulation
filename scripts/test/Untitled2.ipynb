{
 "cells": [
  {
   "cell_type": "code",
   "execution_count": 1,
   "id": "170d83e3-a727-4967-b951-dfc15f2a0f62",
   "metadata": {},
   "outputs": [
    {
     "name": "stderr",
     "output_type": "stream",
     "text": [
      "/home/wangkun/mtDNA_simulation/scripts/../mtDNAsim/sim_utils.py:8: TqdmExperimentalWarning: Using `tqdm.autonotebook.tqdm` in notebook mode. Use `tqdm.tqdm` instead to force console mode (e.g. in jupyter console)\n",
      "  from tqdm.autonotebook import tqdm\n"
     ]
    }
   ],
   "source": [
    "import sys\n",
    "sys.path.append('..')\n",
    "from mtDNAsim import *\n",
    "import pandas as pd\n",
    "import numpy as np\n",
    "from copy import deepcopy\n",
    "from collections import Counter\n",
    "import argparse\n",
    "import phylovelo as pv\n",
    "import pickle"
   ]
  },
  {
   "cell_type": "code",
   "execution_count": 12,
   "id": "576f55d6-a135-4d77-aba5-19cccbaf3f9f",
   "metadata": {},
   "outputs": [],
   "source": [
    "# parser = argparse.ArgumentParser(description='save file name')\n",
    "# parser.add_argument('-p', type=str)\n",
    "# parser.add_argument('-f', type=str)\n",
    "# parser.add_argument('-m', type=str)\n",
    "# parser.add_argument('-bn', type=str)\n",
    "filename = '1234'\n",
    "data_path = '/home/wangkun/mtDNA_simulation/scripts/test/'\n",
    "model = 'bifurcated'\n",
    "bn = 'mid'"
   ]
  },
  {
   "cell_type": "code",
   "execution_count": 15,
   "id": "d2621543-a22b-456f-bb66-9f34c14ddf67",
   "metadata": {},
   "outputs": [],
   "source": [
    "os.mkdir(f\"{data_path}/{model}_{bn.replace('mid', '')}/{filename}/\")\n",
    "\n",
    "# if data_path is None:\n",
    "#     data_path = \"../results\""
   ]
  },
  {
   "cell_type": "code",
   "execution_count": null,
   "id": "36265e4e-c41b-4ff1-b1d4-f97333e9825f",
   "metadata": {},
   "outputs": [],
   "source": []
  },
  {
   "cell_type": "code",
   "execution_count": 16,
   "id": "1391d294-37a6-4378-86f7-c4a4c5cbab95",
   "metadata": {},
   "outputs": [
    {
     "data": {
      "application/vnd.jupyter.widget-view+json": {
       "model_id": "b8e840a5fe0d4d45b03a0b188cb57ec4",
       "version_major": 2,
       "version_minor": 0
      },
      "text/plain": [
       "  0%|          | 0/20000 [00:00<?, ?it/s]"
      ]
     },
     "metadata": {},
     "output_type": "display_data"
    }
   ],
   "source": [
    "num_elements = 5\n",
    "\n",
    "while True:\n",
    "    num_elements = 5\n",
    "    system = Gillespie(\n",
    "        num_elements,\n",
    "        inits=[1, 0, 0, 0, 0],\n",
    "        max_cell_num=20000\n",
    "    )\n",
    "\n",
    "    p0 = lambda t: (1 - 1 / (1 + np.exp(-0.5 * (t - 19))))\n",
    "    p1 = lambda t: (1 - 1 / (1 + np.exp(-0.6 * (t - 18))))\n",
    "    p2 = lambda t: 1\n",
    "    d00 = lambda t: 0.4* (1 / (1 + np.exp(-0.5 * (t - 16))))\n",
    "    d01 = lambda t: 0.4* (1 / (1 + np.exp(-0.5 * (t - 16))))\n",
    "    d10 = lambda t: 0.4* (1 / (1 + np.exp(-0.6 * (t - 16))))\n",
    "    d11 = lambda t: 0.4* (1 / (1 + np.exp(-0.6 * (t - 16))))\n",
    "\n",
    "\n",
    "    system.add_reaction(p0, [1, 0, 0, 0, 0], [2, 0, 0, 0, 0], index=0)\n",
    "    system.add_reaction(p1, [0, 1, 0, 0, 0], [0, 2, 0, 0, 0], index=1)\n",
    "    system.add_reaction(p1, [0, 0, 1, 0, 0], [0, 0, 2, 0, 0], index=2)\n",
    "    system.add_reaction(p2, [0, 0, 0, 1, 0], [0, 0, 0, 2, 0], index=3)\n",
    "    system.add_reaction(p2, [0, 0, 0, 0, 1], [0, 0, 0, 0, 2], index=4)\n",
    "    system.add_reaction(d00, [1, 0, 0, 0, 0], [0, 1, 0, 0, 0], index=5)\n",
    "    system.add_reaction(d01, [1, 0, 0, 0, 0], [0, 0, 1, 0, 0], index=6)\n",
    "    system.add_reaction(d10, [0, 1, 0, 0, 0], [0, 0, 0, 1, 0], index=7)\n",
    "    system.add_reaction(d11, [0, 1, 0, 0, 0], [0, 0, 0, 0, 1], index=8)\n",
    "\n",
    "    system.evolute(20000000)\n",
    "    \n",
    "    tree_file_name = f\"tree_origin_bif_{filename}.csv\"\n",
    "    cell_num_file_name = f\"cell_num_bif_{filename}.csv\"\n",
    "\n",
    "    curr_cells = []\n",
    "    t = np.array(system.generation_time)\n",
    "    cell_num_traj = np.array(system.n)\n",
    "\n",
    "    for i in system.curr_cells.values():\n",
    "        curr_cells += i\n",
    "    # while tree_file_name in os.listdir(data_path):\n",
    "    #     tree_file_name = tree_file_name[:-1] + str(int(tree_file_name[-1]) + 1)\n",
    "\n",
    "\n",
    "    #     cell_num_file_name = cell_num_file_name[:-1] + str(int(cell_num_file_name[-1]) + 1)\n",
    "\n",
    "    np.savetxt(\n",
    "        f\"{data_path}/{model}_{bn.replace('mid', '')}/{filename}/{cell_num_file_name}\",\n",
    "        np.hstack((t.reshape(-1, 1), cell_num_traj)),\n",
    "        fmt=\"%.5f\",\n",
    "    )\n",
    "\n",
    "    sim_utils.wirte_lineage_info(\n",
    "        f\"{data_path}/{model}_{bn.replace('mid', '')}/{filename}/{tree_file_name}\", system.anc_cells, curr_cells, system.t[-1]\n",
    "    )\n",
    "    try:\n",
    "        reconstruct(f\"{data_path}/{model}_{bn.replace('mid', '')}/{filename}/tree_origin_bif_{filename}.csv\", output=f\"{data_path}/{model}_{bn.replace('mid', '')}/{filename}/bif_tree_gt_{filename}.nwk\", num=5000, is_balance=True)\n",
    "        break\n",
    "    except:\n",
    "        os.system(f\"rm {data_path}/{model}_{bn.replace('mid', '')}/{filename}/{tree_file_name}\")\n",
    "        os.system(f\"rm {data_path}/{model}_{bn.replace('mid', '')}/{filename}/{cell_num_file_name}\")"
   ]
  },
  {
   "cell_type": "code",
   "execution_count": null,
   "id": "554de013-d2e9-4a75-ab23-c3efd8c0fb6b",
   "metadata": {},
   "outputs": [],
   "source": []
  },
  {
   "cell_type": "code",
   "execution_count": 18,
   "id": "6d7f3788-6172-4138-acd2-3d255b50a4a9",
   "metadata": {},
   "outputs": [
    {
     "name": "stderr",
     "output_type": "stream",
     "text": [
      "/home/wangkun/miniconda3/lib/python3.9/site-packages/sklearn/manifold/_t_sne.py:780: FutureWarning: The default initialization in TSNE will change from 'random' to 'pca' in 1.2.\n",
      "  warnings.warn(\n",
      "/home/wangkun/miniconda3/lib/python3.9/site-packages/sklearn/manifold/_t_sne.py:790: FutureWarning: The default learning rate in TSNE will change from 200.0 to 'auto' in 1.2.\n",
      "  warnings.warn(\n"
     ]
    }
   ],
   "source": [
    "tree_file = f\"{data_path}/{model}_{bn.replace('mid', '')}/{filename}/bif_tree_gt_{filename}.nwk\"\n",
    "phylo_tree, branch_colors = loadtree(tree_file)\n",
    "sampled_cells = [i.name for i in phylo_tree.get_terminals()]\n",
    "cell_names, cell_states, cell_generation = get_annotation(f\"{data_path}/{model}_{bn.replace('mid', '')}/{filename}/tree_origin_bif_{filename}.csv\")\n",
    "cell_states = pd.DataFrame(data=cell_states, index=cell_names).loc[sampled_cells]\n",
    "cell_generation = pd.DataFrame(data=cell_generation, index=cell_names).loc[sampled_cells].to_numpy()\n",
    "\n",
    "sd = scData(\n",
    "    phylo_tree=phylo_tree,\n",
    "    cell_states=cell_states.to_numpy().T[0].astype('int'),\n",
    "    cell_generation=cell_generation.T[0].astype('int'),\n",
    "    cell_names=sampled_cells\n",
    ")\n",
    "\n",
    "ge, base_expr = sim_base_expr(sd.phylo_tree,\n",
    "                                 cell_states,\n",
    "                                 Ngene=4000,\n",
    "                                 r_variant_gene=0.4,\n",
    "                                 diff_map={0:[0],1:[0],2:[0],3:[1],4:[1]},\n",
    "                                 pseudo_state_time={0:[0,5], 1:[7,12], 2:[7,12], 3:[13,18], 4:[13,18]},\n",
    "                                 forward_map={},\n",
    "                                 mu0_loc=0,\n",
    "                                 mu0_scale=1,\n",
    "                                 drift_loc=0,\n",
    "                                 drift_scale=0.05,\n",
    "                                )\n",
    "\n",
    "sd.count = get_count_from_base_expr(add_lineage_noise(sd.phylo_tree, base_expr), alpha=0.5)\n",
    "sd.count.to_csv(f\"{data_path}/{model}_{bn.replace('mid', '')}/{filename}/count_bif_{filename}.csv\")\n",
    "sd.dimensionality_reduction(method='tsne', scale=100, perplexity=150, target='count')\n",
    "sd.Xdr.to_csv(f\"{data_path}/{model}_{bn.replace('mid', '')}/{filename}/umap_bif_{filename}.csv\")"
   ]
  },
  {
   "cell_type": "code",
   "execution_count": 22,
   "id": "72d80d18-c6e3-4fb0-8906-c758b24a2cb0",
   "metadata": {},
   "outputs": [],
   "source": [
    "cell_states = cell_states.to_numpy().flatten()"
   ]
  },
  {
   "cell_type": "code",
   "execution_count": 28,
   "id": "ec8ba9e5-2d08-4783-b514-1b536a5c1d21",
   "metadata": {},
   "outputs": [
    {
     "name": "stderr",
     "output_type": "stream",
     "text": [
      "/home/wangkun/miniconda3/lib/python3.9/site-packages/sklearn/manifold/_t_sne.py:780: FutureWarning: The default initialization in TSNE will change from 'random' to 'pca' in 1.2.\n",
      "  warnings.warn(\n",
      "/home/wangkun/miniconda3/lib/python3.9/site-packages/sklearn/manifold/_t_sne.py:790: FutureWarning: The default learning rate in TSNE will change from 200.0 to 'auto' in 1.2.\n",
      "  warnings.warn(\n"
     ]
    }
   ],
   "source": [
    "sd.dimensionality_reduction(method='tsne', scale=50, perplexity=100, target='count')"
   ]
  },
  {
   "cell_type": "code",
   "execution_count": 29,
   "id": "a936a778-473d-4e43-984a-c3d29d52d992",
   "metadata": {},
   "outputs": [
    {
     "data": {
      "image/png": "[encoded data removed]",
      "text/plain": [
       "<Figure size 320x300 with 1 Axes>"
      ]
     },
     "metadata": {},
     "output_type": "display_data"
    }
   ],
   "source": [
    "fig, ax = plt.subplots(figsize=(3.2,3))\n",
    "cmps = ['#8dd3c7','#80b1d3','#bebada','#fdb462','#fb8072']\n",
    "for i in range(5):\n",
    "    ax.scatter(sd.Xdr.iloc[cell_states==i, 0], sd.Xdr.iloc[cell_states==i, 1], c=cmps[i],s=1)\n",
    "ax.set_xlabel('tSNE 1', fontsize=15)\n",
    "ax.set_ylabel('tSNE 2', fontsize=15)\n",
    "ax.spines['right'].set_visible(False)\n",
    "ax.spines['top'].set_visible(False)"
   ]
  },
  {
   "cell_type": "code",
   "execution_count": null,
   "id": "815e9c10-d411-4fdd-a016-702d015d641d",
   "metadata": {},
   "outputs": [],
   "source": []
  },
  {
   "cell_type": "code",
   "execution_count": null,
   "id": "6b12da6d-49ae-4423-b4e6-e2a2baa0246d",
   "metadata": {},
   "outputs": [],
   "source": []
  },
  {
   "cell_type": "code",
   "execution_count": 66,
   "id": "f838ef5a-f470-43bf-bcec-0e68d7dfcd1e",
   "metadata": {},
   "outputs": [
    {
     "data": {
      "application/vnd.jupyter.widget-view+json": {
       "model_id": "22e43767b170420ea9df3734c944e126",
       "version_major": 2,
       "version_minor": 0
      },
      "text/plain": [
       "  0%|          | 0/499 [00:00<?, ?it/s]"
      ]
     },
     "metadata": {},
     "output_type": "display_data"
    },
    {
     "data": {
      "application/vnd.jupyter.widget-view+json": {
       "model_id": "b08d7714997b43d8ba54698f233d2b14",
       "version_major": 2,
       "version_minor": 0
      },
      "text/plain": [
       "  0%|          | 0/21191 [00:00<?, ?it/s]"
      ]
     },
     "metadata": {},
     "output_type": "display_data"
    },
    {
     "data": {
      "application/vnd.jupyter.widget-view+json": {
       "model_id": "b04605d53d72414f97ca0160d98e914c",
       "version_major": 2,
       "version_minor": 0
      },
      "text/plain": [
       "  0%|          | 0/5000 [00:00<?, ?it/s]"
      ]
     },
     "metadata": {},
     "output_type": "display_data"
    }
   ],
   "source": [
    "\n",
    "\n",
    "\n",
    "\n",
    "# seqs = DNAmutation(phylo_tree, mut_rate=0.5)\n",
    "# seqs = seqs.astype(int)\n",
    "\n",
    "mt_cn = {\n",
    "    'early':lambda x: 1.3 if x <= 5 else 2.2,\n",
    "    'mid':lambda x: 1.6 if x <= 10 else 2.25,\n",
    "    'late':lambda x: 1.8 if x <= 20 else 2.4,\n",
    "    'const':lambda x: 2 \n",
    "}\n",
    "\n",
    "#for bn in ['const', 'mid']:\n",
    "for imr in [0.1]:\n",
    "    success = 0\n",
    "    while not success:\n",
    "        try:\n",
    "            mt_muts, mutid = mtmutation(phylo_tree, mut_rate=0.0008, init_mut_rate=imr, mt_copynumber=mt_cn[bn], nmts=500)\n",
    "            success = 1\n",
    "        except:\n",
    "            None\n",
    "\n",
    "    pre_existing_mut = set()\n",
    "    for i in mt_muts['<0_0>']:\n",
    "        pre_existing_mut = pre_existing_mut.union(i)\n",
    "    pickle.dump(mt_muts, open(f\"{data_path}/{model}_{bn.replace('mid', '')}/{filename}/mt_allmuts_{bn}_{imr}_{filename}.pkl\", 'wb'))\n",
    "    mf = mut_freq(mt_muts, mutid, sel_cells=[i.name for i in phylo_tree.get_terminals()])\n",
    "    mt_seqs = mf.astype(bool).astype(int)\n",
    "    mt_pre = mt_seqs[mt_seqs.columns[np.isin(mt_seqs.columns, list(pre_existing_mut))]]\n",
    "    mt_dn =  mt_seqs[mt_seqs.columns[~np.isin(mt_seqs.columns, list(pre_existing_mut))]]\n",
    "    mf.to_csv(f\"{data_path}/{model}_{bn.replace('mid', '')}/{filename}/mt_mut_freq_{bn}_{imr}_{filename}.csv\")\n",
    "    mf1 = deepcopy(mf)\n",
    "    mf1[mf1<0.01] = 0\n",
    "    mt1_seqs = mf1.astype(bool).astype(int)\n",
    "    mt1_pre = mt1_seqs[mt1_seqs.columns[np.isin(mt1_seqs.columns, list(pre_existing_mut))]]\n",
    "    mt1_dn =  mt1_seqs[mt1_seqs.columns[~np.isin(mt1_seqs.columns, list(pre_existing_mut))]]\n",
    "\n",
    "    mf5 = deepcopy(mf)\n",
    "    mf5[mf5<0.05] = 0\n",
    "    mt5_seqs = mf5.astype(bool).astype(int)\n",
    "    mt5_pre = mt5_seqs[mt5_seqs.columns[np.isin(mt5_seqs.columns, list(pre_existing_mut))]]\n",
    "    mt5_dn =  mt5_seqs[mt5_seqs.columns[~np.isin(mt5_seqs.columns, list(pre_existing_mut))]]\n",
    "\n",
    "#     with open(f\"{data_path}/{model}_{bn.replace('mid', '')}/{filename}/mt_mut_{bn}_{imr}_{filename}.phy\", 'w') as f:\n",
    "#         f.write('{} {}\\n'.format(*mt_seqs.shape))\n",
    "#         for cell in mt_seqs.index:\n",
    "#             f.write('{} {}\\n'.format(cell[1:-1], ''.join(mt_seqs.loc[cell].astype(str)).replace('0', 'A').replace('1', 'G')))\n",
    "\n",
    "#     with open(f\"{data_path}/{model}_{bn.replace('mid', '')}/{filename}/mt_mut_{bn}_{imr}_pre_{filename}.phy\", 'w') as f:\n",
    "#         f.write('{} {}\\n'.format(*mt_pre.shape))\n",
    "#         for cell in mt_pre.index:\n",
    "#             f.write('{} {}\\n'.format(cell[1:-1], ''.join(mt_pre.loc[cell].astype(str)).replace('0', 'A').replace('1', 'G')))\n",
    "\n",
    "#     with open(f\"{data_path}/{model}_{bn.replace('mid', '')}/{filename}/mt_mut_{bn}_{imr}_dn_{filename}.phy\", 'w') as f:\n",
    "#         f.write('{} {}\\n'.format(*mt_dn.shape))\n",
    "#         for cell in mt_dn.index:\n",
    "#             f.write('{} {}\\n'.format(cell[1:-1], ''.join(mt_dn.loc[cell].astype(str)).replace('0', 'A').replace('1', 'G')))  \n",
    "\n",
    "#     with open(f\"{data_path}/{model}_{bn.replace('mid', '')}/{filename}/mt1_mut_{bn}_{imr}_{filename}.phy\", 'w') as f:\n",
    "#         f.write('{} {}\\n'.format(*mt1_seqs.shape))\n",
    "#         for cell in mt1_seqs.index:\n",
    "#             f.write('{} {}\\n'.format(cell[1:-1], ''.join(mt1_seqs.loc[cell].astype(str)).replace('0', 'A').replace('1', 'G')))\n",
    "\n",
    "#     with open(f\"{data_path}/{model}_{bn.replace('mid', '')}/{filename}/mt1_mut_{bn}_{imr}_pre_{filename}.phy\", 'w') as f:\n",
    "#         f.write('{} {}\\n'.format(*mt1_pre.shape))\n",
    "#         for cell in mt1_pre.index:\n",
    "#             f.write('{} {}\\n'.format(cell[1:-1], ''.join(mt1_pre.loc[cell].astype(str)).replace('0', 'A').replace('1', 'G')))\n",
    "\n",
    "#     with open(f\"{data_path}/{model}_{bn.replace('mid', '')}/{filename}/mt1_mut_{bn}_{imr}_dn_{filename}.phy\", 'w') as f:\n",
    "#         f.write('{} {}\\n'.format(*mt1_dn.shape))\n",
    "#         for cell in mt1_dn.index:\n",
    "#             f.write('{} {}\\n'.format(cell[1:-1], ''.join(mt1_dn.loc[cell].astype(str)).replace('0', 'A').replace('1', 'G')))    \n",
    "\n",
    "#     with open(f\"{data_path}/{model}_{bn.replace('mid', '')}/{filename}/mt5_mut_{bn}_{imr}_{filename}.phy\", 'w') as f:\n",
    "#         f.write('{} {}\\n'.format(*mt5_seqs.shape))\n",
    "#         for cell in mt5_seqs.index:\n",
    "#             f.write('{} {}\\n'.format(cell[1:-1], ''.join(mt5_seqs.loc[cell].astype(str)).replace('0', 'A').replace('1', 'G')))\n",
    "\n",
    "#     with open(f\"{data_path}/{model}_{bn.replace('mid', '')}/{filename}/mt5_mut_{bn}_{imr}_pre_{filename}.phy\", 'w') as f:\n",
    "#         f.write('{} {}\\n'.format(*mt_pre.shape))\n",
    "#         for cell in mt5_pre.index:\n",
    "#             f.write('{} {}\\n'.format(cell[1:-1], ''.join(mt5_pre.loc[cell].astype(str)).replace('0', 'A').replace('1', 'G')))\n",
    "\n",
    "#     with open(f\"{data_path}/{model}_{bn.replace('mid', '')}/{filename}/mt5_mut_{bn}_{imr}_dn_{filename}.phy\", 'w') as f:\n",
    "#         f.write('{} {}\\n'.format(*mt_dn.shape))\n",
    "#         for cell in mt5_dn.index:\n",
    "#             f.write('{} {}\\n'.format(cell[1:-1], ''.join(mt5_dn.loc[cell].astype(str)).replace('0', 'A').replace('1', 'G')))     \n",
    "\n",
    "# with open(f\"{data_path}/{model}_{bn.replace('mid', '')}/{filename}/dna_mut_{filename}.phy\", 'w') as f:\n",
    "#     f.write('{} {}\\n'.format(*seqs.shape))\n",
    "#     for cell in seqs.index:\n",
    "#         f.write('{} {}\\n'.format(cell[1:-1], ''.join(seqs.loc[cell].astype(str)).replace('0', 'A').replace('1', 'G')))\n"
   ]
  },
  {
   "cell_type": "code",
   "execution_count": 67,
   "id": "171e7886-3ab5-426b-882a-7ba48169c68c",
   "metadata": {},
   "outputs": [],
   "source": [
    "from collections import defaultdict"
   ]
  },
  {
   "cell_type": "code",
   "execution_count": 68,
   "id": "3068db9a-414c-4e3a-8cac-b27e2c2bf0e0",
   "metadata": {},
   "outputs": [],
   "source": [
    "mt_cnt = defaultdict(list)\n",
    "for i in mt_muts:\n",
    "    mt_cnt[i.split('_')[0][1:]].append(len(mt_muts[i]))"
   ]
  },
  {
   "cell_type": "code",
   "execution_count": 69,
   "id": "729bfd77-bd85-4f61-bea6-b1dcf39eaff6",
   "metadata": {},
   "outputs": [
    {
     "data": {
      "text/plain": [
       "dict_keys(['0', '1', '2', '3', '4', '5', '6', '7', '8', '9', '10', '11', '12', '13', '14', '15', '16', '17', '18', '19', '20', '21', '22', '23', '24', '25', '26', '27', '28', '29', '30', '31', '32', '33', '34'])"
      ]
     },
     "execution_count": 69,
     "metadata": {},
     "output_type": "execute_result"
    }
   ],
   "source": [
    "mt_cnt.keys()"
   ]
  },
  {
   "cell_type": "code",
   "execution_count": 70,
   "id": "7057311a-4b9d-4a17-b6ce-aab2709f6512",
   "metadata": {},
   "outputs": [
    {
     "data": {
      "image/png": "[encoded data removed]",
      "text/plain": [
       "<Figure size 640x480 with 1 Axes>"
      ]
     },
     "metadata": {},
     "output_type": "display_data"
    }
   ],
   "source": [
    "for i in range(34):\n",
    "    plt.scatter([i]*len(mt_cnt[str(i)]), mt_cnt[str(i)])"
   ]
  },
  {
   "cell_type": "code",
   "execution_count": null,
   "id": "137b3fbd-9175-4b07-8199-839aefe0c131",
   "metadata": {},
   "outputs": [],
   "source": []
  },
  {
   "cell_type": "code",
   "execution_count": null,
   "id": "8de9da35-8326-4f67-8838-d7d26d0aacd1",
   "metadata": {},
   "outputs": [],
   "source": []
  }
 ],
 "metadata": {
  "kernelspec": {
   "display_name": "Python 3 (ipykernel)",
   "language": "python",
   "name": "python3"
  },
  "language_info": {
   "codemirror_mode": {
    "name": "ipython",
    "version": 3
   },
   "file_extension": ".py",
   "mimetype": "text/x-python",
   "name": "python",
   "nbconvert_exporter": "python",
   "pygments_lexer": "ipython3",
   "version": "3.9.12"
  }
 },
 "nbformat": 4,
 "nbformat_minor": 5
}
