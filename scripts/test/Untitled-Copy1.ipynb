{
 "cells": [
  {
   "cell_type": "code",
   "execution_count": 1,
   "id": "1a819f4e-e042-4318-b94e-8b7f662748a7",
   "metadata": {},
   "outputs": [],
   "source": [
    "from copy import deepcopy\n",
    "import numpy as np\n",
    "import pandas as pd\n",
    "import pickle\n",
    "from scipy.sparse import coo_matrix\n",
    "from Bio import Phylo\n",
    "import matplotlib.pyplot as plt\n",
    "from collections import Counter\n",
    "from tqdm.notebook import tqdm\n",
    "import os\n",
    "os.chdir('..')"
   ]
  },
  {
   "cell_type": "code",
   "execution_count": 33,
   "id": "f7222ac7-6e5f-4625-aa89-0804a2e45a4b",
   "metadata": {},
   "outputs": [],
   "source": [
    "import seaborn as sns"
   ]
  },
  {
   "cell_type": "code",
   "execution_count": 2,
   "id": "2a6619e2-637c-4626-8858-e25384d1ca93",
   "metadata": {},
   "outputs": [
    {
     "name": "stderr",
     "output_type": "stream",
     "text": [
      "/home/wangkun/mtDNA_simulation/mtDNAsim/sim_utils.py:5: TqdmExperimentalWarning: Using `tqdm.autonotebook.tqdm` in notebook mode. Use `tqdm.tqdm` instead to force console mode (e.g. in jupyter console)\n",
      "  from tqdm.autonotebook import tqdm\n"
     ]
    }
   ],
   "source": [
    "from mtDNAsim.sim_utils import *"
   ]
  },
  {
   "cell_type": "code",
   "execution_count": 3,
   "id": "b217c480-fb0c-4691-bea2-2b0adcb4f893",
   "metadata": {},
   "outputs": [],
   "source": [
    "plt.rcParams['font.size'] = 12"
   ]
  },
  {
   "cell_type": "code",
   "execution_count": 4,
   "id": "8383f58b-9fd0-4ccb-b8f9-07a30340ef79",
   "metadata": {},
   "outputs": [],
   "source": [
    "from scipy.sparse import coo_matrix\n",
    "from tqdm.notebook import tqdm\n",
    "from collections import Counter\n",
    "def sparse_freq(cells):\n",
    "    cell_names = list(cells.keys())\n",
    "    max_mut_id = max([max([max(list(i)+[0]) for i in cells[j]]+[0]) for j in cell_names])\n",
    "    \n",
    "    _row, _col, _data = [], [], []\n",
    "    with tqdm(total=len(cell_names)) as pbar:\n",
    "        for ind, cell in enumerate(cells):\n",
    "            cell_muts = sum([list(i) for i in cells[cell]], [])\n",
    "            nmts = len(cells[cell])\n",
    "            cnt = Counter(cell_muts)\n",
    "            for mut in cnt:\n",
    "                _col.append(mut)\n",
    "                _row.append(ind)\n",
    "                _data.append(cnt[mut]/nmts)\n",
    "            pbar.update(1)\n",
    "    return coo_matrix((_data, (_row, _col))).tocsr()"
   ]
  },
  {
   "cell_type": "code",
   "execution_count": 65,
   "id": "6c723c8d-6d62-4017-8536-2bbef94a75ba",
   "metadata": {},
   "outputs": [],
   "source": [
    "mt = pickle.load(open('/data3/wangkun/mtsim_res/res_1113/linear_/914990/mt_allmuts_mid_0.1_914990.pkl', 'rb'))"
   ]
  },
  {
   "cell_type": "code",
   "execution_count": 66,
   "id": "9dd0aa9a-821e-441a-b2de-91eb9d27fc72",
   "metadata": {},
   "outputs": [],
   "source": [
    "pre_id = max(sum([list(i) for i in mt['<0_0>']], []))"
   ]
  },
  {
   "cell_type": "code",
   "execution_count": 88,
   "id": "47d9d269-a7b8-4eea-b5d9-7bf21db9302e",
   "metadata": {
    "tags": []
   },
   "outputs": [
    {
     "data": {
      "application/vnd.jupyter.widget-view+json": {
       "model_id": "1854e3097e7e4defaf767875cee9ddb5",
       "version_major": 2,
       "version_minor": 0
      },
      "text/plain": [
       "  0%|          | 0/5000 [00:00<?, ?it/s]"
      ]
     },
     "metadata": {},
     "output_type": "display_data"
    },
    {
     "data": {
      "application/vnd.jupyter.widget-view+json": {
       "model_id": "9e3973cd604a457792230a4c858e4a44",
       "version_major": 2,
       "version_minor": 0
      },
      "text/plain": [
       "  0%|          | 0/5000 [00:00<?, ?it/s]"
      ]
     },
     "metadata": {},
     "output_type": "display_data"
    },
    {
     "data": {
      "application/vnd.jupyter.widget-view+json": {
       "model_id": "e0848d5c199b4c3fa2bd2a14087247fb",
       "version_major": 2,
       "version_minor": 0
      },
      "text/plain": [
       "  0%|          | 0/5000 [00:00<?, ?it/s]"
      ]
     },
     "metadata": {},
     "output_type": "display_data"
    },
    {
     "data": {
      "application/vnd.jupyter.widget-view+json": {
       "model_id": "d1b8c5f9ac06413fb4ffc1a1d5b57454",
       "version_major": 2,
       "version_minor": 0
      },
      "text/plain": [
       "  0%|          | 0/5000 [00:00<?, ?it/s]"
      ]
     },
     "metadata": {},
     "output_type": "display_data"
    },
    {
     "data": {
      "application/vnd.jupyter.widget-view+json": {
       "model_id": "aa6bb2b88f9941aa941a6b67b9397d6b",
       "version_major": 2,
       "version_minor": 0
      },
      "text/plain": [
       "  0%|          | 0/5000 [00:00<?, ?it/s]"
      ]
     },
     "metadata": {},
     "output_type": "display_data"
    },
    {
     "name": "stderr",
     "output_type": "stream",
     "text": [
      "IOStream.flush timed out\n",
      "IOStream.flush timed out\n",
      "IOStream.flush timed out\n",
      "IOStream.flush timed out\n",
      "IOStream.flush timed out\n",
      "IOStream.flush timed out\n",
      "IOStream.flush timed out\n",
      "IOStream.flush timed out\n"
     ]
    }
   ],
   "source": [
    "res = dict()\n",
    "for gen in [15, 50, 100, 300, 800]:\n",
    "    res[gen] = dict()\n",
    "    mt = pickle.load(open(f'/data3/wangkun/mtsim_res/res_1113/linear_/914990/mt_allmuts_mid_0.1_914990_{gen}.pkl', 'rb'))\n",
    "    freq = sparse_freq(mt)\n",
    "    pre_freq = freq[:, :pre_id+1]\n",
    "    de_freq = freq[:, pre_id+1:]\n",
    "    for cutoff in [0, 0.01, 0.05]:\n",
    "        res[gen][cutoff] = dict()\n",
    "        res[gen][cutoff]['pre'] = np.array(np.sum(pre_freq>cutoff, axis=1)).flatten()\n",
    "        res[gen][cutoff]['de'] = np.array(np.sum(de_freq>cutoff, axis=1)).flatten()"
   ]
  },
  {
   "cell_type": "code",
   "execution_count": 89,
   "id": "4946341d-7544-49b8-8fd5-06146ff3f02c",
   "metadata": {},
   "outputs": [
    {
     "data": {
      "image/png": "[encoded data removed]",
      "text/plain": [
       "<Figure size 900x300 with 3 Axes>"
      ]
     },
     "metadata": {},
     "output_type": "display_data"
    }
   ],
   "source": [
    "fig, ax = plt.subplots(1, 3, figsize=(9, 3))\n",
    "xrange=np.arange(1, 6)\n",
    "for ind, cutoff in enumerate([0,0.01,0.05]):\n",
    "    de_data = []\n",
    "    pre_data = []\n",
    "    for gen in [15, 50, 100, 300, 800]:\n",
    "        pre_data.append(res[gen][cutoff]['pre'])\n",
    "        de_data.append(res[gen][cutoff]['de'])\n",
    "    bp1 = ax[ind].boxplot(de_data, positions=xrange, patch_artist=True)\n",
    "    # bp2 = ax[ind].boxplot(pre_data, positions=xrange+0.2, patch_artist=True)\n",
    "    for patch in bp1['boxes']:\n",
    "        patch.set_facecolor('#f87b72')\n",
    "    # for patch in bp2['boxes']:\n",
    "    #     patch.set_facecolor('#28c9cd')\n",
    "    ax[ind].set_xticks(xrange, [15, 50, 100, 300, 800])\n",
    "    # ax[ind].set_yscale('log')\n",
    "    ax[ind].set_title(f'VAF cutoff {cutoff}')\n",
    "fig.suptitle('De novo')\n",
    "plt.tight_layout()"
   ]
  },
  {
   "cell_type": "code",
   "execution_count": 168,
   "id": "b8ef8043-6e2b-44ca-8604-ae55127194ef",
   "metadata": {},
   "outputs": [
    {
     "data": {
      "image/png": "[encoded data removed]",
      "text/plain": [
       "<Figure size 900x300 with 3 Axes>"
      ]
     },
     "metadata": {},
     "output_type": "display_data"
    }
   ],
   "source": [
    "fig, ax = plt.subplots(1, 3, figsize=(9, 3))\n",
    "xrange=np.arange(1, 6)\n",
    "for ind, cutoff in enumerate([0,0.01,0.05]):\n",
    "    de_data = []\n",
    "    pre_data = []\n",
    "    for gen in [15, 50, 100, 300, 800]:\n",
    "        pre_data.append(res[gen][cutoff]['pre'])\n",
    "        de_data.append(res[gen][cutoff]['de'])\n",
    "    # bp1 = ax[ind].boxplot(de_data, positions=xrange-0.2, patch_artist=True)\n",
    "    bp2 = ax[ind].boxplot(pre_data, positions=xrange, patch_artist=True)\n",
    "    # for patch in bp1['boxes']:\n",
    "    #     patch.set_facecolor('#f87b72')\n",
    "    for patch in bp2['boxes']:\n",
    "        patch.set_facecolor('#28c9cd')\n",
    "    ax[ind].set_xticks(xrange, [15, 50, 100, 300, 800])\n",
    "    # ax[ind].set_yscale('log')\n",
    "    ax[ind].set_title(f'VAF cutoff {cutoff}')\n",
    "    ax[ind].set_ylim(0,30)\n",
    "fig.suptitle('Pre existing')\n",
    "plt.tight_layout()"
   ]
  },
  {
   "cell_type": "code",
   "execution_count": 360,
   "id": "ce106ed8-54c2-4226-96c8-c766308d3055",
   "metadata": {},
   "outputs": [
    {
     "data": {
      "application/vnd.jupyter.widget-view+json": {
       "model_id": "c4dfd6eb756e4c699fbe3d485ce3ac69",
       "version_major": 2,
       "version_minor": 0
      },
      "text/plain": [
       "  0%|          | 0/5000 [00:00<?, ?it/s]"
      ]
     },
     "metadata": {},
     "output_type": "display_data"
    },
    {
     "data": {
      "application/vnd.jupyter.widget-view+json": {
       "model_id": "7c8a1cb5413545fbb061118fe086d281",
       "version_major": 2,
       "version_minor": 0
      },
      "text/plain": [
       "  0%|          | 0/5000 [00:00<?, ?it/s]"
      ]
     },
     "metadata": {},
     "output_type": "display_data"
    },
    {
     "data": {
      "application/vnd.jupyter.widget-view+json": {
       "model_id": "8ce086b3da6e4f1ea18c84e33571f021",
       "version_major": 2,
       "version_minor": 0
      },
      "text/plain": [
       "  0%|          | 0/5000 [00:00<?, ?it/s]"
      ]
     },
     "metadata": {},
     "output_type": "display_data"
    },
    {
     "data": {
      "application/vnd.jupyter.widget-view+json": {
       "model_id": "d0a4cdf25dda4ba3ac3d70503b08c706",
       "version_major": 2,
       "version_minor": 0
      },
      "text/plain": [
       "  0%|          | 0/5000 [00:00<?, ?it/s]"
      ]
     },
     "metadata": {},
     "output_type": "display_data"
    },
    {
     "data": {
      "application/vnd.jupyter.widget-view+json": {
       "model_id": "4625502676fb41a58af8f5b176603f54",
       "version_major": 2,
       "version_minor": 0
      },
      "text/plain": [
       "  0%|          | 0/5000 [00:00<?, ?it/s]"
      ]
     },
     "metadata": {},
     "output_type": "display_data"
    }
   ],
   "source": [
    "res = dict()\n",
    "for gen in [15, 50, 100, 300, 800]:\n",
    "    res[gen] = dict()\n",
    "    mt = pickle.load(open(f'/data3/wangkun/mtsim_res/res_1113/linear_/914990/mt_allmuts_mid_0.1_914990_{gen}.pkl', 'rb'))\n",
    "    # mt = rs_cvt(mt)\n",
    "    freq = sparse_freq(mt)\n",
    "    pre_freq = freq[:, :pre_id+1]\n",
    "    de_freq = freq[:, pre_id+1:]\n",
    "    for cutoff in [0, 0.01, 0.05]:\n",
    "        res[gen][cutoff] = dict()\n",
    "        res[gen][cutoff]['pre'] = np.array(np.sum(pre_freq>cutoff, axis=1)).flatten()\n",
    "        res[gen][cutoff]['de'] = np.array(np.sum(de_freq>cutoff, axis=1)).flatten()"
   ]
  },
  {
   "cell_type": "code",
   "execution_count": null,
   "id": "175e3821-cd2a-4c5a-97f7-07585837dd46",
   "metadata": {},
   "outputs": [],
   "source": []
  },
  {
   "cell_type": "code",
   "execution_count": 361,
   "id": "d9634f10-cc30-4a8a-a5c0-f4c01a338a02",
   "metadata": {},
   "outputs": [
    {
     "data": {
      "image/png": "[encoded data removed]",
      "text/plain": [
       "<Figure size 900x300 with 3 Axes>"
      ]
     },
     "metadata": {},
     "output_type": "display_data"
    }
   ],
   "source": [
    "fig, ax = plt.subplots(1, 3, figsize=(9, 3))\n",
    "xrange=np.arange(1, 6)\n",
    "for ind, cutoff in enumerate([0,0.01,0.05]):\n",
    "    de_data = []\n",
    "    pre_data = []\n",
    "    for gen in [15, 50, 100, 300, 800]:\n",
    "        pre_data.append(res[gen][cutoff]['pre'])\n",
    "        de_data.append(res[gen][cutoff]['de'])\n",
    "    bp1 = ax[ind].boxplot(de_data, positions=xrange, patch_artist=True)\n",
    "    # bp2 = ax[ind].boxplot(pre_data, positions=xrange+0.2, patch_artist=True)\n",
    "    for patch in bp1['boxes']:\n",
    "        patch.set_facecolor('#f87b72')\n",
    "    # for patch in bp2['boxes']:\n",
    "    #     patch.set_facecolor('#28c9cd')\n",
    "    ax[ind].set_xticks(xrange, [15, 50, 100, 300, 800])\n",
    "    # ax[ind].set_yscale('log')\n",
    "    ax[ind].set_title(f'VAF cutoff {cutoff}')\n",
    "fig.suptitle('De novo')\n",
    "plt.tight_layout()"
   ]
  },
  {
   "cell_type": "code",
   "execution_count": 363,
   "id": "346da730-e78e-4e72-b178-f6d5c39a2877",
   "metadata": {},
   "outputs": [
    {
     "data": {
      "image/png": "[encoded data removed]",
      "text/plain": [
       "<Figure size 900x300 with 3 Axes>"
      ]
     },
     "metadata": {},
     "output_type": "display_data"
    }
   ],
   "source": [
    "fig, ax = plt.subplots(1, 3, figsize=(9, 3))\n",
    "xrange=np.arange(1, 6)\n",
    "for ind, cutoff in enumerate([0,0.01,0.05]):\n",
    "    de_data = []\n",
    "    pre_data = []\n",
    "    for gen in [15, 50, 100, 300, 800]:\n",
    "        pre_data.append(res[gen][cutoff]['pre'])\n",
    "        de_data.append(res[gen][cutoff]['de'])\n",
    "    # bp1 = ax[ind].boxplot(de_data, positions=xrange-0.2, patch_artist=True)\n",
    "    bp2 = ax[ind].boxplot(pre_data, positions=xrange, patch_artist=True)\n",
    "    # for patch in bp1['boxes']:\n",
    "    #     patch.set_facecolor('#f87b72')\n",
    "    for patch in bp2['boxes']:\n",
    "        patch.set_facecolor('#28c9cd')\n",
    "    ax[ind].set_xticks(xrange, [15, 50, 100, 300, 800])\n",
    "    # ax[ind].set_yscale('log')\n",
    "    ax[ind].set_title(f'VAF cutoff {cutoff}')\n",
    "    # ax[ind].set_ylim(0,30)\n",
    "fig.suptitle('Pre existing')\n",
    "plt.tight_layout()"
   ]
  },
  {
   "cell_type": "code",
   "execution_count": 364,
   "id": "4f2b8810-1ebe-40a4-bb9c-7ed9328f401f",
   "metadata": {},
   "outputs": [],
   "source": [
    "files = os.listdir(\"/data3/wangkun/mtsim_res/res_1113/linear_/\")"
   ]
  },
  {
   "cell_type": "code",
   "execution_count": 378,
   "id": "e1b5a44d-8270-4539-9631-956740b6f29c",
   "metadata": {
    "collapsed": true,
    "jupyter": {
     "outputs_hidden": true
    },
    "tags": []
   },
   "outputs": [
    {
     "data": {
      "application/vnd.jupyter.widget-view+json": {
       "model_id": "f78e8e64c99042d6a9d280768d56d534",
       "version_major": 2,
       "version_minor": 0
      },
      "text/plain": [
       "  0%|          | 0/21 [00:00<?, ?it/s]"
      ]
     },
     "metadata": {},
     "output_type": "display_data"
    },
    {
     "ename": "FileNotFoundError",
     "evalue": "[Errno 2] No such file or directory: '/data3/wangkun/mtsim_res/res_1113/linear_/rm/mt_allmuts_mid_0.1_rm_15_0.8_rs.pkl'",
     "output_type": "error",
     "traceback": [
      "\u001b[0;31m---------------------------------------------------------------------------\u001b[0m",
      "\u001b[0;31mFileNotFoundError\u001b[0m                         Traceback (most recent call last)",
      "Cell \u001b[0;32mIn[378], line 5\u001b[0m\n\u001b[1;32m      3\u001b[0m \u001b[38;5;28;01mfor\u001b[39;00m gen \u001b[38;5;129;01min\u001b[39;00m [\u001b[38;5;241m15\u001b[39m, \u001b[38;5;241m50\u001b[39m, \u001b[38;5;241m100\u001b[39m, \u001b[38;5;241m300\u001b[39m, \u001b[38;5;241m800\u001b[39m]:\n\u001b[1;32m      4\u001b[0m     res[gen] \u001b[38;5;241m=\u001b[39m \u001b[38;5;28mdict\u001b[39m()\n\u001b[0;32m----> 5\u001b[0m     mt \u001b[38;5;241m=\u001b[39m pickle\u001b[38;5;241m.\u001b[39mload(\u001b[38;5;28;43mopen\u001b[39;49m\u001b[43m(\u001b[49m\u001b[38;5;124;43mf\u001b[39;49m\u001b[38;5;124;43m'\u001b[39;49m\u001b[38;5;124;43m/data3/wangkun/mtsim_res/res_1113/linear_/\u001b[39;49m\u001b[38;5;132;43;01m{\u001b[39;49;00m\u001b[43mf\u001b[49m\u001b[38;5;132;43;01m}\u001b[39;49;00m\u001b[38;5;124;43m/mt_allmuts_mid_0.1_\u001b[39;49m\u001b[38;5;132;43;01m{\u001b[39;49;00m\u001b[43mf\u001b[49m\u001b[38;5;132;43;01m}\u001b[39;49;00m\u001b[38;5;124;43m_\u001b[39;49m\u001b[38;5;132;43;01m{\u001b[39;49;00m\u001b[43mgen\u001b[49m\u001b[38;5;132;43;01m}\u001b[39;49;00m\u001b[38;5;124;43m_0.8_rs.pkl\u001b[39;49m\u001b[38;5;124;43m'\u001b[39;49m\u001b[43m,\u001b[49m\u001b[43m \u001b[49m\u001b[38;5;124;43m'\u001b[39;49m\u001b[38;5;124;43mrb\u001b[39;49m\u001b[38;5;124;43m'\u001b[39;49m\u001b[43m)\u001b[49m)\n\u001b[1;32m      6\u001b[0m     mt \u001b[38;5;241m=\u001b[39m rs_cvt(mt)\n\u001b[1;32m      7\u001b[0m     cell_number\u001b[38;5;241m.\u001b[39mappend(\u001b[38;5;28mlen\u001b[39m(mt\u001b[38;5;241m.\u001b[39mkeys()))\n",
      "File \u001b[0;32m~/miniconda3/lib/python3.9/site-packages/IPython/core/interactiveshell.py:282\u001b[0m, in \u001b[0;36m_modified_open\u001b[0;34m(file, *args, **kwargs)\u001b[0m\n\u001b[1;32m    275\u001b[0m \u001b[38;5;28;01mif\u001b[39;00m file \u001b[38;5;129;01min\u001b[39;00m {\u001b[38;5;241m0\u001b[39m, \u001b[38;5;241m1\u001b[39m, \u001b[38;5;241m2\u001b[39m}:\n\u001b[1;32m    276\u001b[0m     \u001b[38;5;28;01mraise\u001b[39;00m \u001b[38;5;167;01mValueError\u001b[39;00m(\n\u001b[1;32m    277\u001b[0m         \u001b[38;5;124mf\u001b[39m\u001b[38;5;124m\"\u001b[39m\u001b[38;5;124mIPython won\u001b[39m\u001b[38;5;124m'\u001b[39m\u001b[38;5;124mt let you open fd=\u001b[39m\u001b[38;5;132;01m{\u001b[39;00mfile\u001b[38;5;132;01m}\u001b[39;00m\u001b[38;5;124m by default \u001b[39m\u001b[38;5;124m\"\u001b[39m\n\u001b[1;32m    278\u001b[0m         \u001b[38;5;124m\"\u001b[39m\u001b[38;5;124mas it is likely to crash IPython. If you know what you are doing, \u001b[39m\u001b[38;5;124m\"\u001b[39m\n\u001b[1;32m    279\u001b[0m         \u001b[38;5;124m\"\u001b[39m\u001b[38;5;124myou can use builtins\u001b[39m\u001b[38;5;124m'\u001b[39m\u001b[38;5;124m open.\u001b[39m\u001b[38;5;124m\"\u001b[39m\n\u001b[1;32m    280\u001b[0m     )\n\u001b[0;32m--> 282\u001b[0m \u001b[38;5;28;01mreturn\u001b[39;00m \u001b[43mio_open\u001b[49m\u001b[43m(\u001b[49m\u001b[43mfile\u001b[49m\u001b[43m,\u001b[49m\u001b[43m \u001b[49m\u001b[38;5;241;43m*\u001b[39;49m\u001b[43margs\u001b[49m\u001b[43m,\u001b[49m\u001b[43m \u001b[49m\u001b[38;5;241;43m*\u001b[39;49m\u001b[38;5;241;43m*\u001b[39;49m\u001b[43mkwargs\u001b[49m\u001b[43m)\u001b[49m\n",
      "\u001b[0;31mFileNotFoundError\u001b[0m: [Errno 2] No such file or directory: '/data3/wangkun/mtsim_res/res_1113/linear_/rm/mt_allmuts_mid_0.1_rm_15_0.8_rs.pkl'"
     ]
    }
   ],
   "source": [
    "cell_number = []\n",
    "for f in tqdm(files):\n",
    "    for gen in [15, 50, 100, 300, 800]:\n",
    "        res[gen] = dict()\n",
    "        mt = pickle.load(open(f'/data3/wangkun/mtsim_res/res_1113/linear_/{f}/mt_allmuts_mid_0.1_{f}_{gen}_0.8_rs.pkl', 'rb'))\n",
    "        mt = rs_cvt(mt)\n",
    "        cell_number.append(len(mt.keys()))"
   ]
  },
  {
   "cell_type": "code",
   "execution_count": 379,
   "id": "377c8ecd-aaf1-4044-be3e-a972bde97cd0",
   "metadata": {},
   "outputs": [
    {
     "data": {
      "text/plain": [
       "(array([ 4.,  2.,  5., 11., 22., 28., 18.,  6.,  1.,  3.]),\n",
       " array([2780. , 3194.4, 3608.8, 4023.2, 4437.6, 4852. , 5266.4, 5680.8,\n",
       "        6095.2, 6509.6, 6924. ]),\n",
       " <BarContainer object of 10 artists>)"
      ]
     },
     "execution_count": 379,
     "metadata": {},
     "output_type": "execute_result"
    },
    {
     "data": {
      "image/png": "[encoded data removed]",
      "text/plain": [
       "<Figure size 640x480 with 1 Axes>"
      ]
     },
     "metadata": {},
     "output_type": "display_data"
    }
   ],
   "source": [
    "plt.hist(cell_number)"
   ]
  },
  {
   "cell_type": "code",
   "execution_count": null,
   "id": "ebbf89bd-d4c6-498e-a54e-d241f2eb7df2",
   "metadata": {},
   "outputs": [],
   "source": []
  },
  {
   "cell_type": "code",
   "execution_count": null,
   "id": "308e3a5e-0875-4a96-86f8-4ebada1e38ce",
   "metadata": {},
   "outputs": [],
   "source": []
  },
  {
   "cell_type": "code",
   "execution_count": null,
   "id": "d46b448d-e998-4367-b6f2-ccdce3ff86cd",
   "metadata": {},
   "outputs": [],
   "source": [
    "res = dict()\n",
    "for gen in [15, 50, 100, 300, 800]:\n",
    "    res[gen] = dict()\n",
    "    mt = pickle.load(open(f'/data3/wangkun/mtsim_res/res_1113/linear_/914990/mt_allmuts_mid_0.1_914990_{gen}.pkl', 'rb'))\n",
    "    freq = sparse_freq(mt)\n",
    "    pre_freq = freq[:, :pre_id+1]\n",
    "    de_freq = freq[:, pre_id+1:]\n",
    "    for cutoff in [0, 0.01, 0.05]:\n",
    "        res[gen][cutoff] = dict()\n",
    "        res[gen][cutoff]['pre'] = np.array(np.sum(pre_freq>cutoff, axis=1)).flatten()\n",
    "        res[gen][cutoff]['de'] = np.array(np.sum(de_freq>cutoff, axis=1)).flatten()"
   ]
  },
  {
   "cell_type": "code",
   "execution_count": null,
   "id": "cffa6563-7234-4d71-b130-606176bef609",
   "metadata": {},
   "outputs": [],
   "source": []
  },
  {
   "cell_type": "code",
   "execution_count": 329,
   "id": "c2a03762-d64c-4997-8fd7-3fcf5af19d29",
   "metadata": {},
   "outputs": [],
   "source": [
    "def cell_division_with_mt1(mt_muts, global_mutid, mut_rate, mt_copynumber=2, target_nmts=500):\n",
    "    new_mts = []\n",
    "    nmts = len(mt_muts)\n",
    "    if nmts < target_nmts*0.8:\n",
    "        mt_copynumber = 2.3\n",
    "    elif nmts > target_nmts*1.2:\n",
    "        mt_copynumber = 1.8\n",
    "    else:\n",
    "        mt_copynumber = 2\n",
    "    \n",
    "    if mt_copynumber == 2:\n",
    "        new_mts = mt_muts*2\n",
    "    elif mt_copynumber > 2:\n",
    "        new_mts = mt_muts*2\n",
    "        n_mts = len(mt_muts)\n",
    "        addi = np.random.choice(range(n_mts), int(n_mts*(mt_copynumber-2)), replace=False)\n",
    "        new_mts = new_mts + list(np.array(mt_muts)[addi])\n",
    "    else:\n",
    "        new_mts = mt_muts\n",
    "        n_mts = len(mt_muts)\n",
    "        addi = np.random.choice(range(n_mts), int(n_mts*(mt_copynumber-1)), replace=False)\n",
    "        new_mts = new_mts + list(np.array(mt_muts)[addi])\n",
    "        \n",
    "    division = np.random.binomial(1, 0.5, len(new_mts)).astype(bool)\n",
    "    while (np.sum(division) < min(0.4*len(new_mts), 100)) or (np.sum(~division) < min(0.4*len(new_mts), 100)):\n",
    "        division = np.random.binomial(1, 0.5, len(new_mts)).astype(bool)\n",
    "    cell1 = np.array(new_mts)[division]\n",
    "    cell2 = np.array(new_mts)[~division]\n",
    "    for i in np.random.choice(range(len(cell1)), np.random.poisson(mut_rate)):\n",
    "        global_mutid += 1\n",
    "        mt_new = deepcopy(cell1[i])\n",
    "        mt_new.add(global_mutid)\n",
    "        cell1[i] = mt_new\n",
    "        \n",
    "    for i in np.random.choice(range(len(cell2)), np.random.poisson(mut_rate)):\n",
    "        global_mutid += 1\n",
    "        mt_new = deepcopy(cell2[i])\n",
    "        mt_new.add(global_mutid)\n",
    "        cell2[i] = mt_new\n",
    "    \n",
    "    return list(cell1), list(cell2), global_mutid"
   ]
  },
  {
   "cell_type": "code",
   "execution_count": 348,
   "id": "ab832864-e984-4187-8451-534a96dbf13a",
   "metadata": {},
   "outputs": [],
   "source": [
    "mt_muts = [set() for _ in range(3)]"
   ]
  },
  {
   "cell_type": "code",
   "execution_count": 349,
   "id": "2ff5f85b-28b9-42a1-9df4-8fc53f5f5b3e",
   "metadata": {},
   "outputs": [],
   "source": [
    "c1, c2, gm = cell_division_with_mt1(mt_muts, 0, 3, mt_copynumber=2, target_nmts=60)"
   ]
  },
  {
   "cell_type": "code",
   "execution_count": 350,
   "id": "c328ab4a-c901-4e4b-a301-10de87bb567f",
   "metadata": {},
   "outputs": [
    {
     "data": {
      "text/plain": [
       "[{3}, {1, 2}, {4, 5}]"
      ]
     },
     "execution_count": 350,
     "metadata": {},
     "output_type": "execute_result"
    }
   ],
   "source": [
    "c1"
   ]
  },
  {
   "cell_type": "code",
   "execution_count": 351,
   "id": "7e2931d3-172c-461d-87ac-7a2fddf9dd7a",
   "metadata": {},
   "outputs": [
    {
     "data": {
      "text/plain": [
       "[set(), {6}, set()]"
      ]
     },
     "execution_count": 351,
     "metadata": {},
     "output_type": "execute_result"
    }
   ],
   "source": [
    "c2"
   ]
  },
  {
   "cell_type": "code",
   "execution_count": 282,
   "id": "5514cebf-2661-4d68-b4f5-d7201c6f1a24",
   "metadata": {},
   "outputs": [
    {
     "name": "stdout",
     "output_type": "stream",
     "text": [
      "128 µs ± 2.55 µs per loop (mean ± std. dev. of 7 runs, 10,000 loops each)\n"
     ]
    }
   ],
   "source": [
    "%%timeit\n",
    "c1, c2, gm = cell_division_with_mt1(mt_muts, 0, 3, mt_copynumber=2, target_nmts=60)"
   ]
  },
  {
   "cell_type": "code",
   "execution_count": 331,
   "id": "5f2b2808-7f09-4952-90fb-75c65d6fbb6d",
   "metadata": {},
   "outputs": [
    {
     "name": "stdout",
     "output_type": "stream",
     "text": [
      "120 µs ± 946 ns per loop (mean ± std. dev. of 7 runs, 10,000 loops each)\n"
     ]
    }
   ],
   "source": [
    "%%timeit\n",
    "c1, c2, gm = cell_division_with_mt1(mt_muts, 0, 3, mt_copynumber=2, target_nmts=60)"
   ]
  },
  {
   "cell_type": "code",
   "execution_count": 245,
   "id": "6130fa50-da13-49b6-a116-84aa3baae15a",
   "metadata": {},
   "outputs": [
    {
     "name": "stdout",
     "output_type": "stream",
     "text": [
      "407 µs ± 6.38 µs per loop (mean ± std. dev. of 7 runs, 1,000 loops each)\n"
     ]
    }
   ],
   "source": [
    "%%timeit\n",
    "c1, c2, gm = cell_division_with_mt1(mt_muts, 0, 3, mt_copynumber=2, target_nmts=60)"
   ]
  },
  {
   "cell_type": "code",
   "execution_count": 250,
   "id": "913b3ce0-c851-46f1-838a-c0299cbb4408",
   "metadata": {},
   "outputs": [],
   "source": [
    "mt_muts = [set() for _ in range(60)]"
   ]
  },
  {
   "cell_type": "code",
   "execution_count": 248,
   "id": "9ee6e569-80e7-435a-8ba3-cd0a258f31ba",
   "metadata": {},
   "outputs": [
    {
     "name": "stdout",
     "output_type": "stream",
     "text": [
      "523 µs ± 10.4 µs per loop (mean ± std. dev. of 7 runs, 1,000 loops each)\n"
     ]
    }
   ],
   "source": [
    "%%timeit\n",
    "c1, c2, gm = cell_division_with_mt2(mt_muts, 0, 3, mt_copynumber=2, target_nmts=10)"
   ]
  },
  {
   "cell_type": "code",
   "execution_count": 251,
   "id": "1a6839c3-99b2-4617-8a6b-c6d4e948b3c2",
   "metadata": {},
   "outputs": [
    {
     "name": "stdout",
     "output_type": "stream",
     "text": [
      "514 µs ± 14.2 µs per loop (mean ± std. dev. of 7 runs, 1,000 loops each)\n"
     ]
    }
   ],
   "source": [
    "%%timeit\n",
    "c1, c2, gm = cell_division_with_mt2(mt_muts, 0, 3, mt_copynumber=2, target_nmts=10)"
   ]
  },
  {
   "cell_type": "code",
   "execution_count": null,
   "id": "1de35270-afb4-47a5-9bb4-5552d9f7b86d",
   "metadata": {},
   "outputs": [],
   "source": []
  },
  {
   "cell_type": "code",
   "execution_count": 231,
   "id": "61eb7184-8146-496e-b264-e3fdb2b95d56",
   "metadata": {},
   "outputs": [
    {
     "data": {
      "text/plain": [
       "[{6}, set(), {5, 7}]"
      ]
     },
     "execution_count": 231,
     "metadata": {},
     "output_type": "execute_result"
    }
   ],
   "source": [
    "c2"
   ]
  },
  {
   "cell_type": "code",
   "execution_count": null,
   "id": "2cbafddc-42b6-4fa9-bc82-b8862a418b3f",
   "metadata": {},
   "outputs": [],
   "source": [
    "1"
   ]
  },
  {
   "cell_type": "code",
   "execution_count": null,
   "id": "ee4fb32d-a30e-438f-8704-784de73f36f4",
   "metadata": {},
   "outputs": [],
   "source": []
  }
 ],
 "metadata": {
  "kernelspec": {
   "display_name": "Python 3 (ipykernel)",
   "language": "python",
   "name": "python3"
  },
  "language_info": {
   "codemirror_mode": {
    "name": "ipython",
    "version": 3
   },
   "file_extension": ".py",
   "mimetype": "text/x-python",
   "name": "python",
   "nbconvert_exporter": "python",
   "pygments_lexer": "ipython3",
   "version": "3.9.12"
  }
 },
 "nbformat": 4,
 "nbformat_minor": 5
}
