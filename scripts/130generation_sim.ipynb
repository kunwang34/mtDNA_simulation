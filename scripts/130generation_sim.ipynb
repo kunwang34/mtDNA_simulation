{
 "cells": [
  {
   "cell_type": "code",
   "execution_count": 1,
   "id": "af06bdd5-61db-4f1e-8241-131fd8d204e3",
   "metadata": {},
   "outputs": [
    {
     "name": "stderr",
     "output_type": "stream",
     "text": [
      "/home/wangkun/mtDNA_simulation/scripts/../mtDNAsim/sim_utils.py:7: TqdmExperimentalWarning: Using `tqdm.autonotebook.tqdm` in notebook mode. Use `tqdm.tqdm` instead to force console mode (e.g. in jupyter console)\n",
      "  from tqdm.autonotebook import tqdm\n"
     ]
    }
   ],
   "source": [
    "import sys\n",
    "sys.path.append('..')\n",
    "from mtDNAsim import *\n",
    "import pandas as pd\n",
    "import numpy as np\n",
    "from copy import deepcopy\n",
    "from collections import Counter\n",
    "import argparse\n",
    "import pickle"
   ]
  },
  {
   "cell_type": "code",
   "execution_count": 24,
   "id": "34d5946b-ad64-49fc-8991-b32836a912c2",
   "metadata": {},
   "outputs": [],
   "source": [
    "from matplotlib.lines import Line2D\n",
    "from matplotlib.patches import Patch"
   ]
  },
  {
   "cell_type": "code",
   "execution_count": null,
   "id": "a6682864-c9ea-405f-bd25-ee15cb5036fd",
   "metadata": {},
   "outputs": [
    {
     "data": {
      "application/vnd.jupyter.widget-view+json": {
       "model_id": "f7e84f78f7544b9591f9740a1dff8344",
       "version_major": 2,
       "version_minor": 0
      },
      "text/plain": [
       "  0%|          | 0/131 [00:00<?, ?it/s]"
      ]
     },
     "metadata": {},
     "output_type": "display_data"
    }
   ],
   "source": [
    "num_elements = 1\n",
    "# while True:\n",
    "success = 1\n",
    "def death_rate(t):\n",
    "    if t > 25:\n",
    "        return 0.8\n",
    "    else:\n",
    "        return 0.2\n",
    "# while success:\n",
    "    # try:\n",
    "system = Gillespie(\n",
    "    num_elements,\n",
    "    inits=[1],\n",
    "    max_cell_num=50000,\n",
    "    max_genetion_time=131\n",
    ")\n",
    "\n",
    "p0 = lambda t: 0.8\n",
    "# dr = lambda t: death_rate\n",
    "system.add_reaction(p0, [1], [2], index=0) # 0 self renew\n",
    "system.add_reaction(death_rate, [1], [0], index=13) # 3 -> 4 differentiation\n",
    "system.evolute(100000000)\n",
    "success = 0\n",
    "    # except:\n",
    "    #     pass\n"
   ]
  },
  {
   "cell_type": "code",
   "execution_count": 15,
   "id": "465e1b8b-1503-4ae0-9205-58b632d76678",
   "metadata": {},
   "outputs": [
    {
     "data": {
      "text/plain": [
       "8692"
      ]
     },
     "execution_count": 15,
     "metadata": {},
     "output_type": "execute_result"
    }
   ],
   "source": [
    "len(system.curr_cells[0])"
   ]
  },
  {
   "cell_type": "code",
   "execution_count": 3,
   "id": "52ec0c60-17b4-42ff-b103-fea34edcd08f",
   "metadata": {},
   "outputs": [],
   "source": [
    "data_path = '/home/wangkun/mtDNA_simulation/data'\n",
    "simid = '130_gen'"
   ]
  },
  {
   "cell_type": "code",
   "execution_count": 17,
   "id": "66e25b39-6f30-4d3f-94de-82fc3d79fa91",
   "metadata": {},
   "outputs": [
    {
     "data": {
      "text/plain": [
       "1"
      ]
     },
     "execution_count": 17,
     "metadata": {},
     "output_type": "execute_result"
    }
   ],
   "source": [
    "curr_cells = []\n",
    "\n",
    "for i in system.curr_cells.values():\n",
    "    curr_cells += i\n",
    "\n",
    "sim_utils.wirte_lineage_info(\n",
    "    f\"{data_path}/{simid}/lineage_info.csv\", system.anc_cells, curr_cells, system.t[-1]\n",
    ")\n",
    "\n",
    "reconstruct(f\"{data_path}/{simid}/lineage_info.csv\", output=f\"{data_path}/{simid}/gt_tree.nwk\", num=1000, is_balance=True)\n",
    "\n",
    "tree = loadtree(f'{data_path}/{simid}/gt_tree.nwk')[0]\n",
    "\n",
    "for i in tree.get_nonterminals():\n",
    "    i.branch_length=1\n",
    "for i in tree.get_terminals():\n",
    "    i.branch_length=1\n",
    "    \n",
    "Phylo.write(tree, f'{data_path}/{simid}/gt_tree.nwk', format='newick')"
   ]
  },
  {
   "cell_type": "code",
   "execution_count": 46,
   "id": "cc63c993-6e98-4c36-b440-6b6ba8d83c09",
   "metadata": {
    "collapsed": true,
    "jupyter": {
     "outputs_hidden": true
    },
    "tags": []
   },
   "outputs": [
    {
     "ename": "KeyboardInterrupt",
     "evalue": "",
     "output_type": "error",
     "traceback": [
      "\u001b[0;31m---------------------------------------------------------------------------\u001b[0m",
      "\u001b[0;31mKeyboardInterrupt\u001b[0m                         Traceback (most recent call last)",
      "Cell \u001b[0;32mIn[46], line 5\u001b[0m\n\u001b[1;32m      3\u001b[0m     \u001b[38;5;28;01mfor\u001b[39;00m j \u001b[38;5;129;01min\u001b[39;00m tree\u001b[38;5;241m.\u001b[39mget_path(i)[::\u001b[38;5;241m-\u001b[39m\u001b[38;5;241m1\u001b[39m][\u001b[38;5;241m1\u001b[39m:]:\n\u001b[1;32m      4\u001b[0m         \u001b[38;5;28;01mif\u001b[39;00m \u001b[38;5;28mlen\u001b[39m(j\u001b[38;5;241m.\u001b[39mclades) \u001b[38;5;241m==\u001b[39m \u001b[38;5;241m1\u001b[39m:\n\u001b[0;32m----> 5\u001b[0m             \u001b[43mtree\u001b[49m\u001b[38;5;241;43m.\u001b[39;49m\u001b[43mcollapse\u001b[49m\u001b[43m(\u001b[49m\u001b[43mj\u001b[49m\u001b[43m)\u001b[49m\n\u001b[1;32m      6\u001b[0m Phylo\u001b[38;5;241m.\u001b[39mwrite(tree, \u001b[38;5;124mf\u001b[39m\u001b[38;5;124m'\u001b[39m\u001b[38;5;132;01m{\u001b[39;00mdata_path\u001b[38;5;132;01m}\u001b[39;00m\u001b[38;5;124m/\u001b[39m\u001b[38;5;132;01m{\u001b[39;00msimid\u001b[38;5;132;01m}\u001b[39;00m\u001b[38;5;124m/gt_tree_collapse.nwk\u001b[39m\u001b[38;5;124m'\u001b[39m, \u001b[38;5;28mformat\u001b[39m\u001b[38;5;241m=\u001b[39m\u001b[38;5;124m'\u001b[39m\u001b[38;5;124mnewick\u001b[39m\u001b[38;5;124m'\u001b[39m)\n",
      "File \u001b[0;32m~/miniconda3/lib/python3.9/site-packages/Bio/Phylo/BaseTree.py:594\u001b[0m, in \u001b[0;36mTreeMixin.collapse\u001b[0;34m(self, target, **kwargs)\u001b[0m\n\u001b[1;32m    588\u001b[0m \u001b[38;5;28;01mdef\u001b[39;00m \u001b[38;5;21mcollapse\u001b[39m(\u001b[38;5;28mself\u001b[39m, target\u001b[38;5;241m=\u001b[39m\u001b[38;5;28;01mNone\u001b[39;00m, \u001b[38;5;241m*\u001b[39m\u001b[38;5;241m*\u001b[39mkwargs):\n\u001b[1;32m    589\u001b[0m \u001b[38;5;250m    \u001b[39m\u001b[38;5;124;03m\"\"\"Delete target from the tree, relinking its children to its parent.\u001b[39;00m\n\u001b[1;32m    590\u001b[0m \n\u001b[1;32m    591\u001b[0m \u001b[38;5;124;03m    :returns: the parent clade.\u001b[39;00m\n\u001b[1;32m    592\u001b[0m \n\u001b[1;32m    593\u001b[0m \u001b[38;5;124;03m    \"\"\"\u001b[39;00m\n\u001b[0;32m--> 594\u001b[0m     path \u001b[38;5;241m=\u001b[39m \u001b[38;5;28;43mself\u001b[39;49m\u001b[38;5;241;43m.\u001b[39;49m\u001b[43mget_path\u001b[49m\u001b[43m(\u001b[49m\u001b[43mtarget\u001b[49m\u001b[43m,\u001b[49m\u001b[43m \u001b[49m\u001b[38;5;241;43m*\u001b[39;49m\u001b[38;5;241;43m*\u001b[39;49m\u001b[43mkwargs\u001b[49m\u001b[43m)\u001b[49m\n\u001b[1;32m    595\u001b[0m     \u001b[38;5;28;01mif\u001b[39;00m \u001b[38;5;129;01mnot\u001b[39;00m path:\n\u001b[1;32m    596\u001b[0m         \u001b[38;5;28;01mraise\u001b[39;00m \u001b[38;5;167;01mValueError\u001b[39;00m(\u001b[38;5;124m\"\u001b[39m\u001b[38;5;124mcouldn\u001b[39m\u001b[38;5;124m'\u001b[39m\u001b[38;5;124mt collapse \u001b[39m\u001b[38;5;132;01m%s\u001b[39;00m\u001b[38;5;124m in this tree\u001b[39m\u001b[38;5;124m\"\u001b[39m \u001b[38;5;241m%\u001b[39m (target \u001b[38;5;129;01mor\u001b[39;00m kwargs))\n",
      "File \u001b[0;32m~/miniconda3/lib/python3.9/site-packages/Bio/Phylo/BaseTree.py:410\u001b[0m, in \u001b[0;36mTreeMixin.get_path\u001b[0;34m(self, target, **kwargs)\u001b[0m\n\u001b[1;32m    407\u001b[0m             \u001b[38;5;28;01mreturn\u001b[39;00m \u001b[38;5;28;01mTrue\u001b[39;00m\n\u001b[1;32m    408\u001b[0m     \u001b[38;5;28;01mreturn\u001b[39;00m \u001b[38;5;28;01mFalse\u001b[39;00m\n\u001b[0;32m--> 410\u001b[0m \u001b[38;5;28;01mif\u001b[39;00m \u001b[38;5;129;01mnot\u001b[39;00m \u001b[43mcheck_in_path\u001b[49m\u001b[43m(\u001b[49m\u001b[38;5;28;43mself\u001b[39;49m\u001b[38;5;241;43m.\u001b[39;49m\u001b[43mroot\u001b[49m\u001b[43m)\u001b[49m:\n\u001b[1;32m    411\u001b[0m     \u001b[38;5;28;01mreturn\u001b[39;00m \u001b[38;5;28;01mNone\u001b[39;00m\n\u001b[1;32m    412\u001b[0m \u001b[38;5;28;01mreturn\u001b[39;00m path[\u001b[38;5;241m-\u001b[39m\u001b[38;5;241m2\u001b[39m::\u001b[38;5;241m-\u001b[39m\u001b[38;5;241m1\u001b[39m]\n",
      "File \u001b[0;32m~/miniconda3/lib/python3.9/site-packages/Bio/Phylo/BaseTree.py:405\u001b[0m, in \u001b[0;36mTreeMixin.get_path.<locals>.check_in_path\u001b[0;34m(v)\u001b[0m\n\u001b[1;32m    403\u001b[0m     \u001b[38;5;28;01mreturn\u001b[39;00m \u001b[38;5;28;01mFalse\u001b[39;00m\n\u001b[1;32m    404\u001b[0m \u001b[38;5;28;01mfor\u001b[39;00m child \u001b[38;5;129;01min\u001b[39;00m v:\n\u001b[0;32m--> 405\u001b[0m     \u001b[38;5;28;01mif\u001b[39;00m \u001b[43mcheck_in_path\u001b[49m\u001b[43m(\u001b[49m\u001b[43mchild\u001b[49m\u001b[43m)\u001b[49m:\n\u001b[1;32m    406\u001b[0m         path\u001b[38;5;241m.\u001b[39mappend(v)\n\u001b[1;32m    407\u001b[0m         \u001b[38;5;28;01mreturn\u001b[39;00m \u001b[38;5;28;01mTrue\u001b[39;00m\n",
      "File \u001b[0;32m~/miniconda3/lib/python3.9/site-packages/Bio/Phylo/BaseTree.py:405\u001b[0m, in \u001b[0;36mTreeMixin.get_path.<locals>.check_in_path\u001b[0;34m(v)\u001b[0m\n\u001b[1;32m    403\u001b[0m     \u001b[38;5;28;01mreturn\u001b[39;00m \u001b[38;5;28;01mFalse\u001b[39;00m\n\u001b[1;32m    404\u001b[0m \u001b[38;5;28;01mfor\u001b[39;00m child \u001b[38;5;129;01min\u001b[39;00m v:\n\u001b[0;32m--> 405\u001b[0m     \u001b[38;5;28;01mif\u001b[39;00m \u001b[43mcheck_in_path\u001b[49m\u001b[43m(\u001b[49m\u001b[43mchild\u001b[49m\u001b[43m)\u001b[49m:\n\u001b[1;32m    406\u001b[0m         path\u001b[38;5;241m.\u001b[39mappend(v)\n\u001b[1;32m    407\u001b[0m         \u001b[38;5;28;01mreturn\u001b[39;00m \u001b[38;5;28;01mTrue\u001b[39;00m\n",
      "    \u001b[0;31m[... skipping similar frames: TreeMixin.get_path.<locals>.check_in_path at line 405 (30 times)]\u001b[0m\n",
      "File \u001b[0;32m~/miniconda3/lib/python3.9/site-packages/Bio/Phylo/BaseTree.py:405\u001b[0m, in \u001b[0;36mTreeMixin.get_path.<locals>.check_in_path\u001b[0;34m(v)\u001b[0m\n\u001b[1;32m    403\u001b[0m     \u001b[38;5;28;01mreturn\u001b[39;00m \u001b[38;5;28;01mFalse\u001b[39;00m\n\u001b[1;32m    404\u001b[0m \u001b[38;5;28;01mfor\u001b[39;00m child \u001b[38;5;129;01min\u001b[39;00m v:\n\u001b[0;32m--> 405\u001b[0m     \u001b[38;5;28;01mif\u001b[39;00m \u001b[43mcheck_in_path\u001b[49m\u001b[43m(\u001b[49m\u001b[43mchild\u001b[49m\u001b[43m)\u001b[49m:\n\u001b[1;32m    406\u001b[0m         path\u001b[38;5;241m.\u001b[39mappend(v)\n\u001b[1;32m    407\u001b[0m         \u001b[38;5;28;01mreturn\u001b[39;00m \u001b[38;5;28;01mTrue\u001b[39;00m\n",
      "File \u001b[0;32m~/miniconda3/lib/python3.9/site-packages/Bio/Phylo/BaseTree.py:404\u001b[0m, in \u001b[0;36mTreeMixin.get_path.<locals>.check_in_path\u001b[0;34m(v)\u001b[0m\n\u001b[1;32m    402\u001b[0m \u001b[38;5;28;01melif\u001b[39;00m v\u001b[38;5;241m.\u001b[39mis_terminal():\n\u001b[1;32m    403\u001b[0m     \u001b[38;5;28;01mreturn\u001b[39;00m \u001b[38;5;28;01mFalse\u001b[39;00m\n\u001b[0;32m--> 404\u001b[0m \u001b[38;5;28;01mfor\u001b[39;00m child \u001b[38;5;129;01min\u001b[39;00m v:\n\u001b[1;32m    405\u001b[0m     \u001b[38;5;28;01mif\u001b[39;00m check_in_path(child):\n\u001b[1;32m    406\u001b[0m         path\u001b[38;5;241m.\u001b[39mappend(v)\n",
      "File \u001b[0;32m~/miniconda3/lib/python3.9/site-packages/Bio/Phylo/BaseTree.py:1088\u001b[0m, in \u001b[0;36mClade.__iter__\u001b[0;34m(self)\u001b[0m\n\u001b[1;32m   1086\u001b[0m \u001b[38;5;28;01mdef\u001b[39;00m \u001b[38;5;21m__iter__\u001b[39m(\u001b[38;5;28mself\u001b[39m):\n\u001b[1;32m   1087\u001b[0m \u001b[38;5;250m    \u001b[39m\u001b[38;5;124;03m\"\"\"Iterate through this tree's direct descendent clades (sub-trees).\"\"\"\u001b[39;00m\n\u001b[0;32m-> 1088\u001b[0m     \u001b[38;5;28;01mreturn\u001b[39;00m \u001b[38;5;28;43miter\u001b[39;49m\u001b[43m(\u001b[49m\u001b[38;5;28;43mself\u001b[39;49m\u001b[38;5;241;43m.\u001b[39;49m\u001b[43mclades\u001b[49m\u001b[43m)\u001b[49m\n",
      "\u001b[0;31mKeyboardInterrupt\u001b[0m: "
     ]
    }
   ],
   "source": [
    "tree = loadtree(f'{data_path}/{simid}/gt_tree.nwk')[0]\n",
    "for i in tree.get_terminals():\n",
    "    for j in tree.get_path(i)[::-1][1:]:\n",
    "        if len(j.clades) == 1:\n",
    "            tree.collapse(j)\n",
    "Phylo.write(tree, f'{data_path}/{simid}/gt_tree_collapse.nwk', format='newick')"
   ]
  },
  {
   "cell_type": "code",
   "execution_count": 6,
   "id": "5325eeb6-31b1-486a-8edc-99d6c94746f7",
   "metadata": {},
   "outputs": [
    {
     "data": {
      "application/vnd.jupyter.widget-view+json": {
       "model_id": "7f992049f7914ded9cd3078569be14c9",
       "version_major": 2,
       "version_minor": 0
      },
      "text/plain": [
       "  0%|          | 0/499 [00:00<?, ?it/s]"
      ]
     },
     "metadata": {},
     "output_type": "display_data"
    },
    {
     "data": {
      "application/vnd.jupyter.widget-view+json": {
       "model_id": "8870e449389f45659627de2cb4daa51d",
       "version_major": 2,
       "version_minor": 0
      },
      "text/plain": [
       "Simulating MT mutation::   0%|          | 0/2000 [00:00<?, ?it/s]"
      ]
     },
     "metadata": {},
     "output_type": "display_data"
    }
   ],
   "source": [
    "nrm = 100\n",
    "\n",
    "imr = nrm / 1000\n",
    "mt_mutrate = 0.8\n",
    "n_mts = 500\n",
    "bn = 'const'\n",
    "mt_cn = {\n",
    "    'mid':lambda x: 1.52 if x <= 10 else (2.85 if x <= 20 else 2),\n",
    "    'const':lambda x: 2 \n",
    "}\n",
    "\n",
    "# success = 0\n",
    "# while not success:\n",
    "#     try:\n",
    "mt_muts, mutid = mtmutation(tree, mut_rate=mt_mutrate/n_mts, init_mut_rate=imr, mt_copynumber=mt_cn[bn], nmts=n_mts)\n",
    "n_root_muts = len(set(sum([list(i) for i in mt_muts['<0_0>']], [])))\n",
    "if nrm == 0:\n",
    "    success = 1\n",
    "elif np.abs(n_root_muts-nrm)/nrm <= 0.2:\n",
    "    success = 1\n",
    "else:\n",
    "    pass\n",
    "    # except:\n",
    "    #     pass\n",
    "\n",
    "pickle.dump(mt_muts, open(f\"{data_path}/{simid}/mt_allmuts_130.pkl\", 'wb'))"
   ]
  },
  {
   "cell_type": "code",
   "execution_count": 9,
   "id": "36cd822a-6db1-458e-87e1-af30a556bdc7",
   "metadata": {},
   "outputs": [
    {
     "data": {
      "application/vnd.jupyter.widget-view+json": {
       "model_id": "6af874a458144443bcbf562d2f39091c",
       "version_major": 2,
       "version_minor": 0
      },
      "text/plain": [
       "  0%|          | 0/2000 [00:00<?, ?it/s]"
      ]
     },
     "metadata": {},
     "output_type": "display_data"
    },
    {
     "name": "stderr",
     "output_type": "stream",
     "text": [
      "/home/wangkun/mtDNA_simulation/scripts/../mtDNAsim/sim_utils.py:799: RuntimeWarning: invalid value encountered in divide\n",
      "  freq_samp = rc/depth\n"
     ]
    }
   ],
   "source": [
    "mt_freq = sparse_freq(mt_muts)\n",
    "tree_gt = Phylo.read(f'{data_path}/{simid}/gt_tree_collapse.nwk', format='newick')\n",
    "mt_freq_leave = mt_freq.loc[[i.name for i in tree_gt.get_terminals()]]\n",
    "mt_freq_samp = sequence_sim(mt_freq_leave, 50, n=2.5)\n",
    "for cutoff in [0, 0.01]:\n",
    "    for suf, freq in zip(['', '_seq'], [mt_freq_leave, mt_freq_samp]):\n",
    "        muts = freq>cutoff\n",
    "        muts = muts.iloc[:, np.where(muts.sum(0)>0)[0]]\n",
    "        muts = muts.astype(int).astype(str)\n",
    "        translation_table = str.maketrans({'1': 'A', '0': 'G'})\n",
    "        seqs = f'{muts.shape[0]} {muts.shape[1]}\\n'\n",
    "        for i in range(muts.shape[0]):\n",
    "            seqs += f'{muts.index[i]} '\n",
    "            seqs += ''.join(muts.iloc[i].to_numpy()).translate(translation_table)\n",
    "            seqs += '\\n'\n",
    "        with open(f'{data_path}/{simid}/mt_allmuts_130_{cutoff}{suf}.phy', 'w') as f:\n",
    "            f.write(seqs)\n",
    "\n"
   ]
  },
  {
   "cell_type": "code",
   "execution_count": 12,
   "id": "6c2662dc-b922-4cd6-b3fe-b7120cb99463",
   "metadata": {},
   "outputs": [
    {
     "data": {
      "application/vnd.jupyter.widget-view+json": {
       "model_id": "fe50b845ba5149d289112e2cceadbd47",
       "version_major": 2,
       "version_minor": 0
      },
      "text/plain": [
       "  0%|          | 0/2000 [00:00<?, ?it/s]"
      ]
     },
     "metadata": {},
     "output_type": "display_data"
    },
    {
     "name": "stderr",
     "output_type": "stream",
     "text": [
      "/home/wangkun/mtDNA_simulation/scripts/../mtDNAsim/sim_utils.py:793: RuntimeWarning: invalid value encountered in divide\n",
      "  freq_samp = rc/depth\n"
     ]
    }
   ],
   "source": [
    "\n",
    "mt_muts = pickle.load(open(f'{data_path}/{simid}/mt_allmuts_130.pkl', 'rb'))\n",
    "freq = sparse_freq(mt_muts)\n",
    "tree_gt = Phylo.read(f'{data_path}/{simid}/gt_tree.nwk', 'newick')\n",
    "freq = freq.loc[[i.name for i in tree_gt.get_terminals()]]\n",
    "cells = list(freq.index)\n",
    "np.random.shuffle(cells)\n",
    "freq = freq.loc[cells]\n",
    "read_cnt, freq_samp = sequence_sim(freq, 50, 2.5, True, [1,2])\n",
    "\n",
    "read_cnt.to_csv(f'{data_path}/{simid}/sequence_readcount_130.csv')\n",
    "for suf, freq in zip(['_seq1', '_seq2'],freq_samp):\n",
    "    for cutoff in [0, 0.01]:\n",
    "        muts = freq>cutoff\n",
    "        muts = muts.iloc[:, np.where(muts.sum(0)>0)[0]]\n",
    "        muts = muts.astype(int).astype(str)\n",
    "        translation_table = str.maketrans({'1': 'A', '0': 'G'})\n",
    "        seqs = f'{muts.shape[0]} {muts.shape[1]}\\n'\n",
    "        for i in range(muts.shape[0]):\n",
    "            seqs += f'{muts.index[i]} '\n",
    "            seqs += ''.join(muts.iloc[i].to_numpy()).translate(translation_table)\n",
    "            seqs += '\\n'\n",
    "        with open(f'{data_path}/{simid}/mt_allmuts_130_{cutoff}{suf}.phy', 'w') as f:\n",
    "            f.write(seqs)\n"
   ]
  },
  {
   "cell_type": "code",
   "execution_count": 13,
   "id": "385d4431-c88c-47c5-938b-f6a91744a92d",
   "metadata": {},
   "outputs": [],
   "source": [
    "gen = 130\n",
    "for cutoff in [0, 0.01]:\n",
    "    for i in range(1,3):\n",
    "        fn = f'mt_allmuts_{gen}_{cutoff}_seq{i}.phy'\n",
    "        os.system(f'Rscript /home/wangkun/mtDNA_simulation/scripts/tree_reconstruct.r -p {data_path}/{simid} -f {fn}')"
   ]
  },
  {
   "cell_type": "code",
   "execution_count": 14,
   "id": "464b65d6-cf2d-4ab9-b066-f37c103386c4",
   "metadata": {},
   "outputs": [],
   "source": [
    "gen = 130\n",
    "for cutoff in [0, 0.01]:\n",
    "    fn = f'mt_allmuts_{gen}_{cutoff}.phy'\n",
    "    os.system(f'Rscript /home/wangkun/mtDNA_simulation/scripts/tree_reconstruct.r -p {data_path}/{simid} -f {fn}')"
   ]
  },
  {
   "cell_type": "code",
   "execution_count": 15,
   "id": "437ab4e4-4e22-45a3-885d-e3d4dd7a65de",
   "metadata": {},
   "outputs": [
    {
     "data": {
      "text/plain": [
       "0"
      ]
     },
     "execution_count": 15,
     "metadata": {},
     "output_type": "execute_result"
    }
   ],
   "source": [
    "def DNAmutation(tree, mut_rate=0.1):\n",
    "    mutations = dict()\n",
    "    global_mutid = -1\n",
    "    for i in tree.get_terminals():\n",
    "        mut = []\n",
    "        for j in tree.get_path(i):\n",
    "            if j in mutations:\n",
    "                mut = deepcopy(mutations[j])\n",
    "            else:\n",
    "                for _ in range(np.random.poisson(mut_rate*j.branch_length)):\n",
    "                    mut.append(global_mutid+1)\n",
    "                    global_mutid += 1\n",
    "                mutations[j] = deepcopy(mut)\n",
    "\n",
    "    mut_table = []\n",
    "    cell_names = []\n",
    "    for i in tree.get_terminals():\n",
    "        seq = np.zeros(global_mutid+1)\n",
    "        seq[mutations[i]]=1\n",
    "        mut_table.append(seq)\n",
    "        cell_names.append(i.name)\n",
    "    return pd.DataFrame(np.array(mut_table), index=cell_names)\n",
    "\n",
    "\n",
    "gen = 130\n",
    "tree = Phylo.read(f'{data_path}/{simid}/gt_tree_collapse.nwk', 'newick')\n",
    "ndna_mut = DNAmutation(tree, mut_rate=0.8)\n",
    "seqs = ndna_mut.astype(int)\n",
    "with open(f'{data_path}/{simid}/dna_mut{gen}.phy', 'w') as f:\n",
    "    f.write('{} {}\\n'.format(*seqs.shape))\n",
    "    for cell in seqs.index:\n",
    "        f.write('{} {}\\n'.format(cell, ''.join(seqs.loc[cell].astype(str)).replace('1', 'A').replace('0', 'G')))\n",
    "os.system(f'Rscript /home/wangkun/mtDNA_simulation/scripts/tree_reconstruct.r -p {data_path}/{simid} -f dna_mut{gen}.phy')"
   ]
  },
  {
   "cell_type": "code",
   "execution_count": 65,
   "id": "033e81e6-c548-41b8-a219-2062a8cf3b79",
   "metadata": {},
   "outputs": [],
   "source": [
    "def get_gt_dist(tree_mt, tree_gt, niter=100):\n",
    "    pairs = []\n",
    "    cnt = 0\n",
    "    tree_mt_copy = deepcopy(tree_mt)\n",
    "    all_cells = tree_mt_copy.get_terminals()\n",
    "    for i in tree_mt_copy.get_terminals():\n",
    "        i.branch_length=1\n",
    "    for i in tree_mt_copy.get_nonterminals():\n",
    "        i.branch_length=1\n",
    "    with tqdm(total=niter) as pbar:\n",
    "        while cnt < niter:\n",
    "            c1 = all_cells[np.random.choice(range(len(all_cells)))]\n",
    "            for anc in tree_mt_copy.get_path(c1)[::-1][1:]:\n",
    "                if len(anc.get_terminals())<2:\n",
    "                    continue\n",
    "                siss, dists = [], []\n",
    "                for sis in anc.get_terminals():\n",
    "                    siss.append(sis)\n",
    "                    dists.append(tree_mt_copy.distance(c1, sis))\n",
    "\n",
    "                c2 = siss[np.where(np.argsort(dists)==len(dists)-1)[0][0]]\n",
    "                pairs.append((c1.name, c2.name))\n",
    "                cnt += 1\n",
    "                pbar.update(1)\n",
    "                break\n",
    "            \n",
    "    dist_gt = []\n",
    "    for i in pairs:\n",
    "        c1, c2 = tree_gt.find_any(i[0]), tree_gt.find_any(i[1])\n",
    "        dist_gt.append(tree_gt.distance(c1, c2))\n",
    "    return np.array(dist_gt)/2"
   ]
  },
  {
   "cell_type": "code",
   "execution_count": 19,
   "id": "0562b0d5-99b9-43d9-95fb-b6cdab5dd267",
   "metadata": {},
   "outputs": [
    {
     "data": {
      "application/vnd.jupyter.widget-view+json": {
       "model_id": "863906453df148b6990e6eae3ddd5d0f",
       "version_major": 2,
       "version_minor": 0
      },
      "text/plain": [
       "  0%|          | 0/500 [00:00<?, ?it/s]"
      ]
     },
     "metadata": {},
     "output_type": "display_data"
    },
    {
     "data": {
      "application/vnd.jupyter.widget-view+json": {
       "model_id": "f632d14ba88b4b2c8813f47bd7b52495",
       "version_major": 2,
       "version_minor": 0
      },
      "text/plain": [
       "  0%|          | 0/500 [00:00<?, ?it/s]"
      ]
     },
     "metadata": {},
     "output_type": "display_data"
    },
    {
     "data": {
      "application/vnd.jupyter.widget-view+json": {
       "model_id": "0686ddf7a50a4a1992b49c0e4a6d1b3f",
       "version_major": 2,
       "version_minor": 0
      },
      "text/plain": [
       "  0%|          | 0/500 [00:00<?, ?it/s]"
      ]
     },
     "metadata": {},
     "output_type": "display_data"
    },
    {
     "data": {
      "application/vnd.jupyter.widget-view+json": {
       "model_id": "4078c5a50d394a35a404cafbf74ece02",
       "version_major": 2,
       "version_minor": 0
      },
      "text/plain": [
       "  0%|          | 0/500 [00:00<?, ?it/s]"
      ]
     },
     "metadata": {},
     "output_type": "display_data"
    },
    {
     "data": {
      "application/vnd.jupyter.widget-view+json": {
       "model_id": "ea2d33384d3c40d5965f510df6ce27bd",
       "version_major": 2,
       "version_minor": 0
      },
      "text/plain": [
       "  0%|          | 0/500 [00:00<?, ?it/s]"
      ]
     },
     "metadata": {},
     "output_type": "display_data"
    },
    {
     "data": {
      "application/vnd.jupyter.widget-view+json": {
       "model_id": "474e051e8bb749b2acd1f87aad1b9c9f",
       "version_major": 2,
       "version_minor": 0
      },
      "text/plain": [
       "  0%|          | 0/500 [00:00<?, ?it/s]"
      ]
     },
     "metadata": {},
     "output_type": "display_data"
    },
    {
     "data": {
      "application/vnd.jupyter.widget-view+json": {
       "model_id": "21580db4a1c64039b9f95c4e2407c74b",
       "version_major": 2,
       "version_minor": 0
      },
      "text/plain": [
       "  0%|          | 0/500 [00:00<?, ?it/s]"
      ]
     },
     "metadata": {},
     "output_type": "display_data"
    },
    {
     "data": {
      "application/vnd.jupyter.widget-view+json": {
       "model_id": "4457fc755dc949fa9e44387fba290a51",
       "version_major": 2,
       "version_minor": 0
      },
      "text/plain": [
       "  0%|          | 0/500 [00:00<?, ?it/s]"
      ]
     },
     "metadata": {},
     "output_type": "display_data"
    }
   ],
   "source": [
    "path = f'{data_path}/{simid}'\n",
    "tree_gt = Phylo.read(f'{path}/gt_tree_collapse.nwk', 'newick')\n",
    "tree_mt = Phylo.read(f'{path}/mt_allmuts_130_0.phy_nj.nwk', 'newick')\n",
    "tree_ndna = Phylo.read(f'{path}/dna_mut130.phy_nj.nwk', 'newick')\n",
    "tree_mt1 = Phylo.read(f'{path}/mt_allmuts_130_0.01.phy_nj.nwk', 'newick')\n",
    "tree_mt_seq1 = Phylo.read(f'{path}/mt_allmuts_130_0_seq1.phy_nj.nwk', 'newick')\n",
    "tree_mt1_seq1 = Phylo.read(f'{path}/mt_allmuts_130_0.01_seq1.phy_nj.nwk', 'newick')\n",
    "tree_mt_seq2 = Phylo.read(f'{path}/mt_allmuts_130_0_seq2.phy_nj.nwk', 'newick')\n",
    "tree_mt1_seq2 = Phylo.read(f'{path}/mt_allmuts_130_0.01_seq2.phy_nj.nwk', 'newick')\n",
    "\n",
    "niter = 500\n",
    "dist_mt100 = get_gt_dist(tree_mt, tree_gt, niter=niter)\n",
    "dist_ndna100 = get_gt_dist(tree_ndna, tree_gt, niter=niter)\n",
    "dist_mt1100 = get_gt_dist(tree_mt1, tree_gt, niter=niter)\n",
    "dist_mt_seq1100 = get_gt_dist(tree_mt_seq1, tree_gt, niter=niter)\n",
    "dist_mt1_seq1100 = get_gt_dist(tree_mt1_seq1, tree_gt, niter=niter)\n",
    "dist_mt_seq2100 = get_gt_dist(tree_mt_seq2, tree_gt, niter=niter)\n",
    "dist_mt1_seq2100 = get_gt_dist(tree_mt1_seq2, tree_gt, niter=niter)\n",
    "dist_gt100 = get_gt_dist(tree_gt, tree_gt, niter=niter)\n",
    "dist_random100 = []\n",
    "cells_gt = tree_gt.get_terminals()\n",
    "for _ in range(niter):\n",
    "    c1, c2 = np.random.choice(range(len(cells_gt)), 2, replace=False)\n",
    "    dist_random100.append(tree_gt.distance(cells_gt[c1], cells_gt[c2])/2)"
   ]
  },
  {
   "cell_type": "code",
   "execution_count": 28,
   "id": "c21a9cae-f06a-4679-8999-8aef91a7b40a",
   "metadata": {},
   "outputs": [],
   "source": [
    "dist_random100 = []\n",
    "cells_gt = tree.get_terminals()\n",
    "for _ in range(niter):\n",
    "    c1, c2 = np.random.choice(range(len(cells_gt)), 2, replace=False)\n",
    "    dist_random100.append(tree.distance(cells_gt[c1], cells_gt[c2])/2)"
   ]
  },
  {
   "cell_type": "code",
   "execution_count": 61,
   "id": "25e79574-7cd2-4a76-a19f-ccb7e34735bf",
   "metadata": {},
   "outputs": [],
   "source": [
    "tree_gt = Phylo.read('/home/wangkun/mtDNA_simulation/data/130_gen/gt_tree_collapse.nwk', 'newick')"
   ]
  },
  {
   "cell_type": "code",
   "execution_count": 62,
   "id": "dd627ce6-bae3-4642-b134-85b24a19c3ba",
   "metadata": {},
   "outputs": [
    {
     "data": {
      "application/vnd.jupyter.widget-view+json": {
       "model_id": "153889ba70b843618ca2a0965c405ad0",
       "version_major": 2,
       "version_minor": 0
      },
      "text/plain": [
       "  0%|          | 0/500 [00:00<?, ?it/s]"
      ]
     },
     "metadata": {},
     "output_type": "display_data"
    }
   ],
   "source": [
    "dist_gt100 = get_gt_dist(tree_gt, tree_gt, niter=niter)"
   ]
  },
  {
   "cell_type": "code",
   "execution_count": 64,
   "id": "1ae92236-4bc2-4ece-95b4-55fe05e8fe98",
   "metadata": {},
   "outputs": [
    {
     "data": {
      "image/png": "[encoded data removed]",
      "text/plain": [
       "<Figure size 1000x400 with 1 Axes>"
      ]
     },
     "metadata": {},
     "output_type": "display_data"
    }
   ],
   "source": [
    "fig, ax = plt.subplots(figsize=(10,4))\n",
    "# colors=sns.color_palette(['tab:blue','tab:blue','tab:blue','tab:orange','tab:blue','tab:orange'])\n",
    "medianprops = dict(color='black')\n",
    "\n",
    "bp = ax.boxplot([dist_gt100, dist_ndna100, \n",
    "                 dist_mt100, dist_mt_seq1100, dist_mt_seq2100, \n",
    "                 dist_mt1100, dist_mt1_seq1100, dist_mt1_seq2100, \n",
    "                 dist_random100], widths=0.4, patch_artist=True, medianprops=medianprops,showfliers=False,\n",
    "                positions=[1,2.3,3.5,4,4.5,6.5,7,7.5,9]\n",
    "               )\n",
    "\n",
    "colors = ['#3a729f','#3a729f','#3a729f','#da8435', '#5ea769','#3a729f','#da8435', '#5ea769', '#3a729f'] \n",
    "for patch, color in zip(bp['boxes'], colors):\n",
    "    patch.set_facecolor(color)\n",
    "legend_elements = []\n",
    "legend_elements.append(Patch(facecolor='#3a729f',label='All'))\n",
    "legend_elements.append(Patch(facecolor='#da8435',label='50X (1-read support)'))\n",
    "legend_elements.append(Patch(facecolor='#5ea769',label='50X (2-reads support)'))\n",
    "ax.legend(handles=legend_elements, title='Sequencing', loc=2)\n",
    "ax.set_xticks([1,2.3,4, 7, 9], \n",
    "              ['Terminal\\ncell pairs\\n(Ground truth)','nDNA\\ntree','mtDNA tree\\n(all VAF)', 'mtDNA tree\\n(VAF>0.01)', 'Random\\ncell pairs'])\n",
    "ax.set_ylabel('Terminal branch lengths\\nin ground-truth tree\\nfor observed closest cell pairs')\n",
    "# ax.set_title('Root cell heteroplasmy = 10')\n",
    "ax.spines['right'].set_visible(False)\n",
    "ax.spines['top'].set_visible(False)\n",
    "plt.tight_layout()\n",
    "# plt.savefig('../figs/terminal_bl_h100_r2.pdf')"
   ]
  },
  {
   "cell_type": "code",
   "execution_count": 51,
   "id": "7135aa27-f54e-41eb-8df1-0b12f242cddb",
   "metadata": {},
   "outputs": [
    {
     "data": {
      "text/plain": [
       "1.332"
      ]
     },
     "execution_count": 51,
     "metadata": {},
     "output_type": "execute_result"
    }
   ],
   "source": [
    "np.mean(dist_gt100)"
   ]
  },
  {
   "cell_type": "code",
   "execution_count": 52,
   "id": "8b676b8f-44bf-4e00-94a4-327d5f42f95f",
   "metadata": {},
   "outputs": [
    {
     "data": {
      "text/plain": [
       "4.5"
      ]
     },
     "execution_count": 52,
     "metadata": {},
     "output_type": "execute_result"
    }
   ],
   "source": [
    "np.max(dist_gt100)"
   ]
  },
  {
   "cell_type": "code",
   "execution_count": 53,
   "id": "e9f82be8-0156-4d10-937a-355eef4865ee",
   "metadata": {},
   "outputs": [
    {
     "data": {
      "text/plain": [
       "1.0"
      ]
     },
     "execution_count": 53,
     "metadata": {},
     "output_type": "execute_result"
    }
   ],
   "source": [
    "np.min(dist_gt100)"
   ]
  },
  {
   "cell_type": "code",
   "execution_count": null,
   "id": "615e2d6b-7b92-455e-a9bf-5c3dea977c9e",
   "metadata": {},
   "outputs": [],
   "source": []
  },
  {
   "cell_type": "code",
   "execution_count": 33,
   "id": "8ea25822-5db5-4324-ba71-1de6a1d2814c",
   "metadata": {},
   "outputs": [
    {
     "data": {
      "application/vnd.jupyter.widget-view+json": {
       "model_id": "f1ac7dd7f7d94d27807b70b57a0bd43d",
       "version_major": 2,
       "version_minor": 0
      },
      "text/plain": [
       "  0%|          | 0/2000 [00:00<?, ?it/s]"
      ]
     },
     "metadata": {},
     "output_type": "display_data"
    },
    {
     "name": "stderr",
     "output_type": "stream",
     "text": [
      "/home/wangkun/mtDNA_simulation/scripts/../mtDNAsim/sim_utils.py:793: RuntimeWarning: invalid value encountered in divide\n",
      "  freq_samp = rc/depth\n"
     ]
    },
    {
     "data": {
      "image/png": "[encoded data removed]",
      "text/plain": [
       "<Figure size 630x300 with 1 Axes>"
      ]
     },
     "metadata": {},
     "output_type": "display_data"
    }
   ],
   "source": [
    "path = f'{data_path}/{simid}/'\n",
    "if '_100' in path:\n",
    "    hp = 100\n",
    "else:\n",
    "    hp = 10\n",
    "# for gen in [30, 130, 330]:\n",
    "gen = 130\n",
    "mts = pickle.load(open(f'{path}mt_allmuts_{gen}.pkl', 'rb'))\n",
    "mt_freq = sparse_freq(mts)\n",
    "if gen == 30:\n",
    "    tree = Phylo.read(f'{path}/gt_tree.nwk', 'newick')\n",
    "    sel_cells = [i.name for i in tree.get_terminals()]\n",
    "    mt_freq = mt_freq.loc[sel_cells]\n",
    "\n",
    "mt_freq_samp1, mt_freq_samp2 = sequence_sim(mt_freq, 50, n=2.5, min_reads=[1,2])\n",
    "\n",
    "num_vaf = []\n",
    "for i in [0,0.01,0.05,0.1]:\n",
    "    for freq_i in (mt_freq, mt_freq_samp1, mt_freq_samp2):\n",
    "        num_vaf.append(np.sum(freq_i>i, axis=1).to_numpy())\n",
    "fig, ax = plt.subplots(1, 1, figsize=(6.3, 3))\n",
    "medianprops = dict(color='black')\n",
    "bp = ax.boxplot(num_vaf, positions=[0.5,1,1.5,3.5,4,4.5,6.5,7,7.5,9.5,10,10.5],\n",
    "                widths=0.3, patch_artist=True, medianprops=medianprops,showfliers=False)\n",
    "ax.set_xlabel('VAF')\n",
    "ax.spines['right'].set_visible(False)\n",
    "ax.spines['top'].set_visible(False)\n",
    "colors=['#3a729f','#da8435', '#5ea769','#3a729f','#da8435','#5ea769','#3a729f','#da8435','#5ea769','#3a729f','#da8435','#5ea769']\n",
    "for patch, color in zip(bp['boxes'], colors):\n",
    "    patch.set_facecolor(color)\n",
    "ax.set_ylabel('# of mutations per cell')\n",
    "legend_elements = []\n",
    "legend_elements.append(Patch(facecolor='#3a729f',label='All'))\n",
    "legend_elements.append(Patch(facecolor='#da8435',label='50X (1-read support)'))\n",
    "legend_elements.append(Patch(facecolor='#5ea769',label='50X (2-reads support)'))\n",
    "ax.legend(handles=legend_elements, title='Sequencing', loc=1)\n",
    "ax.set_xticks([1,4,7,10], \n",
    "              ['$>0$', '$>0.01$', '$>0.05$', '$>0.1$'])\n",
    "plt.tight_layout()\n",
    "# plt.savefig(f'../figs/vaf_{gen}_heterp{hp}_r2.pdf')"
   ]
  },
  {
   "cell_type": "code",
   "execution_count": 37,
   "id": "cf279e8b-9151-4e92-997b-904e7647f811",
   "metadata": {},
   "outputs": [],
   "source": [
    "from collections import Counter\n",
    "gen = 130\n",
    "clones = [i.name.split('>')[0]+'>' for i in tree_gt.get_terminals()]\n",
    "clones_cnt = Counter(clones)\n",
    "# clones = list(set([i.name.split('>')[0]+'>' for i in treegt.get_terminals()]))\n",
    "# colors = ['#5D8AA8','#E32636','#FFBF00','#A4C639','#FBCEB1','#7FFFD4','#4B5320','#3B444B','#E9D66B','#B2BEB5','#FF9966','#6D351A','#007FFF','#89CFF0','#98777B','#DE5D83','#66FF00','#BF94E4','#FF007F','#004225','#FFC1CC','#800020']\n",
    "colors = ['#5BD17E','#D6D0FA','#FA937F','#C6E7CE','#E48DD0','#FFC33C','#8AE0DF','#82B329','#7475E6','#FBE2B4','#8F4851','#2040BD','#A5BFFA','#B500EB','#00992B','#724094','#FC6621','#CC2A27','#C2459F','#670755']        \n",
    "header = ['DATASET_COLORSTRIP','SEPARATOR SPACE','DATASET_LABEL label1','COLOR #ff0000','STRIP_WIDTH 120', 'DATA']\n",
    "# header = []\n",
    "if len(clones_cnt.keys()) <= 20:\n",
    "    color_tab = dict(zip([i[0] for i in clones_cnt.most_common()], colors[:len(clones_cnt.keys())]))\n",
    "    with open(f'{path}/tree_color{gen}.txt', 'w') as f:\n",
    "        f.write('\\n'.join(header))\n",
    "        f.write('\\n')\n",
    "        for i in tree_gt.get_terminals():\n",
    "            f.write(f\"{i.name} {color_tab[i.name.split('>')[0]+'>']}\\n\")\n",
    "else:\n",
    "    progenitors = [tree_gt.root]\n",
    "    iters = 0\n",
    "    while len(progenitors)<20:\n",
    "        iters += 1\n",
    "        if iters > 100:\n",
    "            print('unsuccess')\n",
    "            break\n",
    "        try:\n",
    "            progenitors.append(progenitors[0].clades[0])\n",
    "            progenitors.append(progenitors[0].clades[1])\n",
    "        except:\n",
    "            pass\n",
    "        progenitors.pop(0)\n",
    "    cnt = [len(i.get_terminals()) for i in progenitors]\n",
    "    with open(f'{path}/tree_color{gen}.txt', 'w') as f:\n",
    "        f.write('\\n'.join(header))\n",
    "        f.write('\\n')\n",
    "        for ind, i in enumerate(np.argsort(cnt)[::-1]):\n",
    "            for j in progenitors[i].get_terminals():\n",
    "                f.write(f'{j.name} {colors[ind]}\\n')\n"
   ]
  },
  {
   "cell_type": "code",
   "execution_count": null,
   "id": "b8a1d578-05f8-4e4d-9397-398b2cdb5b06",
   "metadata": {},
   "outputs": [],
   "source": []
  }
 ],
 "metadata": {
  "kernelspec": {
   "display_name": "Python 3 (ipykernel)",
   "language": "python",
   "name": "python3"
  },
  "language_info": {
   "codemirror_mode": {
    "name": "ipython",
    "version": 3
   },
   "file_extension": ".py",
   "mimetype": "text/x-python",
   "name": "python",
   "nbconvert_exporter": "python",
   "pygments_lexer": "ipython3",
   "version": "3.9.12"
  }
 },
 "nbformat": 4,
 "nbformat_minor": 5
}
