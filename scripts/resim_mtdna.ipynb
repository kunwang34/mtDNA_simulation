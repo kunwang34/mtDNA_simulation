{
 "cells": [
  {
   "cell_type": "code",
   "execution_count": 1,
   "id": "5456d81e-b912-4d91-868b-585161324c3c",
   "metadata": {},
   "outputs": [
    {
     "name": "stderr",
     "output_type": "stream",
     "text": [
      "/home/wangkun/mtDNA_simulation/scripts/../mtDNAsim/sim_utils.py:7: TqdmExperimentalWarning: Using `tqdm.autonotebook.tqdm` in notebook mode. Use `tqdm.tqdm` instead to force console mode (e.g. in jupyter console)\n",
      "  from tqdm.autonotebook import tqdm\n"
     ]
    }
   ],
   "source": [
    "import sys\n",
    "sys.path.append('..')\n",
    "from mtDNAsim import *\n",
    "import pandas as pd\n",
    "import numpy as np\n",
    "from copy import deepcopy\n",
    "from collections import Counter\n",
    "import argparse\n",
    "import pickle"
   ]
  },
  {
   "cell_type": "code",
   "execution_count": 2,
   "id": "358abdf5-e89a-47c2-a82f-a152fe049d9b",
   "metadata": {},
   "outputs": [],
   "source": [
    "data_path = '/data3/wangkun/mtsim_res/240705/'\n",
    "model = 'linear'\n",
    "bn = 'mid'\n",
    "filename = '759180'"
   ]
  },
  {
   "cell_type": "code",
   "execution_count": 3,
   "id": "339ddbbf-b822-4d8c-9d1b-d9cd66b6f2fa",
   "metadata": {},
   "outputs": [],
   "source": [
    "tree_file = f\"{data_path}/{model}_{bn.replace('mid', '')}/{filename}/linear_tree_gt_{filename}.nwk\"\n",
    "phylo_tree, branch_colors = loadtree(tree_file)"
   ]
  },
  {
   "cell_type": "code",
   "execution_count": 6,
   "id": "6335f005-8245-4474-9648-ecb80f377432",
   "metadata": {},
   "outputs": [],
   "source": [
    "mt_cn = {\n",
    "    'mid':lambda x: 1.52 if x <= 10 else (2.85 if x <= 20 else 2),\n",
    "    'const':lambda x: 2 \n",
    "}"
   ]
  },
  {
   "cell_type": "code",
   "execution_count": 7,
   "id": "f1fd6556-b562-458d-a146-0b08aa9df3fa",
   "metadata": {},
   "outputs": [
    {
     "data": {
      "application/vnd.jupyter.widget-view+json": {
       "model_id": "11f4050674e543f4800256fff30d383b",
       "version_major": 2,
       "version_minor": 0
      },
      "text/plain": [
       "  0%|          | 0/499 [00:00<?, ?it/s]"
      ]
     },
     "metadata": {},
     "output_type": "display_data"
    },
    {
     "data": {
      "application/vnd.jupyter.widget-view+json": {
       "model_id": "eddae353108b4031ae38b2651bbedb35",
       "version_major": 2,
       "version_minor": 0
      },
      "text/plain": [
       "Simulating MT mutation::   0%|          | 0/26309 [00:00<?, ?it/s]"
      ]
     },
     "metadata": {},
     "output_type": "display_data"
    }
   ],
   "source": [
    "for imr in [0.1]:\n",
    "    success = 0\n",
    "    while not success:\n",
    "        try:\n",
    "            mt_muts, mutid = mtmutation(phylo_tree, mut_rate=0.0016, init_mut_rate=imr, mt_copynumber=mt_cn[bn], nmts=500)\n",
    "            success = 1\n",
    "        except:\n",
    "            pass\n",
    "    pickle.dump(mt_muts, open(f\"{data_path}/{model}_{bn.replace('mid', '')}/{filename}/mt_allmuts_{bn}_{imr}_{filename}_0.8.pkl\", 'wb'))"
   ]
  },
  {
   "cell_type": "code",
   "execution_count": null,
   "id": "4fbb12c5-8e78-427e-872e-f2cb46464293",
   "metadata": {},
   "outputs": [],
   "source": []
  },
  {
   "cell_type": "code",
   "execution_count": null,
   "id": "6c970ef7-447f-4ca0-99f2-819e983685e9",
   "metadata": {},
   "outputs": [],
   "source": []
  },
  {
   "cell_type": "code",
   "execution_count": null,
   "id": "1324a27b-8934-4fde-8373-86000fb5df37",
   "metadata": {},
   "outputs": [],
   "source": []
  }
 ],
 "metadata": {
  "kernelspec": {
   "display_name": "Python 3 (ipykernel)",
   "language": "python",
   "name": "python3"
  },
  "language_info": {
   "codemirror_mode": {
    "name": "ipython",
    "version": 3
   },
   "file_extension": ".py",
   "mimetype": "text/x-python",
   "name": "python",
   "nbconvert_exporter": "python",
   "pygments_lexer": "ipython3",
   "version": "3.9.12"
  }
 },
 "nbformat": 4,
 "nbformat_minor": 5
}
