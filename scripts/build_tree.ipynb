{
 "cells": [
  {
   "cell_type": "code",
   "execution_count": 5,
   "id": "7b363b7d-fdeb-4c90-8dc8-39f0fd7980bd",
   "metadata": {},
   "outputs": [
    {
     "name": "stderr",
     "output_type": "stream",
     "text": [
      "/home/wangkun/mtDNA_simulation/mtDNAsim/sim_utils.py:7: TqdmExperimentalWarning: Using `tqdm.autonotebook.tqdm` in notebook mode. Use `tqdm.tqdm` instead to force console mode (e.g. in jupyter console)\n",
      "  from tqdm.autonotebook import tqdm\n"
     ]
    }
   ],
   "source": [
    "import os\n",
    "import pickle\n",
    "os.chdir('../')\n",
    "from mtDNAsim import *"
   ]
  },
  {
   "cell_type": "code",
   "execution_count": 91,
   "id": "c48b20ca-f059-4879-b59f-feb92ecb270d",
   "metadata": {},
   "outputs": [],
   "source": [
    "path = '/data3/wangkun/mtsim_res/240705/linear_const'\n",
    "simid = '5561'"
   ]
  },
  {
   "cell_type": "code",
   "execution_count": 101,
   "id": "3cc1295b-0cea-461a-a98e-b5a4519ce0a5",
   "metadata": {},
   "outputs": [],
   "source": [
    "gen, p = 100, 0.1\n",
    "gt_tree = loadtree(f'{path}/{simid}/clonal_expansion_tree_{p}_{gen}.nwk')[0]\n",
    "for i in gt_tree.get_terminals():\n",
    "    if i.name.count('_')==1:\n",
    "        i.name = f'{i.name}_0'"
   ]
  },
  {
   "cell_type": "code",
   "execution_count": 94,
   "id": "19011ae6-1eab-4170-b514-fa55e090d9e8",
   "metadata": {},
   "outputs": [
    {
     "data": {
      "application/vnd.jupyter.widget-view+json": {
       "model_id": "b7cce1fc75b246478eb0a8333402cc87",
       "version_major": 2,
       "version_minor": 0
      },
      "text/plain": [
       "  0%|          | 0/5542 [00:00<?, ?it/s]"
      ]
     },
     "metadata": {},
     "output_type": "display_data"
    }
   ],
   "source": [
    "mts = pickle.load(open(f'{path}/{simid}/mt_allmuts_const_0.1_{simid}_{gen}_0.4_{p}_rs.pkl', 'rb'))\n",
    "mts = rs_cvt(mts)\n",
    "mt_freq = sparse_freq(mts, df=True)"
   ]
  },
  {
   "cell_type": "code",
   "execution_count": null,
   "id": "d2748c77-4f2b-4310-ac31-13961cceab8c",
   "metadata": {},
   "outputs": [],
   "source": []
  },
  {
   "cell_type": "code",
   "execution_count": null,
   "id": "d219bf4e-581c-43bd-961f-35aba04db125",
   "metadata": {},
   "outputs": [],
   "source": [
    "for gen in [100, 400]:\n",
    "    for p in [0.1, 0.9]:\n",
    "        mts = pickle.load(open(f'{path}/{simid}/mt_allmuts_const_0.1_{simid}_{gen}_0.4_{p}_rs.pkl', 'rb'))\n",
    "        mts = rs_cvt(mts)\n",
    "        mt_freq = sparse_freq(mts, df=True)\n",
    "        gt_tree = loadtree(f'{path}/{simid}/clonal_expansion_tree_{p}_{gen}.nwk')[0]\n",
    "        for i in gt_tree.get_terminals():\n",
    "            if i.name.count('_')==1:\n",
    "                i.name = f'{i.name}_0'\n",
    "        mt_freq = mt_freq.loc[[i.name for i in gt_tree.get_terminals()]]\n",
    "        for cutoff in [0, 0.01]:\n",
    "            muts = mt_freq>cutoff\n",
    "            muts = muts.astype(int).astype(str)\n",
    "            translation_table = str.maketrans({'1': 'A', '0': 'G'})\n",
    "            seqs = f'{mt_freq.shape[0]} {mt_freq.shape[1]}\\n'\n",
    "            for i in range(mt_freq.shape[0]):\n",
    "                seqs += f'{mt_freq.index[i]} '\n",
    "                seqs += ''.join(muts.iloc[i].to_numpy()).translate(translation_table)\n",
    "                seqs += '\\n'\n",
    "            with open(f'{path}/{simid}/mt_allmuts_const_0.1_{simid}_{gen}_0.4_{p}_rs_{cutoff}.phy', 'w') as f:\n",
    "                f.write(seqs)"
   ]
  },
  {
   "cell_type": "code",
   "execution_count": null,
   "id": "d854c754-95e5-48f0-bda7-2463fd260acb",
   "metadata": {},
   "outputs": [],
   "source": [
    "sl_script = [\n",
    "'#!/bin/bash',\n",
    "f'#SBATCH -J build_tree',\n",
    "'#SBATCH -p all',\n",
    "'#SBATCH -N 1',\n",
    "'#SBATCH -n 1',\n",
    "'#SBATCH --mem=10G',\n",
    "'#SBATCH -t 0',\n",
    "'#SBATCH -o oe/%x-%j.log ',\n",
    "'#SBATCH -e oe/%x-%j.err' ]"
   ]
  },
  {
   "cell_type": "code",
   "execution_count": null,
   "id": "abae1231-d920-4871-8ae3-d11b44b27454",
   "metadata": {},
   "outputs": [],
   "source": []
  },
  {
   "cell_type": "code",
   "execution_count": 63,
   "id": "edb8a78c-b7c7-4766-92e8-b6ed04ac1d0c",
   "metadata": {},
   "outputs": [],
   "source": [
    "mts = pickle.load(open(f'{path}/{simid}/mt_allmuts_const_0.1_{simid}_100_0.4_0.1_rs.pkl', 'rb'))\n",
    "mts = rs_cvt(mts)\n",
    "mt_freq = sparse_freq(mts, df=True)\n",
    "muts = mt_freq>0\n",
    "muts = muts.astype(int).astype(str)\n",
    "translation_table = str.maketrans({'1': 'A', '0': 'G'})\n",
    "seqs = f'{mt_freq.shape[0]} {mt_freq.shape[1]}\\n'\n",
    "for i in range(mt_freq.shape[0]):\n",
    "    seqs += f'{mt_freq.index[i]} '\n",
    "    seqs += ''.join(muts.iloc[i].to_numpy()).translate(translation_table)\n",
    "    seqs += '\\n'\n",
    "with open(f'./scripts/mt_allmuts_const_0.1_{simid}_100_0.4_0.1_rs_0.phy', 'w') as f:\n",
    "    f.write(seqs)"
   ]
  },
  {
   "cell_type": "code",
   "execution_count": null,
   "id": "a5288cbf-1482-4708-b13e-fc0588907cf6",
   "metadata": {},
   "outputs": [],
   "source": []
  },
  {
   "cell_type": "code",
   "execution_count": 75,
   "id": "4baa4a2f-ba45-4d71-a240-21e0eae5a0cf",
   "metadata": {},
   "outputs": [],
   "source": [
    "path = '/data3/wangkun/mtsim_res/240705/linear_const'\n",
    "for i in os.listdir(path):\n",
    "    for gen in [100,400]:\n",
    "        for s in [0.1, 0.9]:\n",
    "            tree = loadtree(f'{path}/{i}/clonal_expansion_tree_{s}_{gen}.nwk')[0]\n",
    "            seqs = DNAmutation(tree, mut_rate=3.2)\n",
    "            seqs = seqs.astype(int)\n",
    "            with open(f'{path}/{i}/dna_mut3.2_{s}_{gen}.phy', 'w') as f:\n",
    "                f.write('{} {}\\n'.format(*seqs.shape))\n",
    "                for cell in seqs.index:\n",
    "                    f.write('{} {}\\n'.format(cell[1:-1], ''.join(seqs.loc[cell].astype(str)).replace('0', 'A').replace('1', 'G')))"
   ]
  },
  {
   "cell_type": "code",
   "execution_count": null,
   "id": "b4a267ce-2c55-4953-a410-ef5eec9332d9",
   "metadata": {},
   "outputs": [],
   "source": []
  },
  {
   "cell_type": "code",
   "execution_count": 111,
   "id": "447937fa-fc9f-4e20-801f-34ab137c2f6b",
   "metadata": {},
   "outputs": [],
   "source": [
    "path = '/data3/wangkun/mtsim_res/240705/linear_'\n",
    "for i in os.listdir(path):\n",
    "    for gen in [100,400]:\n",
    "        for s in [0.1, 0.9]:\n",
    "            tree = loadtree(f'{path}/{i}/clonal_expansion_tree_{s}_{gen}.nwk')[0]\n",
    "            seqs = DNAmutation(tree, mut_rate=0.8)\n",
    "            seqs = seqs.astype(int)\n",
    "            with open(f'{path}/{i}/dna_mut0.8_{s}_{gen}.phy', 'w') as f:\n",
    "                f.write('{} {}\\n'.format(*seqs.shape))\n",
    "                for cell in seqs.index:\n",
    "                    f.write('{} {}\\n'.format(cell, ''.join(seqs.loc[cell].astype(str)).replace('0', 'A').replace('1', 'G')))"
   ]
  },
  {
   "cell_type": "code",
   "execution_count": 112,
   "id": "e9db4359-07d6-4960-acb0-40512b28f320",
   "metadata": {},
   "outputs": [],
   "source": [
    "path = '/data3/wangkun/mtsim_res/240705/linear_const'\n",
    "for i in os.listdir(path):\n",
    "    for gen in [100,400]:\n",
    "        for s in [0.1, 0.9]:\n",
    "            tree = loadtree(f'{path}/{i}/clonal_expansion_tree_{s}_{gen}.nwk')[0]\n",
    "            seqs = DNAmutation(tree, mut_rate=0.8)\n",
    "            seqs = seqs.astype(int)\n",
    "            with open(f'{path}/{i}/dna_mut0.8_{s}_{gen}.phy', 'w') as f:\n",
    "                f.write('{} {}\\n'.format(*seqs.shape))\n",
    "                for cell in seqs.index:\n",
    "                    f.write('{} {}\\n'.format(cell, ''.join(seqs.loc[cell].astype(str)).replace('0', 'A').replace('1', 'G')))"
   ]
  },
  {
   "cell_type": "code",
   "execution_count": 88,
   "id": "94e12b88-4605-494f-b9b5-0a9fb57a7edb",
   "metadata": {},
   "outputs": [],
   "source": [
    "def DNAmutation(tree, mut_rate=0.1):\n",
    "    mutations = dict()\n",
    "    global_mutid = -1\n",
    "    for i in tree.get_terminals():\n",
    "        mut = []\n",
    "        for j in tree.get_path(i):\n",
    "            if j in mutations:\n",
    "                mut = deepcopy(mutations[j])\n",
    "            else:\n",
    "                for _ in range(np.random.poisson(mut_rate)):\n",
    "                    mut.append(global_mutid+1)\n",
    "                    global_mutid += 1\n",
    "                mutations[j] = deepcopy(mut)\n",
    "\n",
    "    mut_table = []\n",
    "    cell_names = []\n",
    "    for i in tree.get_terminals():\n",
    "        seq = np.zeros(global_mutid+1)\n",
    "        seq[mutations[i]]=1\n",
    "        mut_table.append(seq)\n",
    "        cell_names.append(i.name)\n",
    "    return pd.DataFrame(np.array(mut_table), index=cell_names)"
   ]
  },
  {
   "cell_type": "code",
   "execution_count": 87,
   "id": "02904b32-ed34-4ec6-a50c-4491f7272219",
   "metadata": {},
   "outputs": [
    {
     "data": {
      "text/plain": [
       "[Clade(branch_length=1.0, confidence=1.0),\n",
       " Clade(branch_length=1.0, confidence=1.0),\n",
       " Clade(branch_length=1.0, confidence=1.0),\n",
       " Clade(branch_length=1.0, confidence=1.0),\n",
       " Clade(branch_length=1.0, confidence=1.0),\n",
       " Clade(branch_length=1.0, confidence=1.0),\n",
       " Clade(branch_length=1.0, confidence=1.0),\n",
       " Clade(branch_length=1.0, confidence=1.0),\n",
       " Clade(branch_length=1.0, confidence=1.0),\n",
       " Clade(branch_length=1.0, confidence=1.0),\n",
       " Clade(branch_length=1.0, confidence=1.0),\n",
       " Clade(branch_length=1.0, confidence=1.0),\n",
       " Clade(branch_length=1.0, confidence=1.0),\n",
       " Clade(branch_length=1.0, confidence=1.0),\n",
       " Clade(branch_length=1.0, confidence=1.0),\n",
       " Clade(branch_length=1.0, confidence=1.0),\n",
       " Clade(branch_length=1.0, name='<18_3508>_24')]"
      ]
     },
     "execution_count": 87,
     "metadata": {},
     "output_type": "execute_result"
    }
   ],
   "source": [
    "tree.get_path(tree.get_terminals()[0])"
   ]
  },
  {
   "cell_type": "code",
   "execution_count": null,
   "id": "53d50ab9-3ba1-4e95-8b76-74d8740d2f92",
   "metadata": {},
   "outputs": [],
   "source": []
  },
  {
   "cell_type": "code",
   "execution_count": null,
   "id": "88fd20f2-4bae-481e-b07f-302acc5201d4",
   "metadata": {},
   "outputs": [],
   "source": []
  },
  {
   "cell_type": "code",
   "execution_count": 67,
   "id": "7bff0c4c-32d3-4dfd-aa8b-ceb1be054f2a",
   "metadata": {},
   "outputs": [],
   "source": [
    "tree = loadtree('/data3/wangkun/mtsim_res/240705/linear_/841652/clonal_expansion_tree_0.9_400.nwk')[0]"
   ]
  },
  {
   "cell_type": "code",
   "execution_count": 72,
   "id": "aadf6099-798b-49fd-bb55-446f58fce3bf",
   "metadata": {},
   "outputs": [],
   "source": [
    "seqs = DNAmutation(tree, mut_rate=3.2)"
   ]
  },
  {
   "cell_type": "code",
   "execution_count": 68,
   "id": "6493d7e4-d3f2-44db-8473-358c3e53ac54",
   "metadata": {},
   "outputs": [
    {
     "data": {
      "text/plain": [
       "Tree(rooted=False, weight=1.0)"
      ]
     },
     "execution_count": 68,
     "metadata": {},
     "output_type": "execute_result"
    }
   ],
   "source": [
    "seqs = DNAmutation(tree, mut_rate=3.2)\n",
    "seqs = seqs.astype(int)\n",
    "\n",
    "with open(f'../results/dna_mut0.5_{filename}.phy', 'w') as f:\n",
    "    f.write('{} {}\\n'.format(*seqs.shape))\n",
    "    for cell in seqs.index:\n",
    "        f.write('{} {}\\n'.format(cell, ''.join(seqs.loc[cell].astype(str)).replace('0', 'A').replace('1', 'G')))\n",
    "        "
   ]
  },
  {
   "cell_type": "code",
   "execution_count": 78,
   "id": "f10404be-09da-4776-ac14-6d5e7c2201e7",
   "metadata": {},
   "outputs": [
    {
     "data": {
      "text/plain": [
       "'<8_194>_5'"
      ]
     },
     "execution_count": 78,
     "metadata": {},
     "output_type": "execute_result"
    }
   ],
   "source": [
    "cell"
   ]
  },
  {
   "cell_type": "code",
   "execution_count": null,
   "id": "5a94f806-1730-4d8d-a2a7-e1c14eabefe4",
   "metadata": {},
   "outputs": [],
   "source": []
  },
  {
   "cell_type": "code",
   "execution_count": null,
   "id": "292a84ee-aa8f-47b1-834f-31393c25b31c",
   "metadata": {},
   "outputs": [],
   "source": [
    "os.system(f'Rscript tree_reconstruct.r -f {fn} -p {path}')"
   ]
  }
 ],
 "metadata": {
  "kernelspec": {
   "display_name": "Python 3 (ipykernel)",
   "language": "python",
   "name": "python3"
  },
  "language_info": {
   "codemirror_mode": {
    "name": "ipython",
    "version": 3
   },
   "file_extension": ".py",
   "mimetype": "text/x-python",
   "name": "python",
   "nbconvert_exporter": "python",
   "pygments_lexer": "ipython3",
   "version": "3.9.12"
  }
 },
 "nbformat": 4,
 "nbformat_minor": 5
}
