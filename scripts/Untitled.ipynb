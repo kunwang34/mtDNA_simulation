{
 "cells": [
  {
   "cell_type": "code",
   "execution_count": 30,
   "id": "4c762a34-7428-4624-a5d3-557c4141b315",
   "metadata": {},
   "outputs": [],
   "source": [
    "# import seaborn as sns\n",
    "import matplotlib.pyplot as plt\n",
    "import numpy as np\n",
    "from collections import Counter"
   ]
  },
  {
   "cell_type": "code",
   "execution_count": 11,
   "id": "b217c480-fb0c-4691-bea2-2b0adcb4f893",
   "metadata": {},
   "outputs": [],
   "source": [
    "plt.rcParams['font.size'] = 12"
   ]
  },
  {
   "cell_type": "code",
   "execution_count": 2,
   "id": "bd6b30db-a364-425f-8a97-c43b7388eb64",
   "metadata": {},
   "outputs": [],
   "source": [
    "ce = [2,1,5,2,1,2,1,1,2,1,1,1,]\n",
    "cm = [5]*25"
   ]
  },
  {
   "cell_type": "code",
   "execution_count": 21,
   "id": "1a6d49f6-93f8-4094-8179-2137fa1a5356",
   "metadata": {},
   "outputs": [],
   "source": [
    "cnt = Counter(ce)\n",
    "ce_bp = []\n",
    "for i in range(5):\n",
    "    ce_bp.append(cnt[i+1])"
   ]
  },
  {
   "cell_type": "code",
   "execution_count": 23,
   "id": "5716e7b6-d55e-4f31-9496-70646071dba7",
   "metadata": {},
   "outputs": [],
   "source": [
    "cnt = Counter(cm)\n",
    "cm_bp = []\n",
    "for i in range(5):\n",
    "    cm_bp.append(cnt[i+1])"
   ]
  },
  {
   "cell_type": "code",
   "execution_count": 33,
   "id": "fd538496-8b8c-45be-92a6-490e6f3b8e59",
   "metadata": {},
   "outputs": [
    {
     "data": {
      "text/plain": [
       "array([1, 2])"
      ]
     },
     "execution_count": 33,
     "metadata": {},
     "output_type": "execute_result"
    }
   ],
   "source": [
    "np.array([1,2])"
   ]
  },
  {
   "cell_type": "code",
   "execution_count": 45,
   "id": "bd3f52c2-f24c-4f04-9861-670ca21b0756",
   "metadata": {},
   "outputs": [],
   "source": [
    "def normalize(x):\n",
    "    return np.array(x)/np.sum(x)"
   ]
  },
  {
   "cell_type": "code",
   "execution_count": 47,
   "id": "5f53e28f-4ba4-4ed8-b9bc-6835002e603e",
   "metadata": {},
   "outputs": [
    {
     "data": {
      "text/plain": [
       "<matplotlib.legend.Legend at 0x7fe7ac641220>"
      ]
     },
     "execution_count": 47,
     "metadata": {},
     "output_type": "execute_result"
    },
    {
     "data": {
      "image/png": "[encoded data removed]",
      "text/plain": [
       "<Figure size 320x300 with 1 Axes>"
      ]
     },
     "metadata": {},
     "output_type": "display_data"
    }
   ],
   "source": [
    "fig, ax = plt.subplots(figsize=(3.2,3))\n",
    "ax.bar(np.array([1,2,3,4,5])-0.2, normalize(ce_bp), width=0.4, color='tab:blue', label='Clonal expansion')\n",
    "ax.bar(np.array([1,2,3,4,5])+0.2, normalize(cm_bp), width=0.4, color='tab:orange', label='Clonal maintainance')\n",
    "ax.set_xticks([1,2,3,4,5], '1,2,3,4,5'.split(','))\n",
    "ax.set_xlabel('Number of cell types')\n",
    "ax.set_ylabel('Propotion')\n",
    "ax.legend(fontsize=10)"
   ]
  },
  {
   "cell_type": "code",
   "execution_count": 1,
   "id": "1a819f4e-e042-4318-b94e-8b7f662748a7",
   "metadata": {},
   "outputs": [],
   "source": [
    "from copy import deepcopy\n",
    "import numpy as np\n",
    "import pandas as pd\n",
    "import pickle\n",
    "from Bio import Phylo\n",
    "import argparse\n",
    "import warnings"
   ]
  },
  {
   "cell_type": "code",
   "execution_count": 60,
   "id": "3bb58dfd-7490-4898-b43b-e6028fe0a54f",
   "metadata": {},
   "outputs": [],
   "source": [
    "def cell_division_with_mt1(mt_muts, global_mutid, mut_rate, mt_copynumber=2, target_nmts=500):\n",
    "    new_mts = []\n",
    "    nmts = len(mt_muts)\n",
    "    if nmts < target_nmts*0.8:\n",
    "        mt_copynumber = 2.3\n",
    "    elif nmts > target_nmts*1.2:\n",
    "        mt_copynumber = 1.8\n",
    "    else:\n",
    "        mt_copynumber = 2\n",
    "    \n",
    "    if mt_copynumber == 2:\n",
    "        new_mts = mt_muts*2\n",
    "    elif mt_copynumber > 2:\n",
    "        new_mts = mt_muts*2\n",
    "        n_mts = len(mt_muts)\n",
    "        addi = np.random.choice(range(n_mts), int(n_mts*(mt_copynumber-2)), replace=False)\n",
    "        new_mts = new_mts + list(np.array(mt_muts)[addi])\n",
    "    else:\n",
    "        new_mts = mt_muts\n",
    "        n_mts = len(mt_muts)\n",
    "        addi = np.random.choice(range(n_mts), int(n_mts*(mt_copynumber-1)), replace=False)\n",
    "        new_mts = new_mts + list(np.array(mt_muts)[addi])\n",
    "        \n",
    "    division = np.random.binomial(1, 0.5, len(new_mts)).astype(bool)\n",
    "    while (np.sum(division) < min(0.4*len(new_mts), 100)) or (np.sum(~division) < min(0.4*len(new_mts), 100)):\n",
    "        division = np.random.binomial(1, 0.5, len(new_mts)).astype(bool)\n",
    "    cell1 = np.array(new_mts)[division]\n",
    "    cell2 = np.array(new_mts)[~division]\n",
    "    for i in np.random.choice(cell1, np.random.poisson(mut_rate)):\n",
    "        global_mutid += 1\n",
    "        i.add(global_mutid)\n",
    "    for i in np.random.choice(cell2, np.random.poisson(mut_rate)):\n",
    "        global_mutid += 1\n",
    "        i.add(global_mutid)\n",
    "    \n",
    "    return list(cell1), list(cell2), global_mutid\n",
    "\n",
    "def ncell_division_with_mt1(mt_muts, global_mutid, mut_rate, mt_copynumber=2, target_nmts=500):\n",
    "    res = []\n",
    "    for cell in mt_muts:\n",
    "        res1, res2, global_mutid = cell_division_with_mt1(cell, global_mutid, mut_rate, mt_copynumber=mt_copynumber)\n",
    "        res.append(res1)\n",
    "        res.append(res2)\n",
    "    n_cells = len(res)\n",
    "    res_new = []\n",
    "    for i in np.where(np.random.binomial(1, 0.5, n_cells))[0]:\n",
    "        res_new.append(res[i])\n",
    "    return res_new, global_mutid "
   ]
  },
  {
   "cell_type": "code",
   "execution_count": 61,
   "id": "63bf4631-44a2-4e43-935d-326b4fbc1d13",
   "metadata": {},
   "outputs": [],
   "source": [
    "tree = Phylo.read(f'/data3/wangkun/mtsim_res/res_1113/linear_/147250/linear_tree_gt_147250.nwk', format='newick')\n",
    "tree_origin = pd.read_csv(f'/data3/wangkun/mtsim_res/res_1113/linear_/147250/tree_origin_linear_147250.csv')\n",
    "mt = pickle.load(open(f'/data3/wangkun/mtsim_res/res_1113/linear_/147250/mt_allmuts_mid_0.1_147250.pkl', 'rb'))"
   ]
  },
  {
   "cell_type": "code",
   "execution_count": 62,
   "id": "6ff89c3b-46d9-4f45-b91f-e11c7550ef44",
   "metadata": {
    "tags": []
   },
   "outputs": [
    {
     "data": {
      "application/vnd.jupyter.widget-view+json": {
       "model_id": "f1c459886280458db2d10e9e783d0b9d",
       "version_major": 2,
       "version_minor": 0
      },
      "text/plain": [
       "  0%|          | 0/5000 [00:00<?, ?it/s]"
      ]
     },
     "metadata": {},
     "output_type": "display_data"
    },
    {
     "ename": "KeyboardInterrupt",
     "evalue": "",
     "output_type": "error",
     "traceback": [
      "\u001b[0;31m---------------------------------------------------------------------------\u001b[0m",
      "\u001b[0;31mKeyboardInterrupt\u001b[0m                         Traceback (most recent call last)",
      "Cell \u001b[0;32mIn[62], line 22\u001b[0m\n\u001b[1;32m     20\u001b[0m new_mts_50[cell\u001b[38;5;241m.\u001b[39mname] \u001b[38;5;241m=\u001b[39m new_mts_15[cell\u001b[38;5;241m.\u001b[39mname]\n\u001b[1;32m     21\u001b[0m \u001b[38;5;28;01mfor\u001b[39;00m _ \u001b[38;5;129;01min\u001b[39;00m \u001b[38;5;28mrange\u001b[39m(\u001b[38;5;241m35\u001b[39m):\n\u001b[0;32m---> 22\u001b[0m     tmp \u001b[38;5;241m=\u001b[39m \u001b[43mncell_division_with_mt1\u001b[49m\u001b[43m(\u001b[49m\u001b[43mnew_mts_50\u001b[49m\u001b[43m[\u001b[49m\u001b[43mcell\u001b[49m\u001b[38;5;241;43m.\u001b[39;49m\u001b[43mname\u001b[49m\u001b[43m]\u001b[49m\u001b[43m,\u001b[49m\u001b[43m \u001b[49m\u001b[43mmax_mut_id\u001b[49m\u001b[43m,\u001b[49m\u001b[43m \u001b[49m\u001b[38;5;241;43m0.8\u001b[39;49m\u001b[43m)\u001b[49m\n\u001b[1;32m     23\u001b[0m     new_mts_50[cell\u001b[38;5;241m.\u001b[39mname] \u001b[38;5;241m=\u001b[39m tmp[\u001b[38;5;241m0\u001b[39m]\n\u001b[1;32m     24\u001b[0m     global_mutid \u001b[38;5;241m=\u001b[39m tmp[\u001b[38;5;241m-\u001b[39m\u001b[38;5;241m1\u001b[39m]\n",
      "Cell \u001b[0;32mIn[60], line 41\u001b[0m, in \u001b[0;36mncell_division_with_mt1\u001b[0;34m(mt_muts, global_mutid, mut_rate, mt_copynumber, target_nmts)\u001b[0m\n\u001b[1;32m     39\u001b[0m res \u001b[38;5;241m=\u001b[39m []\n\u001b[1;32m     40\u001b[0m \u001b[38;5;28;01mfor\u001b[39;00m cell \u001b[38;5;129;01min\u001b[39;00m mt_muts:\n\u001b[0;32m---> 41\u001b[0m     res1, res2, global_mutid \u001b[38;5;241m=\u001b[39m \u001b[43mcell_division_with_mt1\u001b[49m\u001b[43m(\u001b[49m\u001b[43mcell\u001b[49m\u001b[43m,\u001b[49m\u001b[43m \u001b[49m\u001b[43mglobal_mutid\u001b[49m\u001b[43m,\u001b[49m\u001b[43m \u001b[49m\u001b[43mmut_rate\u001b[49m\u001b[43m,\u001b[49m\u001b[43m \u001b[49m\u001b[43mmt_copynumber\u001b[49m\u001b[38;5;241;43m=\u001b[39;49m\u001b[43mmt_copynumber\u001b[49m\u001b[43m)\u001b[49m\n\u001b[1;32m     42\u001b[0m     res\u001b[38;5;241m.\u001b[39mappend(res1)\n\u001b[1;32m     43\u001b[0m     res\u001b[38;5;241m.\u001b[39mappend(res2)\n",
      "Cell \u001b[0;32mIn[60], line 28\u001b[0m, in \u001b[0;36mcell_division_with_mt1\u001b[0;34m(mt_muts, global_mutid, mut_rate, mt_copynumber, target_nmts)\u001b[0m\n\u001b[1;32m     26\u001b[0m     division \u001b[38;5;241m=\u001b[39m np\u001b[38;5;241m.\u001b[39mrandom\u001b[38;5;241m.\u001b[39mbinomial(\u001b[38;5;241m1\u001b[39m, \u001b[38;5;241m0.5\u001b[39m, \u001b[38;5;28mlen\u001b[39m(new_mts))\u001b[38;5;241m.\u001b[39mastype(\u001b[38;5;28mbool\u001b[39m)\n\u001b[1;32m     27\u001b[0m cell1 \u001b[38;5;241m=\u001b[39m np\u001b[38;5;241m.\u001b[39marray(new_mts)[division]\n\u001b[0;32m---> 28\u001b[0m cell2 \u001b[38;5;241m=\u001b[39m \u001b[43mnp\u001b[49m\u001b[38;5;241;43m.\u001b[39;49m\u001b[43marray\u001b[49m\u001b[43m(\u001b[49m\u001b[43mnew_mts\u001b[49m\u001b[43m)\u001b[49m[\u001b[38;5;241m~\u001b[39mdivision]\n\u001b[1;32m     29\u001b[0m \u001b[38;5;28;01mfor\u001b[39;00m i \u001b[38;5;129;01min\u001b[39;00m np\u001b[38;5;241m.\u001b[39mrandom\u001b[38;5;241m.\u001b[39mchoice(cell1, np\u001b[38;5;241m.\u001b[39mrandom\u001b[38;5;241m.\u001b[39mpoisson(mut_rate)):\n\u001b[1;32m     30\u001b[0m     global_mutid \u001b[38;5;241m+\u001b[39m\u001b[38;5;241m=\u001b[39m \u001b[38;5;241m1\u001b[39m\n",
      "\u001b[0;31mKeyboardInterrupt\u001b[0m: "
     ]
    }
   ],
   "source": [
    "sel_cells = [i.name for i in tree.get_terminals()]\n",
    "max_mut_id = max([max([max(list(i)+[0]) for i in mt[j]]+[0]) for j in sel_cells])\n",
    "\n",
    "new_mts_15 = dict()\n",
    "new_mts_50 = dict()\n",
    "new_mts_100 = dict()\n",
    "new_mts_300 = dict()\n",
    "new_mts_800 = dict()\n",
    "\n",
    "for cell in tqdm(tree.get_terminals()):\n",
    "    new_mts_15[cell.name] = [mt[cell.name]]\n",
    "    for _ in range(12):\n",
    "        tmp = ncell_division_with_mt1(new_mts_15[cell.name], max_mut_id, 0.8, 2.2)\n",
    "        new_mts_15[cell.name] = tmp[0]\n",
    "        global_mutid = tmp[-1]\n",
    "    for _ in range(3):\n",
    "        tmp = ncell_division_with_mt1(new_mts_15[cell.name], max_mut_id, 0.8)\n",
    "        new_mts_15[cell.name] = tmp[0]\n",
    "        global_mutid = tmp[-1]\n",
    "    new_mts_50[cell.name] = new_mts_15[cell.name]\n",
    "    for _ in range(35):\n",
    "        tmp = ncell_division_with_mt1(new_mts_50[cell.name], max_mut_id, 0.8)\n",
    "        new_mts_50[cell.name] = tmp[0]\n",
    "        global_mutid = tmp[-1]\n",
    "\n",
    "    new_mts_100[cell.name] = new_mts_50[cell.name]\n",
    "    for _ in range(50):\n",
    "        tmp = ncell_division_with_mt1(new_mts_100[cell.name], max_mut_id, 0.8)\n",
    "        new_mts_100[cell.name] = tmp[0]\n",
    "        global_mutid = tmp[-1]\n",
    "\n",
    "    new_mts_300[cell.name] = new_mts_100[cell.name]\n",
    "    for _ in range(200):\n",
    "        tmp = ncell_division_with_mt1(new_mts_300[cell.name], max_mut_id, 0.8)\n",
    "        new_mts_300[cell.name] = tmp[0]\n",
    "        global_mutid = tmp[-1]\n",
    "\n",
    "    new_mts_800[cell.name] = new_mts_300[cell.name]\n",
    "    for _ in range(500):\n",
    "        tmp = ncell_division_with_mt1(new_mts_800[cell.name], max_mut_id, 0.8)\n",
    "        new_mts_800[cell.name] = tmp[0]\n",
    "        global_mutid = tmp[-1]"
   ]
  },
  {
   "cell_type": "code",
   "execution_count": 57,
   "id": "dc85921e-dd9c-4668-a251-62eefe0eb9db",
   "metadata": {},
   "outputs": [],
   "source": [
    "from tqdm.notebook import tqdm"
   ]
  },
  {
   "cell_type": "code",
   "execution_count": null,
   "id": "fa8ae7ce-d5db-4fdf-885e-d15c4af2e7d6",
   "metadata": {},
   "outputs": [],
   "source": []
  },
  {
   "cell_type": "code",
   "execution_count": 63,
   "id": "ea84930d-8fc7-4f69-a595-b87b564c73f8",
   "metadata": {},
   "outputs": [],
   "source": [
    "path = '/data3/wangkun/mtsim_res/res_1113/linear_/449346'"
   ]
  },
  {
   "cell_type": "code",
   "execution_count": 65,
   "id": "f1b07f6e-9d2f-49a1-979c-dcf2f82cbbb3",
   "metadata": {},
   "outputs": [],
   "source": [
    "mt15 = pickle.load(open('/data3/wangkun/mtsim_res/res_1113/linear_/449346/mt_allmuts_mid_0.1_449346_15.pkl', 'rb'))"
   ]
  },
  {
   "cell_type": "code",
   "execution_count": 67,
   "id": "d9d01466-2345-44e8-82a3-ccc2e31340f0",
   "metadata": {},
   "outputs": [],
   "source": [
    "import os\n",
    "os.chdir('..')"
   ]
  },
  {
   "cell_type": "code",
   "execution_count": 68,
   "id": "2a6619e2-637c-4626-8858-e25384d1ca93",
   "metadata": {},
   "outputs": [],
   "source": [
    "from mtDNAsim.sim_utils import *"
   ]
  },
  {
   "cell_type": "code",
   "execution_count": 70,
   "id": "cf5dee45-763f-437c-88be-dbfff87a4e94",
   "metadata": {},
   "outputs": [
    {
     "data": {
      "application/vnd.jupyter.widget-view+json": {
       "model_id": "cd693aab6aeb4ba3a6411f2e08ddf014",
       "version_major": 2,
       "version_minor": 0
      },
      "text/plain": [
       "  0%|          | 0/5000 [00:00<?, ?it/s]"
      ]
     },
     "metadata": {},
     "output_type": "display_data"
    },
    {
     "ename": "KeyboardInterrupt",
     "evalue": "",
     "output_type": "error",
     "traceback": [
      "\u001b[0;31m---------------------------------------------------------------------------\u001b[0m",
      "\u001b[0;31mKeyboardInterrupt\u001b[0m                         Traceback (most recent call last)",
      "Cell \u001b[0;32mIn[70], line 1\u001b[0m\n\u001b[0;32m----> 1\u001b[0m freq15 \u001b[38;5;241m=\u001b[39m \u001b[43mmut_freq\u001b[49m\u001b[43m(\u001b[49m\u001b[43mmt15\u001b[49m\u001b[43m)\u001b[49m\n",
      "File \u001b[0;32m~/mtDNA_simulation/mtDNAsim/sim_utils.py:588\u001b[0m, in \u001b[0;36mmut_freq\u001b[0;34m(mt_muts, max_mut_id, sel_cells)\u001b[0m\n\u001b[1;32m    586\u001b[0m     \u001b[38;5;28;01mfor\u001b[39;00m ind, mt \u001b[38;5;129;01min\u001b[39;00m \u001b[38;5;28menumerate\u001b[39m(mt_muts[cell]):\n\u001b[1;32m    587\u001b[0m         mut_pos[ind][\u001b[38;5;28mlist\u001b[39m(mt)] \u001b[38;5;241m=\u001b[39m \u001b[38;5;241m1\u001b[39m\n\u001b[0;32m--> 588\u001b[0m     mut_freqs\u001b[38;5;241m.\u001b[39mappend(\u001b[43mmut_pos\u001b[49m\u001b[38;5;241;43m.\u001b[39;49m\u001b[43msum\u001b[49m\u001b[43m(\u001b[49m\u001b[38;5;241;43m0\u001b[39;49m\u001b[43m)\u001b[49m\u001b[38;5;241m/\u001b[39m\u001b[38;5;28mlen\u001b[39m(mt_muts[cell]))\n\u001b[1;32m    589\u001b[0m     cell_names\u001b[38;5;241m.\u001b[39mappend(cell)\n\u001b[1;32m    590\u001b[0m mf \u001b[38;5;241m=\u001b[39m pd\u001b[38;5;241m.\u001b[39mDataFrame(mut_freqs, index\u001b[38;5;241m=\u001b[39mcell_names)\n",
      "File \u001b[0;32m~/miniconda3/lib/python3.9/site-packages/numpy/core/_methods.py:49\u001b[0m, in \u001b[0;36m_sum\u001b[0;34m(a, axis, dtype, out, keepdims, initial, where)\u001b[0m\n\u001b[1;32m     47\u001b[0m \u001b[38;5;28;01mdef\u001b[39;00m \u001b[38;5;21m_sum\u001b[39m(a, axis\u001b[38;5;241m=\u001b[39m\u001b[38;5;28;01mNone\u001b[39;00m, dtype\u001b[38;5;241m=\u001b[39m\u001b[38;5;28;01mNone\u001b[39;00m, out\u001b[38;5;241m=\u001b[39m\u001b[38;5;28;01mNone\u001b[39;00m, keepdims\u001b[38;5;241m=\u001b[39m\u001b[38;5;28;01mFalse\u001b[39;00m,\n\u001b[1;32m     48\u001b[0m          initial\u001b[38;5;241m=\u001b[39m_NoValue, where\u001b[38;5;241m=\u001b[39m\u001b[38;5;28;01mTrue\u001b[39;00m):\n\u001b[0;32m---> 49\u001b[0m     \u001b[38;5;28;01mreturn\u001b[39;00m \u001b[43mumr_sum\u001b[49m\u001b[43m(\u001b[49m\u001b[43ma\u001b[49m\u001b[43m,\u001b[49m\u001b[43m \u001b[49m\u001b[43maxis\u001b[49m\u001b[43m,\u001b[49m\u001b[43m \u001b[49m\u001b[43mdtype\u001b[49m\u001b[43m,\u001b[49m\u001b[43m \u001b[49m\u001b[43mout\u001b[49m\u001b[43m,\u001b[49m\u001b[43m \u001b[49m\u001b[43mkeepdims\u001b[49m\u001b[43m,\u001b[49m\u001b[43m \u001b[49m\u001b[43minitial\u001b[49m\u001b[43m,\u001b[49m\u001b[43m \u001b[49m\u001b[43mwhere\u001b[49m\u001b[43m)\u001b[49m\n",
      "\u001b[0;31mKeyboardInterrupt\u001b[0m: "
     ]
    }
   ],
   "source": [
    "freq15 = mut_freq(mt15)"
   ]
  },
  {
   "cell_type": "code",
   "execution_count": null,
   "id": "ddf6a694-fd91-4aaa-be4e-9f17b44fca15",
   "metadata": {},
   "outputs": [],
   "source": []
  }
 ],
 "metadata": {
  "kernelspec": {
   "display_name": "Python 3 (ipykernel)",
   "language": "python",
   "name": "python3"
  },
  "language_info": {
   "codemirror_mode": {
    "name": "ipython",
    "version": 3
   },
   "file_extension": ".py",
   "mimetype": "text/x-python",
   "name": "python",
   "nbconvert_exporter": "python",
   "pygments_lexer": "ipython3",
   "version": "3.9.12"
  }
 },
 "nbformat": 4,
 "nbformat_minor": 5
}
