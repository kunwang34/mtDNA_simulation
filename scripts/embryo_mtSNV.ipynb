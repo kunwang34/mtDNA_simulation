{
 "cells": [
  {
   "cell_type": "code",
   "execution_count": 13,
   "id": "15e37299-de39-4c32-8f1d-01870ee790da",
   "metadata": {},
   "outputs": [],
   "source": [
    "import pandas as pd\n",
    "import numpy as np\n",
    "import os"
   ]
  },
  {
   "cell_type": "code",
   "execution_count": 50,
   "id": "0a437e68-0c7e-4b10-8c9b-37d1803c3242",
   "metadata": {},
   "outputs": [],
   "source": [
    "from Bio import Phylo"
   ]
  },
  {
   "cell_type": "code",
   "execution_count": 4,
   "id": "e1af0da8-b548-4a9b-9007-96272a74b6d7",
   "metadata": {},
   "outputs": [],
   "source": [
    "df = pd.read_csv('../data/embryo_mtSNV_final.csv', index_col=0).T"
   ]
  },
  {
   "cell_type": "code",
   "execution_count": 27,
   "id": "9e645b47-16e8-43a7-a59f-fee13624f97c",
   "metadata": {},
   "outputs": [],
   "source": [
    "df = pd.read_csv('/data/wangxin/work/MT_bm/SS2/embryo/tzj/new_outs/embryo_mtSNV_final.csv', index_col=0).T"
   ]
  },
  {
   "cell_type": "code",
   "execution_count": 33,
   "id": "693d869f-2fdd-4aca-8199-29e8cd0dc67e",
   "metadata": {},
   "outputs": [],
   "source": [
    "muts = df>0\n",
    "muts = muts.iloc[:, np.where(muts.sum(0)>0)[0]]\n",
    "muts = muts.astype(int).astype(str)\n"
   ]
  },
  {
   "cell_type": "code",
   "execution_count": 34,
   "id": "184b6af2-dba6-419c-b4fe-09d8085f241b",
   "metadata": {},
   "outputs": [],
   "source": [
    "translation_table = str.maketrans({'1': 'A', '0': 'G'})\n",
    "seqs = f'{muts.shape[0]} {muts.shape[1]}\\n'\n",
    "for i in range(muts.shape[0]):\n",
    "    seqs += f'{muts.index[i]} '\n",
    "    seqs += ''.join(muts.iloc[i].to_numpy()).translate(translation_table)\n",
    "    seqs += '\\n'\n",
    "with open(f'../data/YFL_mtSNV_final.phy', 'w') as f:\n",
    "    f.write(seqs)\n"
   ]
  },
  {
   "cell_type": "code",
   "execution_count": 35,
   "id": "94052bfd-1521-428b-93bf-6681ce7cdba3",
   "metadata": {},
   "outputs": [
    {
     "data": {
      "text/plain": [
       "0"
      ]
     },
     "execution_count": 35,
     "metadata": {},
     "output_type": "execute_result"
    }
   ],
   "source": [
    "os.system(f'Rscript /home/wangkun/mtDNA_simulation/scripts/tree_reconstruct.r -p /home/wangkun/mtDNA_simulation/data/ -f YFL_mtSNV_final.phy')"
   ]
  },
  {
   "cell_type": "code",
   "execution_count": 19,
   "id": "d97fb73c-a3b1-4d7b-a9d7-d7d01982ba3b",
   "metadata": {},
   "outputs": [],
   "source": [
    "celltype = pd.read_csv('/syn1/wangxin/work/SS2/ERRID_CellType.csv', index_col=0, header=None)"
   ]
  },
  {
   "cell_type": "code",
   "execution_count": 25,
   "id": "9b0f4228-6cda-4751-943c-c5212ae3869d",
   "metadata": {},
   "outputs": [],
   "source": [
    "with open(f'/home/wangkun/mtDNA_simulation/data/tree_color.txt', 'w') as f:\n",
    "    for i in celltype.index:\n",
    "        f.write(f'{i} {celltype.loc[i].to_numpy()[0]}\\n')"
   ]
  },
  {
   "cell_type": "code",
   "execution_count": 24,
   "id": "86f59e56-e052-4ee3-9a48-65378a4b93e3",
   "metadata": {},
   "outputs": [
    {
     "data": {
      "text/plain": [
       "'Hemogenic_Endothelial_Progenitors'"
      ]
     },
     "execution_count": 24,
     "metadata": {},
     "output_type": "execute_result"
    }
   ],
   "source": [
    "celltype.loc['ERR4675305'].to_numpy()[0]"
   ]
  },
  {
   "cell_type": "code",
   "execution_count": null,
   "id": "3f9d8166-3835-430b-856b-48ce9932d7bd",
   "metadata": {},
   "outputs": [],
   "source": [
    "df = pd.read_csv('/data3/wangxin/PBMC/YFL/outs_nofilter/YFL_mtSNV_final.csv', index_col=0).T\n",
    "muts = df>0\n",
    "muts = muts.iloc[:, np.where(muts.sum(0)>0)[0]]\n",
    "muts = muts.astype(int).astype(str)\n",
    "translation_table = str.maketrans({'1': 'A', '0': 'G'})\n",
    "seqs = f'{muts.shape[0]} {muts.shape[1]}\\n'\n",
    "for i in range(muts.shape[0]):\n",
    "    seqs += f'{muts.index[i]} '\n",
    "    seqs += ''.join(muts.iloc[i].to_numpy()).translate(translation_table)\n",
    "    seqs += '\\n'\n",
    "with open(f'../data/YFL_mtSNV_final.phy', 'w') as f:\n",
    "    f.write(seqs)\n"
   ]
  },
  {
   "cell_type": "code",
   "execution_count": null,
   "id": "29f0bf26-2e83-4dec-8f55-5069f28dfe12",
   "metadata": {},
   "outputs": [],
   "source": [
    "os.system(f'Rscript /home/wangkun/mtDNA_simulation/scripts/tree_reconstruct.r -p /home/wangkun/mtDNA_simulation/data/ -f YFL_mtSNV_final.phy')"
   ]
  },
  {
   "cell_type": "code",
   "execution_count": 46,
   "id": "9eee043c-9970-4893-aa9c-e5fa4264780e",
   "metadata": {},
   "outputs": [],
   "source": [
    "celltype = pd.read_csv('/data3/wangxin/PBMC/YFL/meta.csv', index_col=0)\n",
    "with open(f'/home/wangkun/mtDNA_simulation/data/YFL_tree_color.txt', 'w') as f:\n",
    "    for i in celltype.index:\n",
    "        f.write(f'{i} {celltype.loc[i].to_numpy()[3]}\\n')"
   ]
  },
  {
   "cell_type": "code",
   "execution_count": null,
   "id": "4c2388e3-255b-42bc-8039-a125dc5edc8e",
   "metadata": {},
   "outputs": [],
   "source": []
  },
  {
   "cell_type": "code",
   "execution_count": 44,
   "id": "68370f35-0ae1-4cc6-bbeb-3e47c8847af1",
   "metadata": {
    "tags": []
   },
   "outputs": [],
   "source": [
    "df = pd.read_csv('/data3/wangxin/PBMC/THQ/outs_nofilter/THQ_mtSNV_final.csv', index_col=0).T\n",
    "muts = df>0\n",
    "muts = muts.iloc[:, np.where(muts.sum(0)>0)[0]]\n",
    "muts = muts.astype(int).astype(str)\n",
    "translation_table = str.maketrans({'1': 'A', '0': 'G'})\n",
    "seqs = f'{muts.shape[0]} {muts.shape[1]}\\n'\n",
    "for i in range(muts.shape[0]):\n",
    "    seqs += f'{muts.index[i]} '\n",
    "    seqs += ''.join(muts.iloc[i].to_numpy()).translate(translation_table)\n",
    "    seqs += '\\n'\n",
    "with open(f'../data/THQ_mtSNV_final.phy', 'w') as f:\n",
    "    f.write(seqs)\n"
   ]
  },
  {
   "cell_type": "code",
   "execution_count": 45,
   "id": "b378414f-0998-4a38-b7cd-9c0a202a1b46",
   "metadata": {},
   "outputs": [
    {
     "data": {
      "text/plain": [
       "0"
      ]
     },
     "execution_count": 45,
     "metadata": {},
     "output_type": "execute_result"
    }
   ],
   "source": [
    "os.system(f'Rscript /home/wangkun/mtDNA_simulation/scripts/tree_reconstruct.r -p /home/wangkun/mtDNA_simulation/data/ -f THQ_mtSNV_final.phy')"
   ]
  },
  {
   "cell_type": "code",
   "execution_count": 48,
   "id": "6875daaf-fbf9-4836-ae64-790b8613cfb4",
   "metadata": {},
   "outputs": [],
   "source": [
    "celltype = pd.read_csv('/data3/wangxin/PBMC/THQ/meta.csv', index_col=0)"
   ]
  },
  {
   "cell_type": "code",
   "execution_count": 49,
   "id": "caec71cc-ad36-40a1-ad48-a314f42fb91f",
   "metadata": {},
   "outputs": [],
   "source": [
    "with open(f'/home/wangkun/mtDNA_simulation/data/THQ_tree_color.txt', 'w') as f:\n",
    "    for i in celltype.index:\n",
    "        f.write(f'{i} {celltype.loc[i].to_numpy()[3]}\\n')"
   ]
  },
  {
   "cell_type": "code",
   "execution_count": null,
   "id": "9c6ed313-db17-4cbe-91a6-6782b318dad8",
   "metadata": {},
   "outputs": [],
   "source": []
  }
 ],
 "metadata": {
  "kernelspec": {
   "display_name": "Python 3 (ipykernel)",
   "language": "python",
   "name": "python3"
  },
  "language_info": {
   "codemirror_mode": {
    "name": "ipython",
    "version": 3
   },
   "file_extension": ".py",
   "mimetype": "text/x-python",
   "name": "python",
   "nbconvert_exporter": "python",
   "pygments_lexer": "ipython3",
   "version": "3.9.12"
  }
 },
 "nbformat": 4,
 "nbformat_minor": 5
}
