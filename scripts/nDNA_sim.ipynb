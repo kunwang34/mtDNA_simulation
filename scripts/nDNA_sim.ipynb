{
 "cells": [
  {
   "cell_type": "code",
   "execution_count": 1,
   "id": "5ce28453-0414-46a3-9a7a-ae6e56e75737",
   "metadata": {},
   "outputs": [
    {
     "name": "stderr",
     "output_type": "stream",
     "text": [
      "/home/wangkun/mtDNA_simulation/mtDNAsim/sim_utils.py:7: TqdmExperimentalWarning: Using `tqdm.autonotebook.tqdm` in notebook mode. Use `tqdm.tqdm` instead to force console mode (e.g. in jupyter console)\n",
      "  from tqdm.autonotebook import tqdm\n"
     ]
    }
   ],
   "source": [
    "import os\n",
    "import pickle\n",
    "os.chdir('../')\n",
    "from mtDNAsim import *\n",
    "import pandas as pd\n",
    "import numpy as np\n",
    "from Bio import Phylo"
   ]
  },
  {
   "cell_type": "code",
   "execution_count": 18,
   "id": "600b04e0-b02d-49cd-9b7a-24b67ab91d28",
   "metadata": {},
   "outputs": [],
   "source": [
    "from tqdm.notebook import tqdm"
   ]
  },
  {
   "cell_type": "code",
   "execution_count": 2,
   "id": "58a3d46d-9159-4adb-a99d-35c611747fdf",
   "metadata": {},
   "outputs": [],
   "source": [
    "def DNAmutation(tree, mut_rate=0.1):\n",
    "    mutations = dict()\n",
    "    global_mutid = -1\n",
    "    for i in tree.get_terminals():\n",
    "        mut = []\n",
    "        for j in tree.get_path(i):\n",
    "            if j in mutations:\n",
    "                mut = deepcopy(mutations[j])\n",
    "            else:\n",
    "                for _ in range(np.random.poisson(mut_rate*j.branch_length)):\n",
    "                    mut.append(global_mutid+1)\n",
    "                    global_mutid += 1\n",
    "                mutations[j] = deepcopy(mut)\n",
    "\n",
    "    mut_table = []\n",
    "    cell_names = []\n",
    "    for i in tree.get_terminals():\n",
    "        seq = np.zeros(global_mutid+1)\n",
    "        seq[mutations[i]]=1\n",
    "        mut_table.append(seq)\n",
    "        cell_names.append(i.name)\n",
    "    return pd.DataFrame(np.array(mut_table), index=cell_names)"
   ]
  },
  {
   "cell_type": "code",
   "execution_count": 19,
   "id": "6bac041a-07d2-40f3-b0b3-01a4e00a2818",
   "metadata": {
    "collapsed": true,
    "jupyter": {
     "outputs_hidden": true
    },
    "tags": []
   },
   "outputs": [
    {
     "data": {
      "application/vnd.jupyter.widget-view+json": {
       "model_id": "d49a6192414844b7a903a3162f94026f",
       "version_major": 2,
       "version_minor": 0
      },
      "text/plain": [
       "  0%|          | 0/20 [00:00<?, ?it/s]"
      ]
     },
     "metadata": {},
     "output_type": "display_data"
    },
    {
     "ename": "FileNotFoundError",
     "evalue": "[Errno 2] No such file or directory: '/data3/wangkun/mtsim_res/20240903/mid_0/93526/gt_tree_130.nwk'",
     "output_type": "error",
     "traceback": [
      "\u001b[0;31m---------------------------------------------------------------------------\u001b[0m",
      "\u001b[0;31mFileNotFoundError\u001b[0m                         Traceback (most recent call last)",
      "Cell \u001b[0;32mIn[19], line 7\u001b[0m\n\u001b[1;32m      5\u001b[0m \u001b[38;5;28;01mfor\u001b[39;00m simid \u001b[38;5;129;01min\u001b[39;00m tqdm(os\u001b[38;5;241m.\u001b[39mlistdir(\u001b[38;5;124mf\u001b[39m\u001b[38;5;124m'\u001b[39m\u001b[38;5;132;01m{\u001b[39;00mpath\u001b[38;5;132;01m}\u001b[39;00m\u001b[38;5;124m/\u001b[39m\u001b[38;5;132;01m{\u001b[39;00mmodel\u001b[38;5;132;01m}\u001b[39;00m\u001b[38;5;124m/\u001b[39m\u001b[38;5;124m'\u001b[39m)):\n\u001b[1;32m      6\u001b[0m     \u001b[38;5;28;01mfor\u001b[39;00m gen \u001b[38;5;129;01min\u001b[39;00m [\u001b[38;5;124m'\u001b[39m\u001b[38;5;124m'\u001b[39m, \u001b[38;5;124m'\u001b[39m\u001b[38;5;124m_130\u001b[39m\u001b[38;5;124m'\u001b[39m, \u001b[38;5;124m'\u001b[39m\u001b[38;5;124m_330\u001b[39m\u001b[38;5;124m'\u001b[39m]:\n\u001b[0;32m----> 7\u001b[0m         tree \u001b[38;5;241m=\u001b[39m \u001b[43mPhylo\u001b[49m\u001b[38;5;241;43m.\u001b[39;49m\u001b[43mread\u001b[49m\u001b[43m(\u001b[49m\u001b[38;5;124;43mf\u001b[39;49m\u001b[38;5;124;43m'\u001b[39;49m\u001b[38;5;132;43;01m{\u001b[39;49;00m\u001b[43mpath\u001b[49m\u001b[38;5;132;43;01m}\u001b[39;49;00m\u001b[38;5;124;43m/\u001b[39;49m\u001b[38;5;132;43;01m{\u001b[39;49;00m\u001b[43mmodel\u001b[49m\u001b[38;5;132;43;01m}\u001b[39;49;00m\u001b[38;5;124;43m/\u001b[39;49m\u001b[38;5;132;43;01m{\u001b[39;49;00m\u001b[43msimid\u001b[49m\u001b[38;5;132;43;01m}\u001b[39;49;00m\u001b[38;5;124;43m/gt_tree\u001b[39;49m\u001b[38;5;132;43;01m{\u001b[39;49;00m\u001b[43mgen\u001b[49m\u001b[38;5;132;43;01m}\u001b[39;49;00m\u001b[38;5;124;43m.nwk\u001b[39;49m\u001b[38;5;124;43m'\u001b[39;49m\u001b[43m,\u001b[49m\u001b[43m \u001b[49m\u001b[38;5;124;43m'\u001b[39;49m\u001b[38;5;124;43mnewick\u001b[39;49m\u001b[38;5;124;43m'\u001b[39;49m\u001b[43m)\u001b[49m\n\u001b[1;32m      8\u001b[0m         ndna_mut \u001b[38;5;241m=\u001b[39m DNAmutation(tree, mut_rate\u001b[38;5;241m=\u001b[39m\u001b[38;5;241m0.8\u001b[39m)\n\u001b[1;32m      9\u001b[0m         seqs \u001b[38;5;241m=\u001b[39m ndna_mut\u001b[38;5;241m.\u001b[39mastype(\u001b[38;5;28mint\u001b[39m)\n",
      "File \u001b[0;32m~/miniconda3/lib/python3.9/site-packages/Bio/Phylo/_io.py:60\u001b[0m, in \u001b[0;36mread\u001b[0;34m(file, format, **kwargs)\u001b[0m\n\u001b[1;32m     58\u001b[0m \u001b[38;5;28;01mtry\u001b[39;00m:\n\u001b[1;32m     59\u001b[0m     tree_gen \u001b[38;5;241m=\u001b[39m parse(file, \u001b[38;5;28mformat\u001b[39m, \u001b[38;5;241m*\u001b[39m\u001b[38;5;241m*\u001b[39mkwargs)\n\u001b[0;32m---> 60\u001b[0m     tree \u001b[38;5;241m=\u001b[39m \u001b[38;5;28;43mnext\u001b[39;49m\u001b[43m(\u001b[49m\u001b[43mtree_gen\u001b[49m\u001b[43m)\u001b[49m\n\u001b[1;32m     61\u001b[0m \u001b[38;5;28;01mexcept\u001b[39;00m \u001b[38;5;167;01mStopIteration\u001b[39;00m:\n\u001b[1;32m     62\u001b[0m     \u001b[38;5;28;01mraise\u001b[39;00m \u001b[38;5;167;01mValueError\u001b[39;00m(\u001b[38;5;124m\"\u001b[39m\u001b[38;5;124mThere are no trees in this file.\u001b[39m\u001b[38;5;124m\"\u001b[39m) \u001b[38;5;28;01mfrom\u001b[39;00m \u001b[38;5;28;01mNone\u001b[39;00m\n",
      "File \u001b[0;32m~/miniconda3/lib/python3.9/site-packages/Bio/Phylo/_io.py:48\u001b[0m, in \u001b[0;36mparse\u001b[0;34m(file, format, **kwargs)\u001b[0m\n\u001b[1;32m     33\u001b[0m \u001b[38;5;28;01mdef\u001b[39;00m \u001b[38;5;21mparse\u001b[39m(file, \u001b[38;5;28mformat\u001b[39m, \u001b[38;5;241m*\u001b[39m\u001b[38;5;241m*\u001b[39mkwargs):\n\u001b[1;32m     34\u001b[0m \u001b[38;5;250m    \u001b[39m\u001b[38;5;124;03m\"\"\"Parse a file iteratively, and yield each of the trees it contains.\u001b[39;00m\n\u001b[1;32m     35\u001b[0m \n\u001b[1;32m     36\u001b[0m \u001b[38;5;124;03m    If a file only contains one tree, this still returns an iterable object that\u001b[39;00m\n\u001b[0;32m   (...)\u001b[0m\n\u001b[1;32m     46\u001b[0m \n\u001b[1;32m     47\u001b[0m \u001b[38;5;124;03m    \"\"\"\u001b[39;00m\n\u001b[0;32m---> 48\u001b[0m     \u001b[38;5;28;01mwith\u001b[39;00m File\u001b[38;5;241m.\u001b[39mas_handle(file) \u001b[38;5;28;01mas\u001b[39;00m fp:\n\u001b[1;32m     49\u001b[0m         \u001b[38;5;28;01myield from\u001b[39;00m \u001b[38;5;28mgetattr\u001b[39m(supported_formats[\u001b[38;5;28mformat\u001b[39m], \u001b[38;5;124m\"\u001b[39m\u001b[38;5;124mparse\u001b[39m\u001b[38;5;124m\"\u001b[39m)(fp, \u001b[38;5;241m*\u001b[39m\u001b[38;5;241m*\u001b[39mkwargs)\n",
      "File \u001b[0;32m~/miniconda3/lib/python3.9/contextlib.py:119\u001b[0m, in \u001b[0;36m_GeneratorContextManager.__enter__\u001b[0;34m(self)\u001b[0m\n\u001b[1;32m    117\u001b[0m \u001b[38;5;28;01mdel\u001b[39;00m \u001b[38;5;28mself\u001b[39m\u001b[38;5;241m.\u001b[39margs, \u001b[38;5;28mself\u001b[39m\u001b[38;5;241m.\u001b[39mkwds, \u001b[38;5;28mself\u001b[39m\u001b[38;5;241m.\u001b[39mfunc\n\u001b[1;32m    118\u001b[0m \u001b[38;5;28;01mtry\u001b[39;00m:\n\u001b[0;32m--> 119\u001b[0m     \u001b[38;5;28;01mreturn\u001b[39;00m \u001b[38;5;28;43mnext\u001b[39;49m\u001b[43m(\u001b[49m\u001b[38;5;28;43mself\u001b[39;49m\u001b[38;5;241;43m.\u001b[39;49m\u001b[43mgen\u001b[49m\u001b[43m)\u001b[49m\n\u001b[1;32m    120\u001b[0m \u001b[38;5;28;01mexcept\u001b[39;00m \u001b[38;5;167;01mStopIteration\u001b[39;00m:\n\u001b[1;32m    121\u001b[0m     \u001b[38;5;28;01mraise\u001b[39;00m \u001b[38;5;167;01mRuntimeError\u001b[39;00m(\u001b[38;5;124m\"\u001b[39m\u001b[38;5;124mgenerator didn\u001b[39m\u001b[38;5;124m'\u001b[39m\u001b[38;5;124mt yield\u001b[39m\u001b[38;5;124m\"\u001b[39m) \u001b[38;5;28;01mfrom\u001b[39;00m \u001b[38;5;28;01mNone\u001b[39;00m\n",
      "File \u001b[0;32m~/miniconda3/lib/python3.9/site-packages/Bio/File.py:72\u001b[0m, in \u001b[0;36mas_handle\u001b[0;34m(handleish, mode, **kwargs)\u001b[0m\n\u001b[1;32m     30\u001b[0m \u001b[38;5;250m\u001b[39m\u001b[38;5;124mr\u001b[39m\u001b[38;5;124;03m\"\"\"Context manager to ensure we are using a handle.\u001b[39;00m\n\u001b[1;32m     31\u001b[0m \n\u001b[1;32m     32\u001b[0m \u001b[38;5;124;03mContext manager for arguments that can be passed to SeqIO and AlignIO read, write,\u001b[39;00m\n\u001b[0;32m   (...)\u001b[0m\n\u001b[1;32m     69\u001b[0m \n\u001b[1;32m     70\u001b[0m \u001b[38;5;124;03m\"\"\"\u001b[39;00m\n\u001b[1;32m     71\u001b[0m \u001b[38;5;28;01mtry\u001b[39;00m:\n\u001b[0;32m---> 72\u001b[0m     \u001b[38;5;28;01mwith\u001b[39;00m \u001b[38;5;28;43mopen\u001b[39;49m\u001b[43m(\u001b[49m\u001b[43mhandleish\u001b[49m\u001b[43m,\u001b[49m\u001b[43m \u001b[49m\u001b[43mmode\u001b[49m\u001b[43m,\u001b[49m\u001b[43m \u001b[49m\u001b[38;5;241;43m*\u001b[39;49m\u001b[38;5;241;43m*\u001b[39;49m\u001b[43mkwargs\u001b[49m\u001b[43m)\u001b[49m \u001b[38;5;28;01mas\u001b[39;00m fp:\n\u001b[1;32m     73\u001b[0m         \u001b[38;5;28;01myield\u001b[39;00m fp\n\u001b[1;32m     74\u001b[0m \u001b[38;5;28;01mexcept\u001b[39;00m \u001b[38;5;167;01mTypeError\u001b[39;00m:\n",
      "\u001b[0;31mFileNotFoundError\u001b[0m: [Errno 2] No such file or directory: '/data3/wangkun/mtsim_res/20240903/mid_0/93526/gt_tree_130.nwk'"
     ]
    }
   ],
   "source": [
    "path = '/data3/wangkun/mtsim_res/20240903'\n",
    "# for model in os.listdir(path):\n",
    "#     if model == 'test':\n",
    "#         continue\n",
    "#     for simid in tqdm(os.listdir(f'{path}/{model}/')):\n",
    "#         for gen in ['_330']:\n",
    "#             tree = Phylo.read(f'{path}/{model}/{simid}/gt_tree{gen}.nwk', 'newick')\n",
    "#             ndna_mut = DNAmutation(tree, mut_rate=0.8)\n",
    "#             seqs = ndna_mut.astype(int)\n",
    "#             with open(f'{path}/{model}/{simid}/dna_mut{gen}.phy', 'w') as f:\n",
    "#                 f.write('{} {}\\n'.format(*seqs.shape))\n",
    "#                 for cell in seqs.index:\n",
    "#                     f.write('{} {}\\n'.format(cell, ''.join(seqs.loc[cell].astype(str)).replace('1', 'A').replace('0', 'G')))\n",
    "#             brea"
   ]
  },
  {
   "cell_type": "code",
   "execution_count": 31,
   "id": "a625a2c7-5cf1-4e52-841f-dfb849f93128",
   "metadata": {},
   "outputs": [],
   "source": [
    "from ete3 import Tree\n",
    "from Bio import Phylo\n",
    "from io import StringIO\n",
    "import re\n",
    "def robinson_foulds(tree1:'Bio.Phylo.BaseTree', tree2:'Bio.Phylo.BaseTree'):\n",
    "    f = StringIO()\n",
    "    Phylo.write(tree1, f, 'newick')\n",
    "    tree1 = Tree(f.getvalue(), format=1)\n",
    "    # tree1.prune(tree1.get_leaf_names())\n",
    "    f = StringIO()\n",
    "    Phylo.write(tree2, f, 'newick')\n",
    "    tree2 = Tree(f.getvalue(), format=1)\n",
    "    # tree2.prune(tree2.get_leaf_names())\n",
    "    try:\n",
    "        return tree1.robinson_foulds(tree2)\n",
    "    except:\n",
    "        return tree1.robinson_foulds(tree2, unrooted_trees=True)"
   ]
  },
  {
   "cell_type": "code",
   "execution_count": 48,
   "id": "d0494915-6a19-45a1-ad8a-590b593ec7b0",
   "metadata": {},
   "outputs": [
    {
     "data": {
      "text/plain": [
       "'152872'"
      ]
     },
     "execution_count": 48,
     "metadata": {},
     "output_type": "execute_result"
    }
   ],
   "source": [
    "simid"
   ]
  },
  {
   "cell_type": "code",
   "execution_count": 49,
   "id": "db92c2f6-d853-4816-b09f-f6d1a0fb6cf8",
   "metadata": {},
   "outputs": [
    {
     "data": {
      "text/plain": [
       "'/data3/wangkun/mtsim_res/20240903'"
      ]
     },
     "execution_count": 49,
     "metadata": {},
     "output_type": "execute_result"
    }
   ],
   "source": [
    "path"
   ]
  },
  {
   "cell_type": "code",
   "execution_count": 53,
   "id": "2df9b08a-59e0-480a-b874-f7dd3ac0a7a8",
   "metadata": {},
   "outputs": [],
   "source": [
    "with open(f'{path}/{model}/{simid}/rf_dist.txt', 'w') as f:\n",
    "    f.write(f'model\\ttype\\tseq\\tgen\\tcutoff\\trf\\tmaxrf\\n')\n",
    "with open(f'{path}/{model}/{simid}/rf_dist.txt', 'a') as f:\n",
    "    for gen in ['30', '130', '330']:\n",
    "        if gen == '30':\n",
    "            tree_gt = Phylo.read(f'{path}/{model}/{simid}/gt_tree.nwk', 'newick')\n",
    "            for i in tree_gt.get_terminals():\n",
    "                for j in tree_gt.get_path(i)[::-1][1:]:\n",
    "                    if len(j.clades) == 1:\n",
    "                        tree_gt.collapse(j)\n",
    "            tree_ndna = Phylo.read(f'{path}/{model}/{simid}/dna_mut.phy_nj.nwk', 'newick')\n",
    "        else:\n",
    "            tree_gt = Phylo.read(f'{path}/{model}/{simid}/gt_tree_{gen}.nwk', 'newick')\n",
    "            tree_ndna = Phylo.read(f'{path}/{model}/{simid}/dna_mut_{gen}.phy_nj.nwk', 'newick')\n",
    "        rf_ndna = robinson_foulds(tree_gt, tree_ndna)\n",
    "        f.write(f\"{model}\\tnDNA\\t0\\t{gen}\\t0\\t{rf_ndna[0]}\\t{rf_ndna[1]}\\n\")\n",
    "        for seq in ['', '_seq']:\n",
    "            for cutoff in [0, 0.01]:\n",
    "                tree_mt = Phylo.read(f'{path}/{model}/{simid}/mt_allmuts_{gen}_{cutoff}.phy_nj.nwk', 'newick')\n",
    "                rf_mt = robinson_foulds(tree_gt, tree_mt)\n",
    "                f.write(f\"{model}\\tmtDNA\\t{seq}\\t{gen}\\t{cutoff}\\t{rf_mt[0]}\\t{rf_mt[1]}\\n\")\n",
    "        "
   ]
  },
  {
   "cell_type": "code",
   "execution_count": 30,
   "id": "dcabe69d-b24f-40f2-8f2e-910f5d70c714",
   "metadata": {},
   "outputs": [],
   "source": [
    "model = 'const_0'\n",
    "simid = '152872'"
   ]
  },
  {
   "cell_type": "code",
   "execution_count": 32,
   "id": "b435ee64-2129-4d2f-ae9a-1c8ce653045b",
   "metadata": {},
   "outputs": [],
   "source": [
    "gen = ''"
   ]
  },
  {
   "cell_type": "code",
   "execution_count": 35,
   "id": "a2fdc965-045e-48ab-ba95-b2d849c4e95a",
   "metadata": {},
   "outputs": [],
   "source": [
    "tree_gt = Phylo.read(f'{path}/{model}/{simid}/gt_tree{gen}.nwk', 'newick')\n",
    "for i in tree_gt.get_terminals():\n",
    "    for j in tree_gt.get_path(i)[::-1][1:]:\n",
    "        if len(j.clades) == 1:\n",
    "            tree_gt.collapse(j)"
   ]
  },
  {
   "cell_type": "code",
   "execution_count": 37,
   "id": "8a0079f4-bee2-451e-b614-6c621ab2eccf",
   "metadata": {},
   "outputs": [],
   "source": [
    "tree_ndna = Phylo.read(f'{path}/{model}/{simid}/dna_mut.phy_nj.nwk', 'newick')"
   ]
  },
  {
   "cell_type": "code",
   "execution_count": 41,
   "id": "26f16d67-f113-4fd8-bb69-1079a3e3c0cd",
   "metadata": {},
   "outputs": [],
   "source": [
    "tree_mt0 = Phylo.read(f'{path}/{model}/{simid}/mt_allmuts_30_0.phy_nj.nwk', 'newick')"
   ]
  },
  {
   "cell_type": "code",
   "execution_count": 44,
   "id": "b777244a-4d0e-4d16-b83f-e90f0d96494d",
   "metadata": {},
   "outputs": [],
   "source": [
    "tree_mt1 = Phylo.read(f'{path}/{model}/{simid}/mt_allmuts_30_0.01.phy_nj.nwk', 'newick')"
   ]
  },
  {
   "cell_type": "code",
   "execution_count": 39,
   "id": "e01424bc-d55c-4e6f-9a33-edf5344b8535",
   "metadata": {},
   "outputs": [],
   "source": [
    "rf_ndna = robinson_foulds(tree_gt, tree_ndna)"
   ]
  },
  {
   "cell_type": "code",
   "execution_count": 42,
   "id": "c233e2a2-b79c-407f-bdf7-15ec7243510b",
   "metadata": {},
   "outputs": [],
   "source": [
    "rf_mt0 = robinson_foulds(tree_gt, tree_mt0)"
   ]
  },
  {
   "cell_type": "code",
   "execution_count": 46,
   "id": "4c994806-8992-4b2d-bc6e-7a8a7ee500f8",
   "metadata": {},
   "outputs": [],
   "source": [
    "rf_mt1 = robinson_foulds(tree_gt, tree_mt1)"
   ]
  },
  {
   "cell_type": "code",
   "execution_count": 40,
   "id": "a03df41d-242d-4005-bf52-783487c3d180",
   "metadata": {},
   "outputs": [
    {
     "data": {
      "text/plain": [
       "0.14944834503510532"
      ]
     },
     "execution_count": 40,
     "metadata": {},
     "output_type": "execute_result"
    }
   ],
   "source": [
    "rf_ndna[0]/rf_ndna[1]"
   ]
  },
  {
   "cell_type": "code",
   "execution_count": 43,
   "id": "ec8ba1df-0b08-4d38-9f72-01e1aa52cd44",
   "metadata": {},
   "outputs": [
    {
     "data": {
      "text/plain": [
       "0.7342026078234705"
      ]
     },
     "execution_count": 43,
     "metadata": {},
     "output_type": "execute_result"
    }
   ],
   "source": [
    "rf_mt0[0]/rf_mt0[1]"
   ]
  },
  {
   "cell_type": "code",
   "execution_count": 47,
   "id": "11d2492f-6a53-464e-9e9f-f34450e8122e",
   "metadata": {},
   "outputs": [
    {
     "data": {
      "text/plain": [
       "0.921765295887663"
      ]
     },
     "execution_count": 47,
     "metadata": {},
     "output_type": "execute_result"
    }
   ],
   "source": [
    "rf_mt1[0]/rf_mt1[1]"
   ]
  },
  {
   "cell_type": "code",
   "execution_count": null,
   "id": "4dc4ef4b-ffbb-4c00-bc7d-deca385c974a",
   "metadata": {},
   "outputs": [],
   "source": []
  }
 ],
 "metadata": {
  "kernelspec": {
   "display_name": "Python 3 (ipykernel)",
   "language": "python",
   "name": "python3"
  },
  "language_info": {
   "codemirror_mode": {
    "name": "ipython",
    "version": 3
   },
   "file_extension": ".py",
   "mimetype": "text/x-python",
   "name": "python",
   "nbconvert_exporter": "python",
   "pygments_lexer": "ipython3",
   "version": "3.9.12"
  }
 },
 "nbformat": 4,
 "nbformat_minor": 5
}
